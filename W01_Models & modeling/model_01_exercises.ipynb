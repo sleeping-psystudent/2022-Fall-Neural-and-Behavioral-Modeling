{
 "cells": [
  {
   "cell_type": "markdown",
   "metadata": {},
   "source": [
    "# Neural & Behavioral Modeling - Week 1 (Exercises)\n",
    "by 李采蓉 b08207042@ntu.edu.tw"
   ]
  },
  {
   "cell_type": "code",
   "execution_count": 1,
   "metadata": {},
   "outputs": [],
   "source": [
    "%config IPCompleter.greedy=True \n",
    "%matplotlib inline\n",
    "from numpy import *\n",
    "from matplotlib.pyplot import *\n",
    "from IPython.display import *"
   ]
  },
  {
   "cell_type": "markdown",
   "metadata": {},
   "source": [
    "## 1 Party Simulation (5 points)\n",
    "This is a model of a cocktail party. The men and women at the party form groups. A party-goer becomes uncomfortable and switches groups if their current group has too many members of the opposite sex."
   ]
  },
  {
   "cell_type": "markdown",
   "metadata": {},
   "source": [
    "### 1.1 Insert your codes to complete the simulation (2 points)"
   ]
  },
  {
   "cell_type": "markdown",
   "metadata": {},
   "source": [
    "**思路**：\n",
    "+ 找出unhappy組別\n",
    "+ 找出多數\n",
    "+ 確認多數是否大於tolerance\n",
    "    + 如果大於，對少數施用Person.leave()\n",
    "    + 如果小於等於，計入Nhappy人數中"
   ]
  },
  {
   "cell_type": "code",
   "execution_count": 52,
   "metadata": {},
   "outputs": [
    {
     "data": {
      "image/png": "[encoded data removed]",
      "text/plain": [
       "<Figure size 432x288 with 1 Axes>"
      ]
     },
     "metadata": {
      "needs_background": "light"
     },
     "output_type": "display_data"
    }
   ],
   "source": [
    "# Model parameters:\n",
    "Ngroups=10\n",
    "Npeople=100  \n",
    "Tolerance=.25 # tolerable propotion of the opposite sex\n",
    "\n",
    "# Supporting functions:\n",
    "class Person:\n",
    "    def __init__(self, Ngroups):\n",
    "        self.sex = random.randint(2) # 0=woman; 1=man\n",
    "        self.Ngroups=Ngroups\n",
    "        self.group = random.randint(Ngroups) # staying in which group?\n",
    "        \n",
    "    def leave(self):\n",
    "        options=delete(arange(self.Ngroups),self.group) # except the current group\n",
    "        self.group = int(random.choice(options,1)) # choosing a new group\n",
    "    \n",
    "def party_stats(people): # calculate the number of men & women in each group\n",
    "    Npeople=len(people)\n",
    "    sexes=[people[i].sex for i in range(Npeople)]\n",
    "    groups=[people[i].group for i in range(Npeople)]\n",
    "    counts=zeros((max(groups)+1,max(sexes)+1))\n",
    "    # counts=[[女, 男]*10] (人數)\n",
    "    proportions=counts.copy()\n",
    "    for p in range(Npeople):\n",
    "        counts[groups[p],sexes[p]]+=1\n",
    "        # p在第幾組、什麼性別，該位置+1\n",
    "    men_plus_women=sum(counts,1) # number of men and women in each group\n",
    "    men_plus_women[men_plus_women==0]=inf # to avoid \"dividing by zeros later\n",
    "    proportions[:,0]=counts[:,0]/men_plus_women # proportion of women in each group\n",
    "    proportions[:,1]=counts[:,1]/men_plus_women # proportion of men in each group\n",
    "    # proportions=[[女, 男]*10] (比例)\n",
    "    return counts, proportions# size=group*sex\n",
    "\n",
    "def plot_party(counts):\n",
    "    x=arange(10) # number of groups\n",
    "    clf() # clear previous figure\n",
    "    bar(x, counts[:,0], color = 'r') # women\n",
    "    bar(x, counts[:,1], color = 'b', bottom = counts[:,0]) # men on top of women in the plot\n",
    "    display(gcf()); clear_output(wait=True) # to allow dynamic plots\n",
    "    \n",
    "# Initialization:\n",
    "people = [Person(Ngroups) for i in range(Npeople)] # 初始設定每個人的性別、組別\n",
    "Nhappy=0 # 滿意組內狀況人數\n",
    "\n",
    "# Simulation:\n",
    "while(Nhappy<Npeople): # Nhappy人數等於Npeople時會停下\n",
    "    Nhappy=0 # recounting after a new move\n",
    "    # Insert your codes here to make everyone happy:\n",
    "    # people = [Person(Ngroups) for i in range(Npeople)] # !! Remove this line !!\n",
    "    counts, proportions=party_stats(people) # size=group*sex\n",
    "    # Plot new results:\n",
    "    plot_party(counts)\n",
    "    for i in range(10): # 十組\n",
    "        # 找出哪個性別在組中佔多數\n",
    "        if(proportions[i][0]>proportions[i][1]):\n",
    "            majsex = 0\n",
    "        else: majsex = 1\n",
    "        \n",
    "        # 如果占多數的性別其組內比例超過tolerance，將組內占少數性別的人分散到其他組(leave())\n",
    "        if(proportions[i][majsex] > Tolerance and proportions[i][majsex]!=1):\n",
    "            for j in range(Npeople):\n",
    "                if(people[j].sex != majsex and people[j].group == i):\n",
    "                    people[j].leave()                   \n",
    "        # 全組相安無事，組內人數計入Nhappy中\n",
    "        else:\n",
    "            Nhappy+=(counts[i][0]+counts[i][1])\n",
    "counts, proportions=party_stats(people)\n",
    "plot_party(counts)"
   ]
  },
  {
   "cell_type": "markdown",
   "metadata": {},
   "source": [
    "### 1.2 Modify the three model parameters & discuss how each affects your simulations (2 points)"
   ]
  },
  {
   "cell_type": "markdown",
   "metadata": {},
   "source": [
    "**調整的參數**：\n",
    "1. Tolerance(忍受值)\n",
    "2. Category number(性別的種類)\n",
    "3. Ngroups & Npeople(組別數量與人數)"
   ]
  },
  {
   "cell_type": "markdown",
   "metadata": {},
   "source": [
    "#### 1. Tolerance diff\n",
    "##### Trial 1-1\n",
    "Tolerance=0.5"
   ]
  },
  {
   "cell_type": "code",
   "execution_count": 59,
   "metadata": {},
   "outputs": [
    {
     "data": {
      "image/png": "[encoded data removed]",
      "text/plain": [
       "<Figure size 432x288 with 1 Axes>"
      ]
     },
     "metadata": {
      "needs_background": "light"
     },
     "output_type": "display_data"
    }
   ],
   "source": [
    "# Model parameters:\n",
    "Ngroups=10\n",
    "Npeople=100  \n",
    "Tolerance=.5 # tolerable propotion of the opposite sex\n",
    "\n",
    "# Initialization:\n",
    "people = [Person(Ngroups) for i in range(Npeople)] # 初始設定每個人的性別、組別\n",
    "Nhappy=0 # 滿意組內狀況人數\n",
    "\n",
    "# Simulation:\n",
    "while(Nhappy<Npeople): # Simulation stops when everyone is happy\n",
    "    Nhappy=0 # recounting after a new move\n",
    "    counts, proportions=party_stats(people) # size=group*sex\n",
    "    plot_party(counts)\n",
    "    for i in range(10):\n",
    "        if(proportions[i][0]>proportions[i][1]):\n",
    "            majsex = 0\n",
    "        else: majsex = 1\n",
    "        if(proportions[i][majsex] > Tolerance and proportions[i][majsex]!=1):\n",
    "            for j in range(Npeople):\n",
    "                if(people[j].sex != majsex and people[j].group == i):\n",
    "                    people[j].leave()\n",
    "        else: Nhappy+=(counts[i][0]+counts[i][1])\n",
    "counts, proportions=party_stats(people)\n",
    "plot_party(counts)"
   ]
  },
  {
   "cell_type": "markdown",
   "metadata": {},
   "source": [
    "##### Trial 1-2\n",
    "Tolerance=0.75"
   ]
  },
  {
   "cell_type": "code",
   "execution_count": 56,
   "metadata": {},
   "outputs": [
    {
     "data": {
      "image/png": "[encoded data removed]",
      "text/plain": [
       "<Figure size 432x288 with 1 Axes>"
      ]
     },
     "metadata": {
      "needs_background": "light"
     },
     "output_type": "display_data"
    }
   ],
   "source": [
    "# Model parameters:\n",
    "Ngroups=10\n",
    "Npeople=100  \n",
    "Tolerance=.75 # tolerable propotion of the opposite sex\n",
    "\n",
    "# Initialization:\n",
    "people = [Person(Ngroups) for i in range(Npeople)] # 初始設定每個人的性別、組別\n",
    "Nhappy=0 # 滿意組內狀況人數\n",
    "\n",
    "# Simulation:\n",
    "while(Nhappy<Npeople): # Simulation stops when everyone is happy\n",
    "    Nhappy=0 # recounting after a new move\n",
    "    counts, proportions=party_stats(people) # size=group*sex\n",
    "    plot_party(counts)\n",
    "    for i in range(10):\n",
    "        if(proportions[i][0]>proportions[i][1]):\n",
    "            majsex = 0\n",
    "        else: majsex = 1\n",
    "        if(proportions[i][majsex] > Tolerance and proportions[i][majsex]!=1):\n",
    "            for j in range(Npeople):\n",
    "                if(people[j].sex != majsex and people[j].group == i):\n",
    "                    people[j].leave()\n",
    "        else: Nhappy+=(counts[i][0]+counts[i][1])\n",
    "counts, proportions=party_stats(people)\n",
    "plot_party(counts)"
   ]
  },
  {
   "cell_type": "markdown",
   "metadata": {},
   "source": [
    "**結果討論**：<br>\n",
    "在tolerance=0.25時，十組皆呈現單一色彩；在tolerance=0.5的情況開始出現同組內有兩種顏色的情況(不過很少)；在tolerance=0.75時可以明顯看到同組內兩性別共容的組別變多了。\n",
    "\n",
    "這是由於題目規定當組內佔多數的性別其比例超過tolerance時，佔少數性別的人士會被打散離開到別組去，而在二元性別的情況下所規範的「多數」，其意涵必為「大於50%」，這也就意味著假設今天的tolerance設定小於0.5，無論如何到最後各組內僅會剩下一種性別的人(組內少數都會被趕走)。這樣的解釋也予以上模擬相符，並且在tolerance=0.5時可以驚喜地發現出現共容(male proportion=0.5, female proportion=0.5)的情形，而共容也會因tolerance的增長使容忍範圍拉寬而有所增加，直至tolerance=0.75可以看到相比於tolerance=0.5有更多的共容組別。\n",
    "\n",
    "- 0 <= tolerance < 1/2 : 各組皆為單一性別\n",
    "- 1/2 <= tolerance : 單一性別和共容組別皆有出現\n",
    "\n",
    "---\n",
    "#### 2. Category diff\n",
    "**思路**：\n",
    "+ 多劃分一種第三性，將Person多設一種性別(2)\n",
    "+ party_stats需多設一類proportion\n",
    "+ plot_party需新增屬於others的顏色，以及調整其底下預留的高度(男+女)\n",
    "+ 迴圈內設定假若一組中占比最大的族群，若其比例大於tolerance，較小的兩族群便無法在組內繼續待下去\n",
    "+ 假若有兩組佔比最大族群，若其比例大於tolerance，較小的族群便無法在組內繼續待下去\n",
    "+ 如果三族群組內人數相同，若其比例大於tolerance，全部的族群皆無法在組內繼續待下去\n",
    "\n",
    "##### Trial 2-1\n",
    "Category num=3<br>\n",
    "Tolerance=0.25"
   ]
  },
  {
   "cell_type": "code",
   "execution_count": 28,
   "metadata": {},
   "outputs": [
    {
     "data": {
      "image/png": "[encoded data removed]",
      "text/plain": [
       "<Figure size 432x288 with 1 Axes>"
      ]
     },
     "metadata": {
      "needs_background": "light"
     },
     "output_type": "display_data"
    }
   ],
   "source": [
    "# Model parameters:\n",
    "Ngroups=10\n",
    "Npeople=100  \n",
    "Tolerance=.25 # tolerable propotion of the opposite sex\n",
    "\n",
    "# Supporting functions:\n",
    "class Person:\n",
    "    def __init__(self, Ngroups):\n",
    "        self.sex = random.randint(3) # 0=woman; 1=man; 2=others\n",
    "        self.Ngroups=Ngroups\n",
    "        self.group = random.randint(Ngroups) # staying in which group?\n",
    "        \n",
    "    def leave(self):\n",
    "        options=delete(arange(self.Ngroups),self.group) # except the current group\n",
    "        self.group = int(random.choice(options,1)) # choosing a new group\n",
    "    \n",
    "def party_stats(people): # calculate the number of men & women in each group\n",
    "    Npeople=len(people)\n",
    "    sexes=[people[i].sex for i in range(Npeople)]\n",
    "    groups=[people[i].group for i in range(Npeople)]\n",
    "    counts=zeros((max(groups)+1,max(sexes)+1))\n",
    "    # counts=[[女, 男, 其他]*10] (人數)\n",
    "    proportions=counts.copy()\n",
    "    for p in range(Npeople):\n",
    "        counts[groups[p],sexes[p]]+=1\n",
    "        # p在第幾組、什麼性別，該位置+1\n",
    "    all_people=sum(counts,1) # number of men and women in each group\n",
    "    all_people[all_people==0]=inf # to avoid \"dividing by zeros later\n",
    "    proportions[:,0]=counts[:,0]/all_people # proportion of women in each group\n",
    "    proportions[:,1]=counts[:,1]/all_people # proportion of men in each group\n",
    "    proportions[:,2]=counts[:,2]/all_people # proportion of others in each group\n",
    "    # proportions=[[女, 男, 其他]*10] (比例)\n",
    "    return counts, proportions# size=group*sex\n",
    "\n",
    "def plot_party(counts):\n",
    "    x=arange(10) # number of groups\n",
    "    clf() # clear previous figure\n",
    "    bar(x, counts[:,0], color = 'r') # women\n",
    "    bar(x, counts[:,1], color = 'b', bottom = counts[:,0]) # men on top of women in the plot\n",
    "    bar(x, counts[:,2], color = 'g', bottom = counts[:,0]+counts[:,1]) # men on top of women in the plot\n",
    "    display(gcf()); clear_output(wait=True) # to allow dynamic plots\n",
    "    \n",
    "# Initialization:\n",
    "people = [Person(Ngroups) for i in range(Npeople)] # assign each person to a group\n",
    "# 初始設定每個人的性別、組別\n",
    "Nhappy=0 # Number of happy people\n",
    "# 滿意組內狀況人數\n",
    "\n",
    "# Simulation:\n",
    "while(Nhappy<Npeople): # Simulation stops when everyone is happy\n",
    "    Nhappy=0 # recounting after a new move\n",
    "    # Insert your codes here to make everyone happy:\n",
    "    counts, proportions=party_stats(people) # size=group*sex\n",
    "    # Plot new results:\n",
    "    plot_party(counts)\n",
    "    \n",
    "    for i in range(10):\n",
    "        majsex2 = 3\n",
    "        # 三個人數一樣多\n",
    "        if(proportions[i][0]==proportions[i][1] and proportions[i][0]==proportions[i][2]): majsex = 3\n",
    "        # 有一個最多\n",
    "        elif(max(proportions[i][0], proportions[i][1], proportions[i][2])==proportions[i][0]):\n",
    "            majsex = 0\n",
    "            # 還是兩個最多\n",
    "            if(proportions[i][0]==proportions[i][1]): majsex2 = 1\n",
    "            elif(proportions[i][0]==proportions[i][2]): majsex2 = 2\n",
    "        elif(max(proportions[i][0], proportions[i][1], proportions[i][2])==proportions[i][1]):\n",
    "            majsex = 1\n",
    "            if(proportions[i][1]==proportions[i][2]): majsex2 = 2\n",
    "        elif(max(proportions[i][0], proportions[i][1], proportions[i][2])==proportions[i][2]):\n",
    "            majsex = 2\n",
    "        \n",
    "        if(majsex==3 and proportions[i][0]> Tolerance):\n",
    "            for j in range(Npeople):\n",
    "                if(people[j].group==i):\n",
    "                    people[j].leave()\n",
    "        elif(majsex != 3 and proportions[i][majsex]> Tolerance and proportions[i][majsex]!=1):\n",
    "            for j in range(Npeople):\n",
    "                if(people[j].sex != majsex and people[j].sex != majsex2 and people[j].group == i):\n",
    "                    people[j].leave()\n",
    "        else: Nhappy+=(counts[i][0]+counts[i][1]+counts[i][2])\n",
    "counts, proportions=party_stats(people)\n",
    "plot_party(counts)"
   ]
  },
  {
   "cell_type": "markdown",
   "metadata": {},
   "source": [
    "##### Trial 2-2\n",
    "Category num=3<br>\n",
    "Tolerance=0.4"
   ]
  },
  {
   "cell_type": "code",
   "execution_count": 41,
   "metadata": {},
   "outputs": [
    {
     "data": {
      "image/png": "[encoded data removed]",
      "text/plain": [
       "<Figure size 432x288 with 1 Axes>"
      ]
     },
     "metadata": {
      "needs_background": "light"
     },
     "output_type": "display_data"
    }
   ],
   "source": [
    "# Model parameters:\n",
    "Ngroups=10\n",
    "Npeople=100  \n",
    "Tolerance=0.4 # tolerable propotion of the opposite sex\n",
    "\n",
    "# Initialization:\n",
    "people = [Person(Ngroups) for i in range(Npeople)] # 初始設定每個人的性別、組別\n",
    "Nhappy=0 # 滿意組內狀況人數\n",
    "\n",
    "# Simulation:\n",
    "while(Nhappy<Npeople): # Simulation stops when everyone is happy\n",
    "    Nhappy=0 # recounting after a new move\n",
    "    # Insert your codes here to make everyone happy:\n",
    "    counts, proportions=party_stats(people) # size=group*sex\n",
    "    # Plot new results:\n",
    "    plot_party(counts)\n",
    "    \n",
    "    for i in range(10):\n",
    "        majsex2 = 3\n",
    "        # 三個人數一樣多\n",
    "        if(proportions[i][0]==proportions[i][1] and proportions[i][0]==proportions[i][2]): majsex = 3\n",
    "        # 有一個最多\n",
    "        elif(max(proportions[i][0], proportions[i][1], proportions[i][2])==proportions[i][0]):\n",
    "            majsex = 0\n",
    "            # 還是兩個最多\n",
    "            if(proportions[i][0]==proportions[i][1]): majsex2 = 1\n",
    "            elif(proportions[i][0]==proportions[i][2]): majsex2 = 2\n",
    "        elif(max(proportions[i][0], proportions[i][1], proportions[i][2])==proportions[i][1]):\n",
    "            majsex = 1\n",
    "            if(proportions[i][1]==proportions[i][2]): majsex2 = 2\n",
    "        elif(max(proportions[i][0], proportions[i][1], proportions[i][2])==proportions[i][2]):\n",
    "            majsex = 2\n",
    "        \n",
    "        if(majsex==3 and proportions[i][0]> Tolerance):\n",
    "            for j in range(Npeople):\n",
    "                if(people[j].group==i):\n",
    "                    people[j].leave()\n",
    "        elif(majsex != 3 and proportions[i][majsex]> Tolerance and proportions[i][majsex]!=1):\n",
    "            for j in range(Npeople):\n",
    "                if(people[j].sex != majsex and people[j].sex != majsex2 and people[j].group == i):\n",
    "                    people[j].leave()\n",
    "        else: Nhappy+=(counts[i][0]+counts[i][1]+counts[i][2])\n",
    "counts, proportions=party_stats(people)\n",
    "plot_party(counts)"
   ]
  },
  {
   "cell_type": "markdown",
   "metadata": {},
   "source": [
    "##### Trial 2-3\n",
    "Category num=3<br>\n",
    "Tolerance=0.5"
   ]
  },
  {
   "cell_type": "code",
   "execution_count": 8,
   "metadata": {},
   "outputs": [
    {
     "data": {
      "image/png": "[encoded data removed]",
      "text/plain": [
       "<Figure size 432x288 with 1 Axes>"
      ]
     },
     "metadata": {
      "needs_background": "light"
     },
     "output_type": "display_data"
    }
   ],
   "source": [
    "# Model parameters:\n",
    "Ngroups=10\n",
    "Npeople=100  \n",
    "Tolerance=.5 # tolerable propotion of the opposite sex\n",
    "\n",
    "# Initialization:\n",
    "people = [Person(Ngroups) for i in range(Npeople)] # 初始設定每個人的性別、組別\n",
    "Nhappy=0 # 滿意組內狀況人數\n",
    "\n",
    "# Simulation:\n",
    "while(Nhappy<Npeople): # Simulation stops when everyone is happy\n",
    "    Nhappy=0 # recounting after a new move\n",
    "    # Insert your codes here to make everyone happy:\n",
    "    counts, proportions=party_stats(people) # size=group*sex\n",
    "    # Plot new results:\n",
    "    plot_party(counts)\n",
    "    \n",
    "    for i in range(10):\n",
    "        majsex2 = 3\n",
    "        # 三個人數一樣多\n",
    "        if(proportions[i][0]==proportions[i][1] and proportions[i][0]==proportions[i][2]): majsex = 3\n",
    "        # 有一個最多\n",
    "        elif(max(proportions[i][0], proportions[i][1], proportions[i][2])==proportions[i][0]):\n",
    "            majsex = 0\n",
    "            # 還是兩個最多\n",
    "            if(proportions[i][0]==proportions[i][1]): majsex2 = 1\n",
    "            elif(proportions[i][0]==proportions[i][2]): majsex2 = 2\n",
    "        elif(max(proportions[i][0], proportions[i][1], proportions[i][2])==proportions[i][1]):\n",
    "            majsex = 1\n",
    "            if(proportions[i][1]==proportions[i][2]): majsex2 = 2\n",
    "        elif(max(proportions[i][0], proportions[i][1], proportions[i][2])==proportions[i][2]):\n",
    "            majsex = 2\n",
    "        \n",
    "        if(majsex==3 and proportions[i][0]> Tolerance):\n",
    "            for j in range(Npeople):\n",
    "                if(people[j].group==i):\n",
    "                    people[j].leave()\n",
    "        elif(majsex != 3 and proportions[i][majsex]> Tolerance and proportions[i][majsex]!=1):\n",
    "            for j in range(Npeople):\n",
    "                if(people[j].sex != majsex and people[j].sex != majsex2 and people[j].group == i):\n",
    "                    people[j].leave()\n",
    "        else: Nhappy+=(counts[i][0]+counts[i][1]+counts[i][2])\n",
    "counts, proportions=party_stats(people)\n",
    "plot_party(counts)"
   ]
  },
  {
   "cell_type": "markdown",
   "metadata": {},
   "source": [
    "##### Trial 2-4\n",
    "Category num=3<br>\n",
    "Tolerance=0.75"
   ]
  },
  {
   "cell_type": "code",
   "execution_count": 10,
   "metadata": {},
   "outputs": [
    {
     "data": {
      "image/png": "[encoded data removed]",
      "text/plain": [
       "<Figure size 432x288 with 1 Axes>"
      ]
     },
     "metadata": {
      "needs_background": "light"
     },
     "output_type": "display_data"
    }
   ],
   "source": [
    "# Model parameters:\n",
    "Ngroups=10\n",
    "Npeople=100  \n",
    "Tolerance=.75 # tolerable propotion of the opposite sex\n",
    "\n",
    "# Initialization:\n",
    "people = [Person(Ngroups) for i in range(Npeople)] # 初始設定每個人的性別、組別\n",
    "Nhappy=0 # 滿意組內狀況人數\n",
    "\n",
    "# Simulation:\n",
    "while(Nhappy<Npeople): # Simulation stops when everyone is happy\n",
    "    Nhappy=0 # recounting after a new move\n",
    "    # Insert your codes here to make everyone happy:\n",
    "    counts, proportions=party_stats(people) # size=group*sex\n",
    "    # Plot new results:\n",
    "    plot_party(counts)\n",
    "    \n",
    "    for i in range(10):\n",
    "        majsex2 = 3\n",
    "        # 三個人數一樣多\n",
    "        if(proportions[i][0]==proportions[i][1] and proportions[i][0]==proportions[i][2]): majsex = 3\n",
    "        # 有一個最多\n",
    "        elif(max(proportions[i][0], proportions[i][1], proportions[i][2])==proportions[i][0]):\n",
    "            majsex = 0\n",
    "            # 還是兩個最多\n",
    "            if(proportions[i][0]==proportions[i][1]): majsex2 = 1\n",
    "            elif(proportions[i][0]==proportions[i][2]): majsex2 = 2\n",
    "        elif(max(proportions[i][0], proportions[i][1], proportions[i][2])==proportions[i][1]):\n",
    "            majsex = 1\n",
    "            if(proportions[i][1]==proportions[i][2]): majsex2 = 2\n",
    "        elif(max(proportions[i][0], proportions[i][1], proportions[i][2])==proportions[i][2]):\n",
    "            majsex = 2\n",
    "        \n",
    "        if(majsex==3 and proportions[i][0]> Tolerance):\n",
    "            for j in range(Npeople):\n",
    "                if(people[j].group==i):\n",
    "                    people[j].leave()\n",
    "        elif(majsex != 3 and proportions[i][majsex]> Tolerance and proportions[i][majsex]!=1):\n",
    "            for j in range(Npeople):\n",
    "                if(people[j].sex != majsex and people[j].sex != majsex2 and people[j].group == i):\n",
    "                    people[j].leave()\n",
    "        else: Nhappy+=(counts[i][0]+counts[i][1]+counts[i][2])\n",
    "counts, proportions=party_stats(people)\n",
    "plot_party(counts)"
   ]
  },
  {
   "cell_type": "markdown",
   "metadata": {},
   "source": [
    "**結果討論**:<br>\n",
    "在第一個參數調整的試驗中我們有講到，因為「二元性別」的關係致使tolerance的大小成為使否會走向極端的關鍵，所以在第二個參數調整的試驗，將二元性別中加入第三性。其規則更改為，假若組內佔最多數的性別，其組內比例大於tolerance，具有其餘兩個比例佔比較小性別的人士就會離開該組；若是組內三個性別佔比相同就依照是否大於tolerance決定是要全部離開還是少數離開；如果最大佔比有兩組且大於tolerance，佔最少性別比的人將離開。\n",
    "\n",
    "從試驗中可以觀察到，基本上在小於0.5的情況下，單一性別的組別還是佔多數，如果依據數學上的推論來說，其實在tolerance=0.333333的時候應該就會開始出現共容的組別(因為有三個性別的組內人數皆相同的可能)，但由於重複試驗的次數少，因此最後選定更高更容易觀察到共容的0.4作展示。在tolerance大於0.5時，單一性別的組數出線機率幾乎為0，觀察下來大致可以將三種性別的情況劃分為：\n",
    "\n",
    "- 0 <= tolerance < 1/3 : 各組皆為單一性別\n",
    "- 1/3 <= tolerance < 1/2 : 單一性別和共容組別皆有出現\n",
    "- 1/2 <= tolerance : 幾乎為共容組別\n",
    "\n",
    "---\n",
    "#### 3. Ngroups & Npeople diff\n",
    "##### Trial 3-1\n",
    "Ngroups=100<br>\n",
    "Npeople=10000<br>\n",
    "Category num=2<br>\n",
    "Tolerance=0.25"
   ]
  },
  {
   "cell_type": "code",
   "execution_count": 17,
   "metadata": {},
   "outputs": [
    {
     "data": {
      "image/png": "[encoded data removed]",
      "text/plain": [
       "<Figure size 432x288 with 1 Axes>"
      ]
     },
     "metadata": {
      "needs_background": "light"
     },
     "output_type": "display_data"
    }
   ],
   "source": [
    "# Model parameters:\n",
    "Ngroups=100\n",
    "Npeople=10000  \n",
    "Tolerance=.25 # tolerable propotion of the opposite sex\n",
    "\n",
    "# Supporting functions:\n",
    "class Person:\n",
    "    def __init__(self, Ngroups):\n",
    "        self.sex = random.randint(2) # 0=woman; 1=man\n",
    "        self.Ngroups=Ngroups\n",
    "        self.group = random.randint(Ngroups) # staying in which group?\n",
    "        \n",
    "    def leave(self):\n",
    "        options=delete(arange(self.Ngroups),self.group) # except the current group\n",
    "        self.group = int(random.choice(options,1)) # choosing a new group\n",
    "    \n",
    "def party_stats(people): # calculate the number of men & women in each group\n",
    "    Npeople=len(people)\n",
    "    sexes=[people[i].sex for i in range(Npeople)]\n",
    "    groups=[people[i].group for i in range(Npeople)]\n",
    "    counts=zeros((max(groups)+1,max(sexes)+1))\n",
    "    # counts=[[女, 男]*10] (人數)\n",
    "    proportions=counts.copy()\n",
    "    for p in range(Npeople):\n",
    "        counts[groups[p],sexes[p]]+=1\n",
    "        # p在第幾組、什麼性別，該位置+1\n",
    "    men_plus_women=sum(counts,1) # number of men and women in each group\n",
    "    men_plus_women[men_plus_women==0]=inf # to avoid \"dividing by zeros later\n",
    "    proportions[:,0]=counts[:,0]/men_plus_women # proportion of women in each group\n",
    "    proportions[:,1]=counts[:,1]/men_plus_women # proportion of men in each group\n",
    "    # proportions=[[女, 男]*10] (比例)\n",
    "    return counts, proportions# size=group*sex\n",
    "\n",
    "def plot_party(counts):\n",
    "    x=arange(100) # number of groups\n",
    "    clf() # clear previous figure\n",
    "    bar(x, counts[:,0], color = 'r') # women\n",
    "    bar(x, counts[:,1], color = 'b', bottom = counts[:,0]) # men on top of women in the plot\n",
    "    display(gcf()); clear_output(wait=True) # to allow dynamic plots\n",
    "    \n",
    "# Initialization:\n",
    "people = [Person(Ngroups) for i in range(Npeople)] # assign each person to a group\n",
    "# 初始設定每個人的性別、組別\n",
    "Nhappy=0 # Number of happy people\n",
    "# 滿意組內狀況人數\n",
    "\n",
    "# Simulation:\n",
    "while(Nhappy<Npeople): # Simulation stops when everyone is happy\n",
    "    Nhappy=0 # recounting after a new move\n",
    "    # Insert your codes here to make everyone happy:\n",
    "    # people = [Person(Ngroups) for i in range(Npeople)] # !! Remove this line !!\n",
    "    counts, proportions=party_stats(people) # size=group*sex\n",
    "    # Plot new results:\n",
    "    plot_party(counts)\n",
    "    for i in range(100):\n",
    "        if(proportions[i][0]>proportions[i][1]):\n",
    "            majsex = 0\n",
    "        else: majsex = 1\n",
    "            \n",
    "        if(proportions[i][majsex] > Tolerance and proportions[i][majsex]!=1):\n",
    "            for j in range(Npeople):\n",
    "                if(people[j].sex != majsex and people[j].group == i):\n",
    "                    people[j].leave()\n",
    "        else:\n",
    "            Nhappy+=(counts[i][0]+counts[i][1])\n",
    "counts, proportions=party_stats(people)\n",
    "plot_party(counts)"
   ]
  },
  {
   "cell_type": "markdown",
   "metadata": {},
   "source": [
    "##### Trial 3-2\n",
    "Ngroups=100<br>\n",
    "Npeople=10000<br>\n",
    "Category num=2<br>\n",
    "Tolerance=0.5"
   ]
  },
  {
   "cell_type": "code",
   "execution_count": 27,
   "metadata": {},
   "outputs": [
    {
     "data": {
      "image/png": "[encoded data removed]",
      "text/plain": [
       "<Figure size 432x288 with 1 Axes>"
      ]
     },
     "metadata": {
      "needs_background": "light"
     },
     "output_type": "display_data"
    }
   ],
   "source": [
    "# Model parameters:\n",
    "Ngroups=100\n",
    "Npeople=10000  \n",
    "Tolerance=.5 # tolerable propotion of the opposite sex\n",
    "\n",
    "# Initialization:\n",
    "people = [Person(Ngroups) for i in range(Npeople)] # 初始設定每個人的性別、組別\n",
    "Nhappy=0 # 滿意組內狀況人數\n",
    "\n",
    "# Simulation:\n",
    "while(Nhappy<Npeople): # Simulation stops when everyone is happy\n",
    "    Nhappy=0 # recounting after a new move\n",
    "    counts, proportions=party_stats(people) # size=group*sex\n",
    "    plot_party(counts)\n",
    "    for i in range(100):\n",
    "        if(proportions[i][0]>proportions[i][1]):\n",
    "            majsex = 0\n",
    "        else: majsex = 1\n",
    "        if(proportions[i][majsex] > Tolerance and proportions[i][majsex]!=1):\n",
    "            for j in range(Npeople):\n",
    "                if(people[j].sex != majsex and people[j].group == i):\n",
    "                    people[j].leave()\n",
    "        else: Nhappy+=(counts[i][0]+counts[i][1])\n",
    "counts, proportions=party_stats(people)\n",
    "plot_party(counts)"
   ]
  },
  {
   "cell_type": "markdown",
   "metadata": {},
   "source": [
    "##### Trial 3-3\n",
    "Ngroups=100<br>\n",
    "Npeople=10000<br>\n",
    "Category num=2<br>\n",
    "Tolerance=0.75"
   ]
  },
  {
   "cell_type": "code",
   "execution_count": 10,
   "metadata": {},
   "outputs": [
    {
     "data": {
      "image/png": "[encoded data removed]",
      "text/plain": [
       "<Figure size 432x288 with 1 Axes>"
      ]
     },
     "metadata": {
      "needs_background": "light"
     },
     "output_type": "display_data"
    }
   ],
   "source": [
    "# Model parameters:\n",
    "Ngroups=100\n",
    "Npeople=10000  \n",
    "Tolerance=.75 # tolerable propotion of the opposite sex\n",
    "\n",
    "# Initialization:\n",
    "people = [Person(Ngroups) for i in range(Npeople)] # 初始設定每個人的性別、組別\n",
    "Nhappy=0 # 滿意組內狀況人數\n",
    "\n",
    "# Simulation:\n",
    "while(Nhappy<Npeople): # Simulation stops when everyone is happy\n",
    "    Nhappy=0 # recounting after a new move\n",
    "    counts, proportions=party_stats(people) # size=group*sex\n",
    "    plot_party(counts)\n",
    "    for i in range(100):\n",
    "        if(proportions[i][0]>proportions[i][1]):\n",
    "            majsex = 0\n",
    "        else: majsex = 1\n",
    "        if(proportions[i][majsex] > Tolerance and proportions[i][majsex]!=1):\n",
    "            for j in range(Npeople):\n",
    "                if(people[j].sex != majsex and people[j].group == i):\n",
    "                    people[j].leave()\n",
    "        else: Nhappy+=(counts[i][0]+counts[i][1])\n",
    "counts, proportions=party_stats(people)\n",
    "plot_party(counts)"
   ]
  },
  {
   "cell_type": "markdown",
   "metadata": {},
   "source": [
    "##### Trial 3-4\n",
    "Ngroups=100<br>\n",
    "Npeople=10000<br>\n",
    "Category num=3<br>\n",
    "Tolerance=0.25"
   ]
  },
  {
   "cell_type": "code",
   "execution_count": 49,
   "metadata": {},
   "outputs": [
    {
     "data": {
      "image/png": "[encoded data removed]",
      "text/plain": [
       "<Figure size 432x288 with 1 Axes>"
      ]
     },
     "metadata": {
      "needs_background": "light"
     },
     "output_type": "display_data"
    }
   ],
   "source": [
    "# Model parameters:\n",
    "Ngroups=100\n",
    "Npeople=10000  \n",
    "Tolerance=.25 # tolerable propotion of the opposite sex\n",
    "\n",
    "# Supporting functions:\n",
    "class Person:\n",
    "    def __init__(self, Ngroups):\n",
    "        self.sex = random.randint(3) # 0=woman; 1=man; 2=others\n",
    "        self.Ngroups=Ngroups\n",
    "        self.group = random.randint(Ngroups) # staying in which group?\n",
    "        \n",
    "    def leave(self):\n",
    "        options=delete(arange(self.Ngroups),self.group) # except the current group\n",
    "        self.group = int(random.choice(options,1)) # choosing a new group\n",
    "    \n",
    "def party_stats(people): # calculate the number of men & women in each group\n",
    "    Npeople=len(people)\n",
    "    sexes=[people[i].sex for i in range(Npeople)]\n",
    "    groups=[people[i].group for i in range(Npeople)]\n",
    "    counts=zeros((max(groups)+1,max(sexes)+1))\n",
    "    # counts=[[女, 男, 其他]*10] (人數)\n",
    "    proportions=counts.copy()\n",
    "    for p in range(Npeople):\n",
    "        counts[groups[p],sexes[p]]+=1\n",
    "        # p在第幾組、什麼性別，該位置+1\n",
    "    all_people=sum(counts,1) # number of men and women in each group\n",
    "    all_people[all_people==0]=inf # to avoid \"dividing by zeros later\n",
    "    proportions[:,0]=counts[:,0]/all_people # proportion of women in each group\n",
    "    proportions[:,1]=counts[:,1]/all_people # proportion of men in each group\n",
    "    proportions[:,2]=counts[:,2]/all_people # proportion of others in each group\n",
    "    # proportions=[[女, 男, 其他]*10] (比例)\n",
    "    return counts, proportions# size=group*sex\n",
    "\n",
    "def plot_party(counts):\n",
    "    x=arange(100) # number of groups\n",
    "    clf() # clear previous figure\n",
    "    bar(x, counts[:,0], color = 'r') # women\n",
    "    bar(x, counts[:,1], color = 'b', bottom = counts[:,0]) # men on top of women in the plot\n",
    "    bar(x, counts[:,2], color = 'g', bottom = counts[:,0]+counts[:,1]) # men on top of women in the plot\n",
    "    display(gcf()); clear_output(wait=True) # to allow dynamic plots\n",
    "    \n",
    "# Initialization:\n",
    "people = [Person(Ngroups) for i in range(Npeople)] # assign each person to a group\n",
    "# 初始設定每個人的性別、組別\n",
    "Nhappy=0 # Number of happy people\n",
    "# 滿意組內狀況人數\n",
    "\n",
    "# Simulation:\n",
    "while(Nhappy<Npeople): # Simulation stops when everyone is happy\n",
    "    Nhappy=0 # recounting after a new move\n",
    "    # Insert your codes here to make everyone happy:\n",
    "    counts, proportions=party_stats(people) # size=group*sex\n",
    "    # Plot new results:\n",
    "    plot_party(counts)\n",
    "    \n",
    "    for i in range(100):\n",
    "        majsex2 = 3\n",
    "        # 三個人數一樣多\n",
    "        if(proportions[i][0]==proportions[i][1] and proportions[i][0]==proportions[i][2]): majsex = 3\n",
    "        # 有一個最多\n",
    "        elif(max(proportions[i][0], proportions[i][1], proportions[i][2])==proportions[i][0]):\n",
    "            majsex = 0\n",
    "            # 還是兩個最多\n",
    "            if(proportions[i][0]==proportions[i][1]): majsex2 = 1\n",
    "            elif(proportions[i][0]==proportions[i][2]): majsex2 = 2\n",
    "        elif(max(proportions[i][0], proportions[i][1], proportions[i][2])==proportions[i][1]):\n",
    "            majsex = 1\n",
    "            if(proportions[i][1]==proportions[i][2]): majsex2 = 2\n",
    "        elif(max(proportions[i][0], proportions[i][1], proportions[i][2])==proportions[i][2]):\n",
    "            majsex = 2\n",
    "        \n",
    "        if(majsex==3 and proportions[i][0]> Tolerance):\n",
    "            for j in range(Npeople):\n",
    "                if(people[j].group==i):\n",
    "                    people[j].leave()\n",
    "        elif(majsex != 3 and proportions[i][majsex]> Tolerance and proportions[i][majsex]!=1):\n",
    "            for j in range(Npeople):\n",
    "                if(people[j].sex != majsex and people[j].sex != majsex2 and people[j].group == i):\n",
    "                    people[j].leave()\n",
    "        else: Nhappy+=(counts[i][0]+counts[i][1]+counts[i][2])\n",
    "counts, proportions=party_stats(people)\n",
    "plot_party(counts)"
   ]
  },
  {
   "cell_type": "markdown",
   "metadata": {},
   "source": [
    "##### Trial 3-5\n",
    "Ngroups=100<br>\n",
    "Npeople=10000<br>\n",
    "Category num=3<br>\n",
    "Tolerance=0.4"
   ]
  },
  {
   "cell_type": "code",
   "execution_count": 51,
   "metadata": {},
   "outputs": [
    {
     "data": {
      "image/png": "[encoded data removed]",
      "text/plain": [
       "<Figure size 432x288 with 1 Axes>"
      ]
     },
     "metadata": {
      "needs_background": "light"
     },
     "output_type": "display_data"
    }
   ],
   "source": [
    "# Model parameters:\n",
    "Ngroups=100\n",
    "Npeople=10000  \n",
    "Tolerance=.4 # tolerable propotion of the opposite sex\n",
    "\n",
    "# Initialization:\n",
    "people = [Person(Ngroups) for i in range(Npeople)] # 初始設定每個人的性別、組別\n",
    "Nhappy=0 # 滿意組內狀況人數\n",
    "\n",
    "# Simulation:\n",
    "while(Nhappy<Npeople): # Simulation stops when everyone is happy\n",
    "    Nhappy=0 # recounting after a new move\n",
    "    # Insert your codes here to make everyone happy:\n",
    "    counts, proportions=party_stats(people) # size=group*sex\n",
    "    # Plot new results:\n",
    "    plot_party(counts)\n",
    "    \n",
    "    for i in range(100):\n",
    "        majsex2 = 3\n",
    "        # 三個人數一樣多\n",
    "        if(proportions[i][0]==proportions[i][1] and proportions[i][0]==proportions[i][2]): majsex = 3\n",
    "        # 有一個最多\n",
    "        elif(max(proportions[i][0], proportions[i][1], proportions[i][2])==proportions[i][0]):\n",
    "            majsex = 0\n",
    "            # 還是兩個最多\n",
    "            if(proportions[i][0]==proportions[i][1]): majsex2 = 1\n",
    "            elif(proportions[i][0]==proportions[i][2]): majsex2 = 2\n",
    "        elif(max(proportions[i][0], proportions[i][1], proportions[i][2])==proportions[i][1]):\n",
    "            majsex = 1\n",
    "            if(proportions[i][1]==proportions[i][2]): majsex2 = 2\n",
    "        elif(max(proportions[i][0], proportions[i][1], proportions[i][2])==proportions[i][2]):\n",
    "            majsex = 2\n",
    "        \n",
    "        if(majsex==3 and proportions[i][0]> Tolerance):\n",
    "            for j in range(Npeople):\n",
    "                if(people[j].group==i):\n",
    "                    people[j].leave()\n",
    "        elif(majsex != 3 and proportions[i][majsex]> Tolerance and proportions[i][majsex]!=1):\n",
    "            for j in range(Npeople):\n",
    "                if(people[j].sex != majsex and people[j].sex != majsex2 and people[j].group == i):\n",
    "                    people[j].leave()\n",
    "        else: Nhappy+=(counts[i][0]+counts[i][1]+counts[i][2])\n",
    "counts, proportions=party_stats(people)\n",
    "plot_party(counts)"
   ]
  },
  {
   "cell_type": "markdown",
   "metadata": {},
   "source": [
    "##### Trial 3-6\n",
    "Ngroups=100<br>\n",
    "Npeople=10000<br>\n",
    "Category num=3<br>\n",
    "Tolerance=0.5"
   ]
  },
  {
   "cell_type": "code",
   "execution_count": 16,
   "metadata": {},
   "outputs": [
    {
     "data": {
      "image/png": "[encoded data removed]",
      "text/plain": [
       "<Figure size 432x288 with 1 Axes>"
      ]
     },
     "metadata": {
      "needs_background": "light"
     },
     "output_type": "display_data"
    }
   ],
   "source": [
    "# Model parameters:\n",
    "Ngroups=100\n",
    "Npeople=10000  \n",
    "Tolerance=.5 # tolerable propotion of the opposite sex\n",
    "\n",
    "# Initialization:\n",
    "people = [Person(Ngroups) for i in range(Npeople)] # 初始設定每個人的性別、組別\n",
    "Nhappy=0 # 滿意組內狀況人數\n",
    "\n",
    "# Simulation:\n",
    "while(Nhappy<Npeople): # Simulation stops when everyone is happy\n",
    "    Nhappy=0 # recounting after a new move\n",
    "    # Insert your codes here to make everyone happy:\n",
    "    counts, proportions=party_stats(people) # size=group*sex\n",
    "    # Plot new results:\n",
    "    plot_party(counts)\n",
    "    \n",
    "    for i in range(100):\n",
    "        majsex2 = 3\n",
    "        # 三個人數一樣多\n",
    "        if(proportions[i][0]==proportions[i][1] and proportions[i][0]==proportions[i][2]): majsex = 3\n",
    "        # 有一個最多\n",
    "        elif(max(proportions[i][0], proportions[i][1], proportions[i][2])==proportions[i][0]):\n",
    "            majsex = 0\n",
    "            # 還是兩個最多\n",
    "            if(proportions[i][0]==proportions[i][1]): majsex2 = 1\n",
    "            elif(proportions[i][0]==proportions[i][2]): majsex2 = 2\n",
    "        elif(max(proportions[i][0], proportions[i][1], proportions[i][2])==proportions[i][1]):\n",
    "            majsex = 1\n",
    "            if(proportions[i][1]==proportions[i][2]): majsex2 = 2\n",
    "        elif(max(proportions[i][0], proportions[i][1], proportions[i][2])==proportions[i][2]):\n",
    "            majsex = 2\n",
    "        \n",
    "        if(majsex==3 and proportions[i][0]> Tolerance):\n",
    "            for j in range(Npeople):\n",
    "                if(people[j].group==i):\n",
    "                    people[j].leave()\n",
    "        elif(majsex != 3 and proportions[i][majsex]> Tolerance and proportions[i][majsex]!=1):\n",
    "            for j in range(Npeople):\n",
    "                if(people[j].sex != majsex and people[j].sex != majsex2 and people[j].group == i):\n",
    "                    people[j].leave()\n",
    "        else: Nhappy+=(counts[i][0]+counts[i][1]+counts[i][2])\n",
    "counts, proportions=party_stats(people)\n",
    "plot_party(counts)"
   ]
  },
  {
   "cell_type": "markdown",
   "metadata": {},
   "source": [
    "##### Trial 3-7\n",
    "Ngroups=100<br>\n",
    "Npeople=10000<br>\n",
    "Category num=3<br>\n",
    "Tolerance=0.75"
   ]
  },
  {
   "cell_type": "code",
   "execution_count": 14,
   "metadata": {},
   "outputs": [
    {
     "data": {
      "image/png": "[encoded data removed]",
      "text/plain": [
       "<Figure size 432x288 with 1 Axes>"
      ]
     },
     "metadata": {
      "needs_background": "light"
     },
     "output_type": "display_data"
    }
   ],
   "source": [
    "# Model parameters:\n",
    "Ngroups=100\n",
    "Npeople=10000  \n",
    "Tolerance=.75 # tolerable propotion of the opposite sex\n",
    "\n",
    "# Initialization:\n",
    "people = [Person(Ngroups) for i in range(Npeople)] # 初始設定每個人的性別、組別\n",
    "Nhappy=0 # 滿意組內狀況人數\n",
    "\n",
    "# Simulation:\n",
    "while(Nhappy<Npeople): # Simulation stops when everyone is happy\n",
    "    Nhappy=0 # recounting after a new move\n",
    "    # Insert your codes here to make everyone happy:\n",
    "    counts, proportions=party_stats(people) # size=group*sex\n",
    "    # Plot new results:\n",
    "    plot_party(counts)\n",
    "    \n",
    "    for i in range(100):\n",
    "        majsex2 = 3\n",
    "        # 三個人數一樣多\n",
    "        if(proportions[i][0]==proportions[i][1] and proportions[i][0]==proportions[i][2]): majsex = 3\n",
    "        # 有一個最多\n",
    "        elif(max(proportions[i][0], proportions[i][1], proportions[i][2])==proportions[i][0]):\n",
    "            majsex = 0\n",
    "            # 還是兩個最多\n",
    "            if(proportions[i][0]==proportions[i][1]): majsex2 = 1\n",
    "            elif(proportions[i][0]==proportions[i][2]): majsex2 = 2\n",
    "        elif(max(proportions[i][0], proportions[i][1], proportions[i][2])==proportions[i][1]):\n",
    "            majsex = 1\n",
    "            if(proportions[i][1]==proportions[i][2]): majsex2 = 2\n",
    "        elif(max(proportions[i][0], proportions[i][1], proportions[i][2])==proportions[i][2]):\n",
    "            majsex = 2\n",
    "        \n",
    "        if(majsex==3 and proportions[i][0]> Tolerance):\n",
    "            for j in range(Npeople):\n",
    "                if(people[j].group==i):\n",
    "                    people[j].leave()\n",
    "        elif(majsex != 3 and proportions[i][majsex]> Tolerance and proportions[i][majsex]!=1):\n",
    "            for j in range(Npeople):\n",
    "                if(people[j].sex != majsex and people[j].sex != majsex2 and people[j].group == i):\n",
    "                    people[j].leave()\n",
    "        else: Nhappy+=(counts[i][0]+counts[i][1]+counts[i][2])\n",
    "counts, proportions=party_stats(people)\n",
    "plot_party(counts)"
   ]
  },
  {
   "cell_type": "markdown",
   "metadata": {},
   "source": [
    "**結果討論**:<br>\n",
    "第三個參數調整試驗為擴大組別數和人數，觀察在大數下七種嘗試的變化。在二元性別的狀況下其實差別不大，比較詫異的是在tolerance=0.5時這一百組全為單一性別，不過考量到要讓一組有大約一百人上下，兩種性別要均等其實是蠻困難的一件事，就算剛好一樣人數，仍有可能因為下一輪中來自其他組別的人而打亂五五分的局勢。三種性別的情況就比較有明顯差異了，在tolerance=0.4時共容和單一性別組別數量上看起來差不多，這與人數組數較小時單一性別組為主的狀況有很大的不同，其原因就如上述所說，因人數增加導致要維持單一性別組別更為困難；在tolerance=0.5時，單一性別組已經非常稀少了，在tolerance=0.75時完全沒有，這與人數組數少時有很大的差別。\n",
    "\n",
    "此外還有一些其他發現，像是在大數和tolerance值大於$\\frac{1}{n}$時，縱觀來看各組的性別比會趨近相同；在共容和單一性別組同時出現時，單一性別組中的人數會遠遠低於共容組的人數。"
   ]
  },
  {
   "cell_type": "markdown",
   "metadata": {},
   "source": [
    "### 1.3 Discuss why the simulaiton leads to group polarization (1 point)"
   ]
  },
  {
   "cell_type": "markdown",
   "metadata": {},
   "source": [
    "Write your answer here.\n",
    "初始情況中設定tolerance為0.25，所以假設一組中的男性占了多數，且其組內比例大於25%，那麼組內的女性勢必會盡數散去其他組別。然而，在性別二元的情況下要成為「組內多數」，無論如何其比例一定大於50%，因此可以想見tolerance小於0.5的狀況下所有的模擬皆會為單一性別組。\n",
    "\n",
    "如果按照我上方關於三種性別的設定來說，要維持全部組別皆為單一性別組，必要條件就是有n種性別，tolerance要設小於$\\frac{1}{n}$。假若想在性別多元且tolerance大於$\\frac{1}{n}$的情形下能盡可能地有單一性別組出現，那麼便需要降低人數組數。"
   ]
  },
  {
   "cell_type": "markdown",
   "metadata": {},
   "source": [
    "## 2 Understand Shunting Equation (5 points)\n",
    "\n",
    "$\\displaystyle{\\frac{dy}{dt}}=-Ay+(B-y)*E-(y-C)*I$"
   ]
  },
  {
   "cell_type": "markdown",
   "metadata": {},
   "source": [
    "### 2.1 Find its equilibrium by analytically solving $dy/dt=0$ (1 point)"
   ]
  },
  {
   "cell_type": "markdown",
   "metadata": {},
   "source": [
    "Write your answer here with [LaTex](https://www.sharelatex.com/learn/Mathematical_expressions) formula <br>\n",
    "Set $\\displaystyle{\\frac{dy}{dt}}=0$ <br>\n",
    "$$\n",
    "\\begin{aligned}\n",
    "\\displaystyle{\\frac{dy}{dt}}&=-Ay+(B-y)*E-(y-C)*I\\\\ &= -(A+E+I)*y+(BE+CI)\\\\ &=0\n",
    "\\end{aligned}\n",
    "$$\n",
    "According to the above equation, we can get\n",
    "$$\n",
    "\\begin{aligned}\n",
    "-(A+E+I)*y+(BE+CI)&=0\\\\\n",
    "(A+E+I)*y&=BE+CI\\\\\n",
    "y&=\\displaystyle{\\frac{BE+CI}{A+E+I}}\n",
    "\\end{aligned}\n",
    "$$\n",
    "Therefore, $y=\\displaystyle{\\frac{BE+CI}{A+E+I}}$"
   ]
  },
  {
   "cell_type": "markdown",
   "metadata": {},
   "source": [
    "### 2.2 Use Euler integration to verify your answer in 2.1 with your own (A, B, C, E, I) constants (2 points)\n",
    "程式參考: https://pythonnumericalmethods.berkeley.edu/notebooks/chapter22.03-The-Euler-Method.html"
   ]
  },
  {
   "cell_type": "code",
   "execution_count": 115,
   "metadata": {},
   "outputs": [
    {
     "name": "stdout",
     "output_type": "stream",
     "text": [
      "Equilibrium: y = 0.1375\n"
     ]
    },
    {
     "data": {
      "image/png": "[encoded data removed]",
      "text/plain": [
       "<Figure size 576x288 with 1 Axes>"
      ]
     },
     "metadata": {
      "needs_background": "light"
     },
     "output_type": "display_data"
    }
   ],
   "source": [
    "# My own constants (A, B, C, E, I)\n",
    "A = 0.5\n",
    "B = 0.4\n",
    "C = 0.3\n",
    "E = 0.2\n",
    "I = 0.1\n",
    "\n",
    "# Equilibrium\n",
    "yEqui = (B*E+C*I)/(A+E+I)\n",
    "print(\"Equilibrium: y =\",round(yAns, 4))\n",
    "\n",
    "# Define parameters\n",
    "f = lambda t, y: -A*y+(B-y)*E-(y-C)*I # Shunting equation\n",
    "dt = 0.1 # Step size\n",
    "t = np.arange(0, 10 + dt, dt) # Numerical grid\n",
    "y0 = 0 # Initial Condition\n",
    "\n",
    "# Explicit Euler Method\n",
    "y = np.zeros(len(t))\n",
    "y[0] = y0\n",
    "\n",
    "for i in range(0, len(t) - 1):\n",
    "    y[i + 1] = y[i] + dt*f(t[i], y[i])\n",
    "\n",
    "figure(figsize = (8, 4))\n",
    "# Equilibrium line\n",
    "axhline(yEqui, color='red', linestyle='--', label='y = '+str(round(yEqui, 4)))\n",
    "plot(t, y)\n",
    "legend()\n",
    "xlabel('t', fontsize=18)\n",
    "ylabel('y', fontsize=18)\n",
    "grid()\n",
    "show()"
   ]
  },
  {
   "cell_type": "markdown",
   "metadata": {},
   "source": [
    "### 2.3 Combining math & if-then controls in numerical integrations (2 points)\n",
    "\n",
    "Use Euler integration to plot $dy/dt=-y(t)+E$ where\n",
    "$E=\\begin{cases}\n",
    "    1  &  \\text{if } t<5\\\\\n",
    "    0  &  \\text{if } t>5\n",
    "   \\end{cases}$\n",
    "for t=[0,10] & y(t=0)=0.\n",
    "\n",
    "This is an example of time-varying rather than constant excitation."
   ]
  },
  {
   "cell_type": "markdown",
   "metadata": {},
   "source": [
    "#### Trial 1: $dy/dt = 0$, when $t = 5$"
   ]
  },
  {
   "cell_type": "code",
   "execution_count": 10,
   "metadata": {},
   "outputs": [
    {
     "data": {
      "image/png": "[encoded data removed]",
      "text/plain": [
       "<Figure size 576x288 with 1 Axes>"
      ]
     },
     "metadata": {
      "needs_background": "light"
     },
     "output_type": "display_data"
    }
   ],
   "source": [
    "# Define parameters\n",
    "f1 = lambda t, y: -y+1 # t<5\n",
    "f2 = lambda t, y: -y # t>5\n",
    "dt = 0.1 # Step size\n",
    "t = np.arange(0, 10 + dt, dt) # Numerical grid\n",
    "y0 = 0 # Initial Condition\n",
    "\n",
    "# Explicit Euler Method\n",
    "y = np.zeros(len(t))\n",
    "y[0] = y0\n",
    "\n",
    "for i in range(0, len(t) - 1):\n",
    "    if(i<50): # 0.1s*50=5s\n",
    "        y[i + 1] = y[i] + dt*f1(t[i], y[i])\n",
    "    elif(i>50):\n",
    "        y[i + 1] = y[i] + dt*f2(t[i], y[i])\n",
    "    else: continue\n",
    "figure(figsize = (8, 4))\n",
    "axvline(5, color='red', linestyle='--', label='t = 5')\n",
    "plot(t, y)\n",
    "legend()\n",
    "xlabel('t', fontsize=18)\n",
    "ylabel('y', fontsize=18)\n",
    "grid()\n",
    "show()"
   ]
  },
  {
   "cell_type": "markdown",
   "metadata": {},
   "source": [
    "**結果討論**：<br>\n",
    "由於Euler Integration在$t$的$y$值是基於$t-1$時的$y$值加上$\\Delta t*f(t)$，因此假若$t-1$時的$y$值消失了，那麼接下來的值也將會歸零。\n",
    "\n",
    "---\n",
    "#### Trial 2: $dy/dt=-y(t)+1$ when $t = 5$"
   ]
  },
  {
   "cell_type": "code",
   "execution_count": 4,
   "metadata": {},
   "outputs": [
    {
     "data": {
      "image/png": "[encoded data removed]",
      "text/plain": [
       "<Figure size 576x288 with 1 Axes>"
      ]
     },
     "metadata": {
      "needs_background": "light"
     },
     "output_type": "display_data"
    }
   ],
   "source": [
    "# Define parameters\n",
    "f1 = lambda t, y: -y+1 # t<5\n",
    "f2 = lambda t, y: -y # t>5\n",
    "dt = 0.1 # Step size\n",
    "t = np.arange(0, 10 + dt, dt) # Numerical grid\n",
    "y0 = 0 # Initial Condition\n",
    "\n",
    "# Explicit Euler Method\n",
    "y = np.zeros(len(t))\n",
    "y[0] = y0\n",
    "\n",
    "for i in range(0, len(t) - 1):\n",
    "    if(i<=50): # 0.1s*50=5s\n",
    "        y[i + 1] = y[i] + dt*f1(t[i], y[i])\n",
    "    elif(i>50):\n",
    "        y[i + 1] = y[i] + dt*f2(t[i], y[i])\n",
    "    # else: continue\n",
    "figure(figsize = (8, 4))\n",
    "axvline(5, color='red', linestyle='--', label='t = 5')\n",
    "plot(t, y)\n",
    "legend()\n",
    "xlabel('t', fontsize=18)\n",
    "ylabel('y', fontsize=18)\n",
    "grid()\n",
    "show()"
   ]
  },
  {
   "cell_type": "markdown",
   "metadata": {},
   "source": [
    "**結果討論**：<br>\n",
    "由於第5.1秒的$y$值是基於$y(5)+\\Delta t*(-y(t)+1)$，而第5.2秒的$y$值是基於$y(5.1)+\\Delta t*(-y(t))$，因此在第5.1秒時才開始有下降的趨勢。\n",
    "\n",
    "---\n",
    "#### Trial 3: $dy/dt=-y(t)$ when $t = 5$"
   ]
  },
  {
   "cell_type": "code",
   "execution_count": 5,
   "metadata": {},
   "outputs": [
    {
     "data": {
      "image/png": "[encoded data removed]",
      "text/plain": [
       "<Figure size 576x288 with 1 Axes>"
      ]
     },
     "metadata": {
      "needs_background": "light"
     },
     "output_type": "display_data"
    }
   ],
   "source": [
    "# Define parameters\n",
    "f1 = lambda t, y: -y+1 # t<5\n",
    "f2 = lambda t, y: -y # t>5\n",
    "dt = 0.1 # Step size\n",
    "t = np.arange(0, 10 + dt, dt) # Numerical grid\n",
    "y0 = 0 # Initial Condition\n",
    "\n",
    "# Explicit Euler Method\n",
    "y = np.zeros(len(t))\n",
    "y[0] = y0\n",
    "\n",
    "for i in range(0, len(t) - 1):\n",
    "    if(i<50): # 0.1s*50=5s\n",
    "        y[i + 1] = y[i] + dt*f1(t[i], y[i])\n",
    "    elif(i>=50):\n",
    "        y[i + 1] = y[i] + dt*f2(t[i], y[i])\n",
    "    # else: continue\n",
    "figure(figsize = (8, 4))\n",
    "axvline(5, color='red', linestyle='--', label='t = 5')\n",
    "plot(t, y)\n",
    "legend()\n",
    "xlabel('t', fontsize=18)\n",
    "ylabel('y', fontsize=18)\n",
    "grid()\n",
    "show()"
   ]
  },
  {
   "cell_type": "markdown",
   "metadata": {},
   "source": [
    "**結果討論**：<br>\n",
    "由於第5.1秒的$y$值是基於$y(5)+\\Delta t*(-y(t))$，因此在第5.1秒時已經有下降的趨勢。"
   ]
  },
  {
   "cell_type": "markdown",
   "metadata": {},
   "source": [
    "## Please submit the HTML version of your notebook to NTU COOL by 9/12(Mon)!"
   ]
  }
 ],
 "metadata": {
  "kernelspec": {
   "display_name": "Python 3 (ipykernel)",
   "language": "python",
   "name": "python3"
  },
  "language_info": {
   "codemirror_mode": {
    "name": "ipython",
    "version": 3
   },
   "file_extension": ".py",
   "mimetype": "text/x-python",
   "name": "python",
   "nbconvert_exporter": "python",
   "pygments_lexer": "ipython3",
   "version": "3.10.6"
  }
 },
 "nbformat": 4,
 "nbformat_minor": 4
}
