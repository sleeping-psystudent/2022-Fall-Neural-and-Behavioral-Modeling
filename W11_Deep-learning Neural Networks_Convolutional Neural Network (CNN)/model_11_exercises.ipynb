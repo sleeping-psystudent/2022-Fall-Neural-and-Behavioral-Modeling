{
 "cells": [
  {
   "cell_type": "markdown",
   "metadata": {
    "id": "61oJ1PxcDRvT"
   },
   "source": [
    "# Neural & Behavioral Modeling - Week 11 (Exercises)\n",
    "by 李采蓉 b08207042@ntu.edu.tw"
   ]
  },
  {
   "cell_type": "code",
   "execution_count": 1,
   "metadata": {
    "id": "ogCNQ19JDRvm"
   },
   "outputs": [],
   "source": [
    "%config IPCompleter.greedy=True \n",
    "%matplotlib inline\n",
    "from matplotlib.pyplot import *\n",
    "from IPython.display import *\n",
    "import numpy as np"
   ]
  },
  {
   "cell_type": "code",
   "execution_count": 2,
   "metadata": {
    "colab": {
     "base_uri": "https://localhost:8080/"
    },
    "id": "S1RGetk9DRvs",
    "outputId": "1ed236db-49c4-40a1-bcdb-53c5985f854a"
   },
   "outputs": [
    {
     "name": "stdout",
     "output_type": "stream",
     "text": [
      "PyTorch version: 1.12.1+cu113\n",
      "No GPU\n"
     ]
    }
   ],
   "source": [
    "# Check GPU status:\n",
    "import torch as t\n",
    "print('PyTorch version:',t.__version__)\n",
    "use_cuda=t.cuda.is_available()\n",
    "if(use_cuda):\n",
    "    for i in range(t.cuda.device_count()):\n",
    "        print('Device ',i,':',t.cuda.get_device_name(i))\n",
    "    print('Current: Device ',t.cuda.current_device())\n",
    "    t.backends.cudnn.benchmark = True \n",
    "    device = t.device(\"cuda\")\n",
    "else:\n",
    "    device = t.device(\"cpu\")\n",
    "    print('No GPU')"
   ]
  },
  {
   "cell_type": "markdown",
   "metadata": {
    "id": "HvznYX2KDRvy"
   },
   "source": [
    "## 1 Fair Performance Evaluation (2 points)\n",
    "We often compare and assess performances of different model architectures/parameters/hyperparameters. Note that the results are differnt even if you re-run exactly the same code block. This is primarily due to a non-fixed random number seed. Please:\n",
    "\n",
    "(1) run the section 1.2 TEN times and report (a) min, (b) max, (c) mean, & (d) standard deviation of the TESTING accuracies. (2 points)\n",
    "\n",
    "(2) try to fix the random number seeds in numpy & pytorch to see if you can obtain the same results every time in the section 1.2. (2 points)"
   ]
  },
  {
   "cell_type": "markdown",
   "metadata": {
    "id": "4P1ei_p6DRv1"
   },
   "source": [
    "### 1.0 CIFAR-10 dataset"
   ]
  },
  {
   "cell_type": "code",
   "execution_count": null,
   "metadata": {
    "colab": {
     "base_uri": "https://localhost:8080/",
     "height": 101,
     "referenced_widgets": [
      "0fa49ad3b547433998c6be85c6e15eb2",
      "1a14fc768c624912b684bee18b3fb072",
      "ad1433d8496f455f99a832bbba5f0ae7",
      "939d8694333a4af9bb69a1012bba0726",
      "30e77cd131954309b21c4c6c6dc36af8",
      "ef6dbd6765c248b28de9de7ea0d7b19a",
      "1f8d063f51704a40bc1d1d42f745c7ed",
      "baaff93e74394710b076f22c15c1b2a9",
      "dc59ddfef8204e0aa5d2c7ee7fcb211b",
      "b59ec66c424a4684888aa9fc2bfc39b8",
      "14950edec4ee4ac5b3e3aa508a135062"
     ]
    },
    "id": "oYmUoRmVDRv3",
    "outputId": "c4369ebc-b2bd-428a-be2c-84a36c137d14"
   },
   "outputs": [
    {
     "name": "stdout",
     "output_type": "stream",
     "text": [
      "Downloading https://www.cs.toronto.edu/~kriz/cifar-10-python.tar.gz to ./cifar-10-python.tar.gz\n"
     ]
    },
    {
     "data": {
      "application/vnd.jupyter.widget-view+json": {
       "model_id": "0fa49ad3b547433998c6be85c6e15eb2",
       "version_major": 2,
       "version_minor": 0
      },
      "text/plain": [
       "  0%|          | 0/170498071 [00:00<?, ?it/s]"
      ]
     },
     "metadata": {},
     "output_type": "display_data"
    },
    {
     "name": "stdout",
     "output_type": "stream",
     "text": [
      "Extracting ./cifar-10-python.tar.gz to .\n",
      "Files already downloaded and verified\n"
     ]
    }
   ],
   "source": [
    "# Load the dataset:\n",
    "import torchvision.transforms as transforms\n",
    "from torchvision.datasets import CIFAR10\n",
    "train_set = CIFAR10(root='.', train=True, download=True, transform=transforms.ToTensor())\n",
    "train_data = t.utils.data.DataLoader(train_set, batch_size=32, shuffle=True)\n",
    "test_set = CIFAR10(root='.', train=False, download=True, transform=transforms.ToTensor())\n",
    "test_data = t.utils.data.DataLoader(train_set, batch_size=1000, shuffle=True)\n",
    "classes = ('plane', 'car', 'bird', 'cat', 'deer', 'dog', 'frog', 'horse', 'ship', 'truck')"
   ]
  },
  {
   "cell_type": "markdown",
   "metadata": {
    "id": "Y8hOlY0sDRv6"
   },
   "source": [
    "### 1.1 The model"
   ]
  },
  {
   "cell_type": "code",
   "execution_count": null,
   "metadata": {
    "id": "7hHAfMG-DRv9"
   },
   "outputs": [],
   "source": [
    "# Make the model:\n",
    "import torch.nn as nn\n",
    "import torch.nn.functional as F\n",
    "class Net(nn.Module):\n",
    "    def __init__(self):\n",
    "        super(Net, self).__init__() # = nn.Module.__init__(self)\n",
    "        self.conv1 = nn.Conv2d(3, 6, 5) # in, out, kernel\n",
    "        self.conv2 = nn.Conv2d(6, 16, 5) \n",
    "        self.fc1   = nn.Linear(16*5*5, 120) \n",
    "        self.fc2   = nn.Linear(120, 84)\n",
    "        self.fc3   = nn.Linear(84, 10)\n",
    "    def forward(self, x): # functional expressions\n",
    "        x = F.max_pool2d(F.relu(self.conv1(x)), (2, 2))\n",
    "        x = F.max_pool2d(F.relu(self.conv2(x)), 2) \n",
    "        x = x.view(x.size()[0], -1) \n",
    "        x = F.relu(self.fc1(x))\n",
    "        x = F.relu(self.fc2(x))\n",
    "        x = self.fc3(x)        \n",
    "        return x\n",
    "lenet = Net()\n",
    "lenet = lenet.to(device)\n",
    "loss_fn = t.nn.CrossEntropyLoss()\n",
    "optimizer = t.optim.Adam(lenet.parameters())"
   ]
  },
  {
   "cell_type": "markdown",
   "metadata": {
    "id": "ma4i8YOqDRwD"
   },
   "source": [
    "### 1.2 Training & Testing\n",
    "#### (1) run the section 1.2 TEN times"
   ]
  },
  {
   "cell_type": "code",
   "execution_count": null,
   "metadata": {
    "colab": {
     "base_uri": "https://localhost:8080/"
    },
    "id": "L7-kXb_kDRwG",
    "outputId": "44c6a25e-2203-47e8-90aa-0a86e56c77fc"
   },
   "outputs": [
    {
     "name": "stdout",
     "output_type": "stream",
     "text": [
      "0.604  \n",
      "0.638  \n",
      "0.694  \n",
      "0.676  \n",
      "0.688  \n",
      "0.715  \n",
      "0.737  \n",
      "0.743  \n",
      "0.747  \n",
      "0.742  \n"
     ]
    }
   ],
   "source": [
    "testRes=[]\n",
    "for run in range(10):\n",
    "  # Training:\n",
    "  for e in range(2):\n",
    "      for i, (X_train, Y_train) in enumerate(train_data, 0):\n",
    "          X_train,Y_train=X_train.to(device),Y_train.to(device)\n",
    "          Y_pred = lenet(X_train)\n",
    "          loss = loss_fn(Y_pred, Y_train)\n",
    "          lenet.zero_grad()\n",
    "          loss.backward()\n",
    "          optimizer.step()   \n",
    "          Y_pred = lenet(X_train)\n",
    "          Y_pred = t.max(Y_pred,1)[1]\n",
    "      # print('epoch ',e,':',(Y_pred==Y_train).sum().item()/Y_train.shape[0])\n",
    "      \n",
    "  # Testing on a batch:\n",
    "  dataiter = iter(test_data)\n",
    "  X_test, Y_test = dataiter.next() # returning a batch\n",
    "  X_test,Y_test=X_test.to(device),Y_test.to(device)\n",
    "  with t.no_grad():\n",
    "      Y_pred = lenet(X_test)\n",
    "      Y_pred = t.max(Y_pred,1)[1]\n",
    "      testRes.append((Y_pred==Y_test).sum().item()/Y_test.shape[0])\n",
    "\n",
    "# report the testing accuracies\n",
    "for acc in testRes:\n",
    "  print(acc)"
   ]
  },
  {
   "cell_type": "code",
   "execution_count": null,
   "metadata": {
    "colab": {
     "base_uri": "https://localhost:8080/",
     "height": 265
    },
    "id": "zaDtc6qqpqWk",
    "outputId": "4be9e6cb-d3ee-4621-a32f-dbe7fc46d935"
   },
   "outputs": [
    {
     "data": {
      "image/png": "[encoded data removed]",
      "text/plain": [
       "<Figure size 432x288 with 1 Axes>"
      ]
     },
     "metadata": {
      "needs_background": "light"
     },
     "output_type": "display_data"
    }
   ],
   "source": [
    "plot([1, 2, 3, 4, 5, 6, 7, 8, 9, 10], testRes, color='b')\n",
    "ylabel('accuracy')\n",
    "show()"
   ]
  },
  {
   "cell_type": "code",
   "execution_count": null,
   "metadata": {
    "colab": {
     "base_uri": "https://localhost:8080/"
    },
    "id": "12e85LJYq9Wk",
    "outputId": "e19e9b79-e528-4ad0-d98a-2fa981878659"
   },
   "outputs": [
    {
     "name": "stdout",
     "output_type": "stream",
     "text": [
      "min:\t0.604\n",
      "max\t0.747\n",
      "mean:\t0.6984\n",
      "std:\t0.046050407164323744\n",
      "\n"
     ]
    }
   ],
   "source": [
    "print('min:\\t'+str(min(testRes))+'\\nmax\\t'+str(max(testRes))+'\\nmean:\\t'+str(sum(testRes)/10)+'\\nstd:\\t'+str(np.std(testRes))+'\\n')"
   ]
  },
  {
   "cell_type": "markdown",
   "metadata": {
    "id": "Z5vSW1EcwJ-a"
   },
   "source": [
    "#### (2) fix the random number seeds"
   ]
  },
  {
   "cell_type": "code",
   "execution_count": null,
   "metadata": {
    "id": "4gsVs_iawa7s"
   },
   "outputs": [],
   "source": [
    "import random"
   ]
  },
  {
   "cell_type": "code",
   "execution_count": null,
   "metadata": {
    "colab": {
     "base_uri": "https://localhost:8080/"
    },
    "id": "Wko97qLyzCe1",
    "outputId": "31d88de9-9983-416c-ed73-c017edcbf97d"
   },
   "outputs": [
    {
     "name": "stdout",
     "output_type": "stream",
     "text": [
      "0.501\n",
      "0.501\n",
      "0.501\n",
      "0.501\n",
      "0.501\n",
      "0.501\n",
      "0.501\n",
      "0.501\n",
      "0.501\n",
      "0.501\n"
     ]
    }
   ],
   "source": [
    "for run in range(10):\n",
    "  # set the seed\n",
    "  seed = 1022\n",
    "  t.manual_seed(seed)\n",
    "  t.cuda.manual_seed(seed)\n",
    "  t.cuda.manual_seed_all(seed)\n",
    "  np.random.seed(seed)\n",
    "  random.seed(seed)\n",
    "  t.backends.cudnn.benchmark = False\n",
    "  t.backends.cudnn.deterministic = True\n",
    "\n",
    "  lenet = Net()\n",
    "  lenet = lenet.to(device)\n",
    "  loss_fn = t.nn.CrossEntropyLoss()\n",
    "  optimizer = t.optim.Adam(lenet.parameters())\n",
    "\n",
    "  # Training:\n",
    "  for e in range(2):\n",
    "      for i, (X_train, Y_train) in enumerate(train_data, 0):\n",
    "          X_train,Y_train=X_train.to(device),Y_train.to(device)\n",
    "          Y_pred = lenet(X_train)\n",
    "          loss = loss_fn(Y_pred, Y_train)\n",
    "          lenet.zero_grad()\n",
    "          loss.backward()\n",
    "          optimizer.step()   \n",
    "          Y_pred = lenet(X_train)\n",
    "          Y_pred = t.max(Y_pred,1)[1]\n",
    "      # print('epoch ',e,':',(Y_pred==Y_train).sum().item()/Y_train.shape[0])\n",
    "      \n",
    "  # Testing on a batch:\n",
    "  dataiter = iter(test_data)\n",
    "  X_test, Y_test = dataiter.next() # returning a batch\n",
    "  X_test,Y_test=X_test.to(device),Y_test.to(device)\n",
    "  with t.no_grad():\n",
    "      Y_pred = lenet(X_test)\n",
    "      Y_pred = t.max(Y_pred,1)[1]\n",
    "      print((Y_pred==Y_test).sum().item()/Y_test.shape[0])"
   ]
  },
  {
   "cell_type": "markdown",
   "metadata": {
    "id": "_0VWKk53DRwI"
   },
   "source": [
    "### 1.3 Your answers"
   ]
  },
  {
   "cell_type": "markdown",
   "metadata": {
    "id": "N9RMxwrTDRwK"
   },
   "source": [
    "Please respond to the questions here.<br>\n",
    "(1) <br>\n",
    "min:\t0.604<br>\n",
    "max\t0.747<br>\n",
    "mean:\t0.6984<br>\n",
    "std:\t0.046050407164323744<br>\n",
    "\n",
    "(2) 要保證重複性，勢必要從seed的設定下手。假若沒有設定seed，系統會根據時間決定生成的隨機數，因此才會有rerun同個block但出來的結果也不同的情形；而有設定seed的話就能保證每次生成的隨機整數皆相同。除此之外還有一點要注意的是，seed的調用會延續到下一次定義seed的時候，所以seed的設定才會在迴圈以內而不是外面。<br>\n",
    "延伸閱讀：[关于numpy,torch中seed()方法的一些理解](https://blog.csdn.net/F845992311/article/details/123553715)"
   ]
  },
  {
   "cell_type": "markdown",
   "metadata": {
    "id": "cGlPlO8_DRwL"
   },
   "source": [
    "## 2 Universal Approximation Theorem (4 points)\n",
    "\n",
    "Please FAIRLY evaluate whether a deep network learns XOR more efficiently than a shallow network with the same number of model parameters. Please discuss why in either case."
   ]
  },
  {
   "cell_type": "markdown",
   "metadata": {
    "id": "ZEwJzEBrDRwN"
   },
   "source": [
    "### 2.0 XOR data"
   ]
  },
  {
   "cell_type": "code",
   "execution_count": 3,
   "metadata": {
    "colab": {
     "base_uri": "https://localhost:8080/",
     "height": 265
    },
    "id": "RVlMSF6UDRwO",
    "outputId": "9209fc83-a207-4f55-91df-1f9eb94a6d3f"
   },
   "outputs": [
    {
     "data": {
      "image/png": "[encoded data removed]",
      "text/plain": [
       "<Figure size 432x288 with 1 Axes>"
      ]
     },
     "metadata": {
      "needs_background": "light"
     },
     "output_type": "display_data"
    }
   ],
   "source": [
    "N=1000 # samples per cluster\n",
    "XY=t.tensor([[5,5],[5,10],[10,5],[10,10]],dtype=t.float32) # 4 cluster centers\n",
    "Z=t.tensor([0,1,1,0]) # category labels\n",
    "t.cat([t.randn(2,1)+XY[0,0],t.randn(2,1)+XY[0,1]],1)\n",
    "xy,z=t.zeros(4*N,2),t.zeros(4*N,dtype=t.int64)\n",
    "for i in range(4):\n",
    "    xy[i*N:(i+1)*N,]=t.rand(N,2)+XY[i,]\n",
    "    z[i*N:(i+1)*N]=Z[i]\n",
    "xy_np=xy.numpy()\n",
    "z_np=z.numpy().astype(int)\n",
    "cmap=np.array([[1,0,0],[0,1,0]])\n",
    "scatter(xy_np[:,0],xy_np[:,1],color=cmap[z_np]);"
   ]
  },
  {
   "cell_type": "markdown",
   "metadata": {
    "id": "sYusGKT9DRwT"
   },
   "source": [
    "#### 2.1 A shallow net with one hidden layer"
   ]
  },
  {
   "cell_type": "code",
   "execution_count": null,
   "metadata": {
    "colab": {
     "base_uri": "https://localhost:8080/"
    },
    "id": "O73ynjCzDRwV",
    "outputId": "4675c3ba-856c-4e75-a5de-cbaf60024d6f"
   },
   "outputs": [
    {
     "name": "stdout",
     "output_type": "stream",
     "text": [
      "epoch  0 : 0.25\n",
      "epoch  1 : 0.25125\n",
      "epoch  2 : 0.2575\n",
      "epoch  3 : 0.26525\n",
      "epoch  4 : 0.27875\n",
      "epoch  5 : 0.30125\n",
      "epoch  6 : 0.32575\n",
      "epoch  7 : 0.3565\n",
      "epoch  8 : 0.3875\n",
      "epoch  9 : 0.4165\n",
      "epoch  10 : 0.44075\n",
      "epoch  11 : 0.46325\n",
      "epoch  12 : 0.48075\n",
      "epoch  13 : 0.49225\n",
      "epoch  14 : 0.4995\n",
      "epoch  15 : 0.5\n",
      "epoch  16 : 0.5\n",
      "epoch  17 : 0.5\n",
      "epoch  18 : 0.5\n",
      "epoch  19 : 0.5\n",
      "epoch  20 : 0.5\n",
      "epoch  21 : 0.5\n",
      "epoch  22 : 0.5\n",
      "epoch  23 : 0.5\n",
      "epoch  24 : 0.5\n",
      "epoch  25 : 0.5\n",
      "epoch  26 : 0.5\n",
      "epoch  27 : 0.5\n",
      "epoch  28 : 0.5\n",
      "epoch  29 : 0.5\n",
      "epoch  30 : 0.5\n",
      "epoch  31 : 0.5\n",
      "epoch  32 : 0.5\n",
      "epoch  33 : 0.5\n",
      "epoch  34 : 0.5\n",
      "epoch  35 : 0.5\n",
      "epoch  36 : 0.5\n",
      "epoch  37 : 0.5\n",
      "epoch  38 : 0.5\n",
      "epoch  39 : 0.5\n",
      "epoch  40 : 0.5\n",
      "epoch  41 : 0.5\n",
      "epoch  42 : 0.5\n",
      "epoch  43 : 0.5\n",
      "epoch  44 : 0.5\n",
      "epoch  45 : 0.5\n",
      "epoch  46 : 0.5\n",
      "epoch  47 : 0.5\n",
      "epoch  48 : 0.5\n",
      "epoch  49 : 0.5\n",
      "epoch  50 : 0.5\n",
      "epoch  51 : 0.5\n",
      "epoch  52 : 0.5\n",
      "epoch  53 : 0.5\n",
      "epoch  54 : 0.5\n",
      "epoch  55 : 0.5\n",
      "epoch  56 : 0.5\n",
      "epoch  57 : 0.5\n",
      "epoch  58 : 0.5\n",
      "epoch  59 : 0.5\n",
      "epoch  60 : 0.5\n",
      "epoch  61 : 0.5\n",
      "epoch  62 : 0.50025\n",
      "epoch  63 : 0.5005\n",
      "epoch  64 : 0.50075\n",
      "epoch  65 : 0.501\n",
      "epoch  66 : 0.502\n",
      "epoch  67 : 0.5025\n",
      "epoch  68 : 0.50475\n",
      "epoch  69 : 0.50675\n",
      "epoch  70 : 0.5095\n",
      "epoch  71 : 0.51325\n",
      "epoch  72 : 0.51625\n",
      "epoch  73 : 0.51975\n",
      "epoch  74 : 0.525\n",
      "epoch  75 : 0.53\n",
      "epoch  76 : 0.5365\n",
      "epoch  77 : 0.546\n",
      "epoch  78 : 0.555\n",
      "epoch  79 : 0.56825\n",
      "epoch  80 : 0.58725\n",
      "epoch  81 : 0.60575\n",
      "epoch  82 : 0.628\n",
      "epoch  83 : 0.66175\n",
      "epoch  84 : 0.693\n",
      "epoch  85 : 0.72675\n",
      "epoch  86 : 0.7485\n",
      "epoch  87 : 0.77475\n",
      "epoch  88 : 0.804\n",
      "epoch  89 : 0.83025\n",
      "epoch  90 : 0.85475\n",
      "epoch  91 : 0.872\n",
      "epoch  92 : 0.88675\n",
      "epoch  93 : 0.89525\n",
      "epoch  94 : 0.90625\n",
      "epoch  95 : 0.9155\n",
      "epoch  96 : 0.9255\n",
      "epoch  97 : 0.93625\n",
      "epoch  98 : 0.94275\n",
      "epoch  99 : 0.95\n"
     ]
    }
   ],
   "source": [
    "# Number of free parameters: 2*H+H*2=48\n",
    "\n",
    "H=12 # number of hidden units\n",
    "model = t.nn.Sequential(\n",
    "    t.nn.Linear(2, H, bias=False),\n",
    "    t.nn.BatchNorm1d(H),\n",
    "    t.nn.ReLU(),\n",
    "    t.nn.Linear(H, 2, bias=False),\n",
    "    t.nn.Softmax(dim=1)\n",
    ")\n",
    "loss_fn = t.nn.CrossEntropyLoss()\n",
    "optimizer = t.optim.Adam(model.parameters())\n",
    "\n",
    "for i in range(100):\n",
    "    z_pred = model(xy)\n",
    "    loss = loss_fn(z_pred,z)\n",
    "    model.zero_grad()\n",
    "    loss.backward()\n",
    "    optimizer.step()\n",
    "    z_pred = model(xy) \n",
    "    z_pred = t.max(z_pred,1)[1]\n",
    "    print('epoch ',i,':',(z_pred==z).sum().item()/xy.shape[0])"
   ]
  },
  {
   "cell_type": "markdown",
   "metadata": {
    "id": "VhZVlXUdDRwW"
   },
   "source": [
    "#### 2.2 A \"deep\" net with three hidden layers"
   ]
  },
  {
   "cell_type": "code",
   "execution_count": 5,
   "metadata": {
    "colab": {
     "base_uri": "https://localhost:8080/"
    },
    "id": "d015pzv_DRwX",
    "outputId": "47ee9360-c63b-447e-f953-fc5fbf72e6ce"
   },
   "outputs": [
    {
     "name": "stdout",
     "output_type": "stream",
     "text": [
      "epoch  0 : 0.49975\n",
      "epoch  1 : 0.5\n",
      "epoch  2 : 0.5\n",
      "epoch  3 : 0.5\n",
      "epoch  4 : 0.5\n",
      "epoch  5 : 0.5\n",
      "epoch  6 : 0.5\n",
      "epoch  7 : 0.5\n",
      "epoch  8 : 0.5\n",
      "epoch  9 : 0.50225\n",
      "epoch  10 : 0.5265\n",
      "epoch  11 : 0.5585\n",
      "epoch  12 : 0.5905\n",
      "epoch  13 : 0.622\n",
      "epoch  14 : 0.662\n",
      "epoch  15 : 0.68975\n",
      "epoch  16 : 0.71025\n",
      "epoch  17 : 0.728\n",
      "epoch  18 : 0.739\n",
      "epoch  19 : 0.74425\n",
      "epoch  20 : 0.748\n",
      "epoch  21 : 0.74925\n",
      "epoch  22 : 0.75\n",
      "epoch  23 : 0.75\n",
      "epoch  24 : 0.75\n",
      "epoch  25 : 0.75\n",
      "epoch  26 : 0.75\n",
      "epoch  27 : 0.75\n",
      "epoch  28 : 0.75\n",
      "epoch  29 : 0.75\n",
      "epoch  30 : 0.75\n",
      "epoch  31 : 0.75\n",
      "epoch  32 : 0.75\n",
      "epoch  33 : 0.75\n",
      "epoch  34 : 0.75\n",
      "epoch  35 : 0.75\n",
      "epoch  36 : 0.75\n",
      "epoch  37 : 0.75\n",
      "epoch  38 : 0.75\n",
      "epoch  39 : 0.75\n",
      "epoch  40 : 0.75\n",
      "epoch  41 : 0.75\n",
      "epoch  42 : 0.75\n",
      "epoch  43 : 0.75025\n",
      "epoch  44 : 0.75025\n",
      "epoch  45 : 0.7525\n",
      "epoch  46 : 0.75475\n",
      "epoch  47 : 0.757\n",
      "epoch  48 : 0.758\n",
      "epoch  49 : 0.76175\n",
      "epoch  50 : 0.764\n",
      "epoch  51 : 0.766\n",
      "epoch  52 : 0.77125\n",
      "epoch  53 : 0.77475\n",
      "epoch  54 : 0.7785\n",
      "epoch  55 : 0.783\n",
      "epoch  56 : 0.7855\n",
      "epoch  57 : 0.78825\n",
      "epoch  58 : 0.79175\n",
      "epoch  59 : 0.794\n",
      "epoch  60 : 0.796\n",
      "epoch  61 : 0.79775\n",
      "epoch  62 : 0.7985\n",
      "epoch  63 : 0.7995\n",
      "epoch  64 : 0.8\n",
      "epoch  65 : 0.802\n",
      "epoch  66 : 0.80325\n",
      "epoch  67 : 0.8045\n",
      "epoch  68 : 0.80575\n",
      "epoch  69 : 0.806\n",
      "epoch  70 : 0.8055\n",
      "epoch  71 : 0.805\n",
      "epoch  72 : 0.8045\n",
      "epoch  73 : 0.804\n",
      "epoch  74 : 0.803\n",
      "epoch  75 : 0.8025\n",
      "epoch  76 : 0.8025\n",
      "epoch  77 : 0.8025\n",
      "epoch  78 : 0.802\n",
      "epoch  79 : 0.8015\n",
      "epoch  80 : 0.8005\n",
      "epoch  81 : 0.8005\n",
      "epoch  82 : 0.79975\n",
      "epoch  83 : 0.79975\n",
      "epoch  84 : 0.799\n",
      "epoch  85 : 0.79925\n",
      "epoch  86 : 0.799\n",
      "epoch  87 : 0.79875\n",
      "epoch  88 : 0.79875\n",
      "epoch  89 : 0.79875\n",
      "epoch  90 : 0.79875\n",
      "epoch  91 : 0.7985\n",
      "epoch  92 : 0.7985\n",
      "epoch  93 : 0.798\n",
      "epoch  94 : 0.79725\n",
      "epoch  95 : 0.798\n",
      "epoch  96 : 0.798\n",
      "epoch  97 : 0.798\n",
      "epoch  98 : 0.79925\n",
      "epoch  99 : 0.7995\n"
     ]
    }
   ],
   "source": [
    "# Number of free parameters: 2*H+H*H+H*H+H*2=48\n",
    "\n",
    "H=4 # number of hidden units\n",
    "model = t.nn.Sequential(\n",
    "    t.nn.Linear(2, H, bias=False),\n",
    "    t.nn.BatchNorm1d(H),\n",
    "    t.nn.ReLU(),\n",
    "    t.nn.Linear(H, H,bias=False),\n",
    "    t.nn.BatchNorm1d(H),\n",
    "    t.nn.ReLU(),\n",
    "    t.nn.Linear(H, H, bias=False),\n",
    "    t.nn.BatchNorm1d(H),\n",
    "    t.nn.ReLU(),\n",
    "    t.nn.Linear(H, 2, bias=False),\n",
    "    t.nn.Softmax(dim=1)\n",
    ")\n",
    "loss_fn = t.nn.CrossEntropyLoss()\n",
    "optimizer = t.optim.Adam(model.parameters())\n",
    "\n",
    "for i in range(100):\n",
    "    z_pred = model(xy)\n",
    "    loss = loss_fn(z_pred,z)\n",
    "    model.zero_grad()\n",
    "    loss.backward()\n",
    "    optimizer.step()\n",
    "    z_pred = model(xy) \n",
    "    z_pred = t.max(z_pred,1)[1]\n",
    "    print('epoch ',i,':',(z_pred==z).sum().item()/xy.shape[0])"
   ]
  },
  {
   "cell_type": "markdown",
   "metadata": {
    "id": "f2JX1U7cDRwZ"
   },
   "source": [
    "### 2.3 Your answers"
   ]
  },
  {
   "cell_type": "markdown",
   "metadata": {
    "id": "DXLRQtw-DRwa"
   },
   "source": [
    "Please respond to the questions here.<br>\n",
    "shallow model雖然淺，但他加入了十二個hidden layer，這大大的提升了模型處理非線性問題的能力；相反的，較深的模型加入的hidden layer較少，雖然說深度深同樣可以提升非線性處理能力，但目標對象比較是針對複雜特徵，也就是特徵數較多的情形，這裡僅有兩個特徵x和y，不需要太深的模型就可以處理。綜合而言，多hidden layer的模型在XOR的問題上會更有利、收斂得更快。<br>\n",
    "延伸閱讀：[XOR Problem in Deep Neural Network](https://goodboychan.github.io/python/deep_learning/2020/09/16/01-XOR-Problem-in-Deep-Neural-Network.html)<br>\n",
    "&emsp;&emsp;&emsp;&emsp;&emsp;[前馈神经网络求解XOR问题](https://blog.csdn.net/mago2015/article/details/119141695)<br>\n",
    "&emsp;&emsp;&emsp;&emsp;&emsp;[【AI不惑境】网络深度对深度学习模型性能有什么影响？](https://zhuanlan.zhihu.com/p/63560913)"
   ]
  }
 ],
 "metadata": {
  "colab": {
   "provenance": []
  },
  "kernelspec": {
   "display_name": "Python 3",
   "language": "python",
   "name": "python3"
  },
  "language_info": {
   "codemirror_mode": {
    "name": "ipython",
    "version": 3
   },
   "file_extension": ".py",
   "mimetype": "text/x-python",
   "name": "python",
   "nbconvert_exporter": "python",
   "pygments_lexer": "ipython3",
   "version": "3.8.3"
  },
  "widgets": {
   "application/vnd.jupyter.widget-state+json": {
    "0fa49ad3b547433998c6be85c6e15eb2": {
     "model_module": "@jupyter-widgets/controls",
     "model_module_version": "1.5.0",
     "model_name": "HBoxModel",
     "state": {
      "_dom_classes": [],
      "_model_module": "@jupyter-widgets/controls",
      "_model_module_version": "1.5.0",
      "_model_name": "HBoxModel",
      "_view_count": null,
      "_view_module": "@jupyter-widgets/controls",
      "_view_module_version": "1.5.0",
      "_view_name": "HBoxView",
      "box_style": "",
      "children": [
       "IPY_MODEL_1a14fc768c624912b684bee18b3fb072",
       "IPY_MODEL_ad1433d8496f455f99a832bbba5f0ae7",
       "IPY_MODEL_939d8694333a4af9bb69a1012bba0726"
      ],
      "layout": "IPY_MODEL_30e77cd131954309b21c4c6c6dc36af8"
     }
    },
    "14950edec4ee4ac5b3e3aa508a135062": {
     "model_module": "@jupyter-widgets/controls",
     "model_module_version": "1.5.0",
     "model_name": "DescriptionStyleModel",
     "state": {
      "_model_module": "@jupyter-widgets/controls",
      "_model_module_version": "1.5.0",
      "_model_name": "DescriptionStyleModel",
      "_view_count": null,
      "_view_module": "@jupyter-widgets/base",
      "_view_module_version": "1.2.0",
      "_view_name": "StyleView",
      "description_width": ""
     }
    },
    "1a14fc768c624912b684bee18b3fb072": {
     "model_module": "@jupyter-widgets/controls",
     "model_module_version": "1.5.0",
     "model_name": "HTMLModel",
     "state": {
      "_dom_classes": [],
      "_model_module": "@jupyter-widgets/controls",
      "_model_module_version": "1.5.0",
      "_model_name": "HTMLModel",
      "_view_count": null,
      "_view_module": "@jupyter-widgets/controls",
      "_view_module_version": "1.5.0",
      "_view_name": "HTMLView",
      "description": "",
      "description_tooltip": null,
      "layout": "IPY_MODEL_ef6dbd6765c248b28de9de7ea0d7b19a",
      "placeholder": "​",
      "style": "IPY_MODEL_1f8d063f51704a40bc1d1d42f745c7ed",
      "value": "100%"
     }
    },
    "1f8d063f51704a40bc1d1d42f745c7ed": {
     "model_module": "@jupyter-widgets/controls",
     "model_module_version": "1.5.0",
     "model_name": "DescriptionStyleModel",
     "state": {
      "_model_module": "@jupyter-widgets/controls",
      "_model_module_version": "1.5.0",
      "_model_name": "DescriptionStyleModel",
      "_view_count": null,
      "_view_module": "@jupyter-widgets/base",
      "_view_module_version": "1.2.0",
      "_view_name": "StyleView",
      "description_width": ""
     }
    },
    "30e77cd131954309b21c4c6c6dc36af8": {
     "model_module": "@jupyter-widgets/base",
     "model_module_version": "1.2.0",
     "model_name": "LayoutModel",
     "state": {
      "_model_module": "@jupyter-widgets/base",
      "_model_module_version": "1.2.0",
      "_model_name": "LayoutModel",
      "_view_count": null,
      "_view_module": "@jupyter-widgets/base",
      "_view_module_version": "1.2.0",
      "_view_name": "LayoutView",
      "align_content": null,
      "align_items": null,
      "align_self": null,
      "border": null,
      "bottom": null,
      "display": null,
      "flex": null,
      "flex_flow": null,
      "grid_area": null,
      "grid_auto_columns": null,
      "grid_auto_flow": null,
      "grid_auto_rows": null,
      "grid_column": null,
      "grid_gap": null,
      "grid_row": null,
      "grid_template_areas": null,
      "grid_template_columns": null,
      "grid_template_rows": null,
      "height": null,
      "justify_content": null,
      "justify_items": null,
      "left": null,
      "margin": null,
      "max_height": null,
      "max_width": null,
      "min_height": null,
      "min_width": null,
      "object_fit": null,
      "object_position": null,
      "order": null,
      "overflow": null,
      "overflow_x": null,
      "overflow_y": null,
      "padding": null,
      "right": null,
      "top": null,
      "visibility": null,
      "width": null
     }
    },
    "939d8694333a4af9bb69a1012bba0726": {
     "model_module": "@jupyter-widgets/controls",
     "model_module_version": "1.5.0",
     "model_name": "HTMLModel",
     "state": {
      "_dom_classes": [],
      "_model_module": "@jupyter-widgets/controls",
      "_model_module_version": "1.5.0",
      "_model_name": "HTMLModel",
      "_view_count": null,
      "_view_module": "@jupyter-widgets/controls",
      "_view_module_version": "1.5.0",
      "_view_name": "HTMLView",
      "description": "",
      "description_tooltip": null,
      "layout": "IPY_MODEL_b59ec66c424a4684888aa9fc2bfc39b8",
      "placeholder": "​",
      "style": "IPY_MODEL_14950edec4ee4ac5b3e3aa508a135062",
      "value": " 170498071/170498071 [00:11&lt;00:00, 16649946.53it/s]"
     }
    },
    "ad1433d8496f455f99a832bbba5f0ae7": {
     "model_module": "@jupyter-widgets/controls",
     "model_module_version": "1.5.0",
     "model_name": "FloatProgressModel",
     "state": {
      "_dom_classes": [],
      "_model_module": "@jupyter-widgets/controls",
      "_model_module_version": "1.5.0",
      "_model_name": "FloatProgressModel",
      "_view_count": null,
      "_view_module": "@jupyter-widgets/controls",
      "_view_module_version": "1.5.0",
      "_view_name": "ProgressView",
      "bar_style": "success",
      "description": "",
      "description_tooltip": null,
      "layout": "IPY_MODEL_baaff93e74394710b076f22c15c1b2a9",
      "max": 170498071,
      "min": 0,
      "orientation": "horizontal",
      "style": "IPY_MODEL_dc59ddfef8204e0aa5d2c7ee7fcb211b",
      "value": 170498071
     }
    },
    "b59ec66c424a4684888aa9fc2bfc39b8": {
     "model_module": "@jupyter-widgets/base",
     "model_module_version": "1.2.0",
     "model_name": "LayoutModel",
     "state": {
      "_model_module": "@jupyter-widgets/base",
      "_model_module_version": "1.2.0",
      "_model_name": "LayoutModel",
      "_view_count": null,
      "_view_module": "@jupyter-widgets/base",
      "_view_module_version": "1.2.0",
      "_view_name": "LayoutView",
      "align_content": null,
      "align_items": null,
      "align_self": null,
      "border": null,
      "bottom": null,
      "display": null,
      "flex": null,
      "flex_flow": null,
      "grid_area": null,
      "grid_auto_columns": null,
      "grid_auto_flow": null,
      "grid_auto_rows": null,
      "grid_column": null,
      "grid_gap": null,
      "grid_row": null,
      "grid_template_areas": null,
      "grid_template_columns": null,
      "grid_template_rows": null,
      "height": null,
      "justify_content": null,
      "justify_items": null,
      "left": null,
      "margin": null,
      "max_height": null,
      "max_width": null,
      "min_height": null,
      "min_width": null,
      "object_fit": null,
      "object_position": null,
      "order": null,
      "overflow": null,
      "overflow_x": null,
      "overflow_y": null,
      "padding": null,
      "right": null,
      "top": null,
      "visibility": null,
      "width": null
     }
    },
    "baaff93e74394710b076f22c15c1b2a9": {
     "model_module": "@jupyter-widgets/base",
     "model_module_version": "1.2.0",
     "model_name": "LayoutModel",
     "state": {
      "_model_module": "@jupyter-widgets/base",
      "_model_module_version": "1.2.0",
      "_model_name": "LayoutModel",
      "_view_count": null,
      "_view_module": "@jupyter-widgets/base",
      "_view_module_version": "1.2.0",
      "_view_name": "LayoutView",
      "align_content": null,
      "align_items": null,
      "align_self": null,
      "border": null,
      "bottom": null,
      "display": null,
      "flex": null,
      "flex_flow": null,
      "grid_area": null,
      "grid_auto_columns": null,
      "grid_auto_flow": null,
      "grid_auto_rows": null,
      "grid_column": null,
      "grid_gap": null,
      "grid_row": null,
      "grid_template_areas": null,
      "grid_template_columns": null,
      "grid_template_rows": null,
      "height": null,
      "justify_content": null,
      "justify_items": null,
      "left": null,
      "margin": null,
      "max_height": null,
      "max_width": null,
      "min_height": null,
      "min_width": null,
      "object_fit": null,
      "object_position": null,
      "order": null,
      "overflow": null,
      "overflow_x": null,
      "overflow_y": null,
      "padding": null,
      "right": null,
      "top": null,
      "visibility": null,
      "width": null
     }
    },
    "dc59ddfef8204e0aa5d2c7ee7fcb211b": {
     "model_module": "@jupyter-widgets/controls",
     "model_module_version": "1.5.0",
     "model_name": "ProgressStyleModel",
     "state": {
      "_model_module": "@jupyter-widgets/controls",
      "_model_module_version": "1.5.0",
      "_model_name": "ProgressStyleModel",
      "_view_count": null,
      "_view_module": "@jupyter-widgets/base",
      "_view_module_version": "1.2.0",
      "_view_name": "StyleView",
      "bar_color": null,
      "description_width": ""
     }
    },
    "ef6dbd6765c248b28de9de7ea0d7b19a": {
     "model_module": "@jupyter-widgets/base",
     "model_module_version": "1.2.0",
     "model_name": "LayoutModel",
     "state": {
      "_model_module": "@jupyter-widgets/base",
      "_model_module_version": "1.2.0",
      "_model_name": "LayoutModel",
      "_view_count": null,
      "_view_module": "@jupyter-widgets/base",
      "_view_module_version": "1.2.0",
      "_view_name": "LayoutView",
      "align_content": null,
      "align_items": null,
      "align_self": null,
      "border": null,
      "bottom": null,
      "display": null,
      "flex": null,
      "flex_flow": null,
      "grid_area": null,
      "grid_auto_columns": null,
      "grid_auto_flow": null,
      "grid_auto_rows": null,
      "grid_column": null,
      "grid_gap": null,
      "grid_row": null,
      "grid_template_areas": null,
      "grid_template_columns": null,
      "grid_template_rows": null,
      "height": null,
      "justify_content": null,
      "justify_items": null,
      "left": null,
      "margin": null,
      "max_height": null,
      "max_width": null,
      "min_height": null,
      "min_width": null,
      "object_fit": null,
      "object_position": null,
      "order": null,
      "overflow": null,
      "overflow_x": null,
      "overflow_y": null,
      "padding": null,
      "right": null,
      "top": null,
      "visibility": null,
      "width": null
     }
    }
   }
  }
 },
 "nbformat": 4,
 "nbformat_minor": 4
}
