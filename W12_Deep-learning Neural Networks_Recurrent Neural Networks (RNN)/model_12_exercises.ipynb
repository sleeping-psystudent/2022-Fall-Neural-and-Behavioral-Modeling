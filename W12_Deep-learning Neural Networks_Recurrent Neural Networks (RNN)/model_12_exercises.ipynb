{
 "cells": [
  {
   "cell_type": "markdown",
   "metadata": {
    "id": "OxTsbZSu4GNe"
   },
   "source": [
    "# Neural & Behavioral Modeling - Week 12 (Exercises)\n",
    "by 李采蓉 b08207042@ntu.edu.tw"
   ]
  },
  {
   "cell_type": "code",
   "execution_count": 1,
   "metadata": {
    "id": "POlDyIUn4GNw"
   },
   "outputs": [],
   "source": [
    "%config IPCompleter.greedy=True \n",
    "%matplotlib inline\n",
    "from matplotlib.pyplot import *\n",
    "from IPython.display import *\n",
    "import numpy as np\n",
    "import torch as t\n",
    "from torch import nn\n",
    "from torch import optim"
   ]
  },
  {
   "cell_type": "code",
   "execution_count": 2,
   "metadata": {
    "colab": {
     "base_uri": "https://localhost:8080/"
    },
    "id": "y3Q5bk-L4GN3",
    "outputId": "5c6bed7f-93d3-4b54-88d4-dae5ed300b36"
   },
   "outputs": [
    {
     "name": "stdout",
     "output_type": "stream",
     "text": [
      "PyTorch version: 1.12.1+cu113\n",
      "No GPU\n"
     ]
    }
   ],
   "source": [
    "# Check GPU status:\n",
    "print('PyTorch version:',t.__version__)\n",
    "use_cuda=t.cuda.is_available()\n",
    "if(use_cuda):\n",
    "    for i in range(t.cuda.device_count()):\n",
    "        print('Device ',i,':',t.cuda.get_device_name(i))\n",
    "    print('Current: Device ',t.cuda.current_device())\n",
    "    t.backends.cudnn.benchmark = True \n",
    "    device = t.device(\"cuda\")\n",
    "else:\n",
    "    device = t.device(\"cpu\")\n",
    "    print('No GPU')"
   ]
  },
  {
   "cell_type": "code",
   "execution_count": 9,
   "metadata": {
    "id": "tGk_D6WJobcS"
   },
   "outputs": [],
   "source": [
    "# Supporting functions:\n",
    "\n",
    "from datetime import datetime\n",
    "\n",
    "def get_acc(output, label):\n",
    "    total = output.shape[0]\n",
    "    _, pred_label = output.max(1)\n",
    "    num_correct = (pred_label == label).sum().item()\n",
    "    return num_correct / total\n",
    "\n",
    "\n",
    "def train(acc, val, device, net, train_data, valid_data, num_epochs, optimizer, criterion):\n",
    "    if t.cuda.is_available():\n",
    "        net = net.cuda()\n",
    "    prev_time = datetime.now()\n",
    "    for epoch in range(num_epochs):\n",
    "        train_loss = 0\n",
    "        train_acc = 0\n",
    "        net = net.train()\n",
    "        #for im, label in train_data:\n",
    "        for im, label in train_data:\n",
    "            im=im.view(-1,im.shape[2],im.shape[3])\n",
    "            im = im.to(device)  # (bs, h, w)\n",
    "            label = label.to(device)\n",
    "            # forward\n",
    "            output = net(im)\n",
    "            loss = criterion(output, label)\n",
    "            # backward\n",
    "            optimizer.zero_grad()\n",
    "            loss.backward()\n",
    "            optimizer.step()\n",
    "\n",
    "            train_loss += loss.data.item()\n",
    "            train_acc += get_acc(output, label)\n",
    "\n",
    "        cur_time = datetime.now()\n",
    "        h, remainder = divmod((cur_time - prev_time).seconds, 3600)\n",
    "        m, s = divmod(remainder, 60)\n",
    "        time_str = \"Time %02d:%02d:%02d\" % (h, m, s)\n",
    "        if valid_data is not None:\n",
    "            valid_loss = 0\n",
    "            valid_acc = 0\n",
    "            net = net.eval()\n",
    "            for im, label in valid_data:\n",
    "                with t.no_grad():\n",
    "                    im=im.view(-1,im.shape[2],im.shape[3])\n",
    "                    im = im.to(device)\n",
    "                    label = label.to(device)\n",
    "                    # print(label, '\\n')\n",
    "                output = net(im)\n",
    "                loss = criterion(output, label)\n",
    "                valid_loss += loss.data.item()\n",
    "                valid_acc += get_acc(output, label)\n",
    "            acc.append(valid_acc/len(valid_data))\n",
    "            val.append(valid_loss/len(valid_data))\n",
    "            epoch_str = (\n",
    "                \"Epoch %d. Train Loss: %f, Train Acc: %f, Valid Loss: %f, Valid Acc: %f, \"\n",
    "                % (epoch, train_loss / len(train_data),\n",
    "                   train_acc / len(train_data), valid_loss / len(valid_data),\n",
    "                   valid_acc / len(valid_data)))\n",
    "        else:\n",
    "            epoch_str = (\"Epoch %d. Train Loss: %f, Train Acc: %f, \" %\n",
    "                         (epoch, train_loss / len(train_data),\n",
    "                          train_acc / len(train_data)))\n",
    "        prev_time = cur_time\n",
    "        print(epoch_str + time_str)"
   ]
  },
  {
   "cell_type": "code",
   "execution_count": 10,
   "metadata": {
    "colab": {
     "base_uri": "https://localhost:8080/",
     "height": 423,
     "referenced_widgets": [
      "9d20da15cefd47e6a123364f13ca9734",
      "ec42f1b15a744ebaa3cf8b9ff0dee106",
      "f3c92769ade442b0a91cde785be0a6a2",
      "4fd5bdcc268241fa82b28d9341d89a66",
      "0e9cff857fac4894b7f3831968b447de",
      "b7a2a9d23093420eb10c609371862147",
      "a258e86c825d435c81fdff743a8948cd",
      "79763a70f53245aa91eaac7bd656c3b9",
      "eb1f7ddebd094d9f8722292143e9bf65",
      "584d0a7490fe4707bd8d3cc52e86cc6f",
      "8ff50af9be714cdca3f68c7b05c21075",
      "12e3559bcf9a422180c69c5dde5c9b28",
      "882ab48fa5ec48f384350d39c38c4cbe",
      "e4798b78f4414073b9c4fc44254240d3",
      "c3b5b02d25714863befd6d9f62a8cd09",
      "8a676c24366a44abb658734cc48d08c0",
      "4f91bed1b9eb4565ad0e28e4104a37b5",
      "e47d6ae0d8cd4850ab7dbbf40857a4f3",
      "fa51a187ceca44bcaf5126a3debbaa95",
      "286432dba3234668a0ab2c2a946c5bea",
      "27ec089daf894a5197279d072905e7c4",
      "2fe8b1482e644e6592347e8a99bd5201",
      "b208897fa87642feaf4d1fd226638a56",
      "3ae3068a2ba149c09b5b89793322b6a4",
      "fbb77889ac89480bb2cb21890a5f9c9f",
      "de4944cd77134b52afdae03e9dbe9a5e",
      "a9151eeb5c31411b9f3ac7ad3d8ce371",
      "510f67c053f44432a7457f6af632b6a6",
      "da9a0f74688c4800828ccf7ee588375a",
      "f5fcbfda030d4a82a86550458bbbdc02",
      "eeb47c5562cc4251af20ccd5d36e27a6",
      "87e6ddd585bd4cd5bd26d3ac5f78aba5",
      "3077a8d73685455bbf546b0957a787b5",
      "ae97e6d140694e5eb6b7e314253ab10f",
      "b58d3ea3d59c41ccaa458d5936e6fce7",
      "1dff045bcd7b49b2bf9344ba859ef751",
      "aa4646704a454ec2b5272fbbcf63e8c6",
      "1172febafc724a98943a5c24ef792fb4",
      "18ea95384a4a44a8858f722ce0232620",
      "23d6e85d201442fcbcfaaea48a2f56c4",
      "801bccdcbafc49bc8e494023f8299700",
      "50038b38bd6c42dcab598b957a141196",
      "7ab6db1e23f04bdabba6c529d0d0bab5",
      "38e1ebba23214907986adc87a8e12e4c"
     ]
    },
    "id": "-HdLttlUKv6r",
    "outputId": "58d2e18f-5771-4a96-efc1-24c45078ae78"
   },
   "outputs": [
    {
     "name": "stdout",
     "output_type": "stream",
     "text": [
      "Downloading http://yann.lecun.com/exdb/mnist/train-images-idx3-ubyte.gz\n",
      "Downloading http://yann.lecun.com/exdb/mnist/train-images-idx3-ubyte.gz to ./data/MNIST/raw/train-images-idx3-ubyte.gz\n"
     ]
    },
    {
     "data": {
      "application/vnd.jupyter.widget-view+json": {
       "model_id": "9d20da15cefd47e6a123364f13ca9734",
       "version_major": 2,
       "version_minor": 0
      },
      "text/plain": [
       "  0%|          | 0/9912422 [00:00<?, ?it/s]"
      ]
     },
     "metadata": {},
     "output_type": "display_data"
    },
    {
     "name": "stdout",
     "output_type": "stream",
     "text": [
      "Extracting ./data/MNIST/raw/train-images-idx3-ubyte.gz to ./data/MNIST/raw\n",
      "\n",
      "Downloading http://yann.lecun.com/exdb/mnist/train-labels-idx1-ubyte.gz\n",
      "Downloading http://yann.lecun.com/exdb/mnist/train-labels-idx1-ubyte.gz to ./data/MNIST/raw/train-labels-idx1-ubyte.gz\n"
     ]
    },
    {
     "data": {
      "application/vnd.jupyter.widget-view+json": {
       "model_id": "12e3559bcf9a422180c69c5dde5c9b28",
       "version_major": 2,
       "version_minor": 0
      },
      "text/plain": [
       "  0%|          | 0/28881 [00:00<?, ?it/s]"
      ]
     },
     "metadata": {},
     "output_type": "display_data"
    },
    {
     "name": "stdout",
     "output_type": "stream",
     "text": [
      "Extracting ./data/MNIST/raw/train-labels-idx1-ubyte.gz to ./data/MNIST/raw\n",
      "\n",
      "Downloading http://yann.lecun.com/exdb/mnist/t10k-images-idx3-ubyte.gz\n",
      "Downloading http://yann.lecun.com/exdb/mnist/t10k-images-idx3-ubyte.gz to ./data/MNIST/raw/t10k-images-idx3-ubyte.gz\n"
     ]
    },
    {
     "data": {
      "application/vnd.jupyter.widget-view+json": {
       "model_id": "b208897fa87642feaf4d1fd226638a56",
       "version_major": 2,
       "version_minor": 0
      },
      "text/plain": [
       "  0%|          | 0/1648877 [00:00<?, ?it/s]"
      ]
     },
     "metadata": {},
     "output_type": "display_data"
    },
    {
     "name": "stdout",
     "output_type": "stream",
     "text": [
      "Extracting ./data/MNIST/raw/t10k-images-idx3-ubyte.gz to ./data/MNIST/raw\n",
      "\n",
      "Downloading http://yann.lecun.com/exdb/mnist/t10k-labels-idx1-ubyte.gz\n",
      "Downloading http://yann.lecun.com/exdb/mnist/t10k-labels-idx1-ubyte.gz to ./data/MNIST/raw/t10k-labels-idx1-ubyte.gz\n"
     ]
    },
    {
     "data": {
      "application/vnd.jupyter.widget-view+json": {
       "model_id": "ae97e6d140694e5eb6b7e314253ab10f",
       "version_major": 2,
       "version_minor": 0
      },
      "text/plain": [
       "  0%|          | 0/4542 [00:00<?, ?it/s]"
      ]
     },
     "metadata": {},
     "output_type": "display_data"
    },
    {
     "name": "stdout",
     "output_type": "stream",
     "text": [
      "Extracting ./data/MNIST/raw/t10k-labels-idx1-ubyte.gz to ./data/MNIST/raw\n",
      "\n"
     ]
    }
   ],
   "source": [
    "from torchvision import datasets, transforms\n",
    "\n",
    "transform = transforms.Compose([transforms.ToTensor(),\n",
    "                                transforms.Normalize(mean=[0.5],std=[0.5])])\n",
    "\n",
    "train_set = datasets.MNIST(root = \"./data\",\n",
    "                               transform = transform,\n",
    "                               train = True,\n",
    "                               download = True)\n",
    "\n",
    "train_data = t.utils.data.DataLoader(train_set, batch_size=64, shuffle=True)\n",
    "\n",
    "\n",
    "test_set = datasets.MNIST(root = \"./data\",\n",
    "                              transform = transform,\n",
    "                              train = False)\n",
    "\n",
    "test_data = t.utils.data.DataLoader(test_set, batch_size=64, shuffle=True)"
   ]
  },
  {
   "cell_type": "markdown",
   "metadata": {
    "id": "9heufGaG4GN8"
   },
   "source": [
    "## 1. RNN on images (4 points)\n",
    "Note that the RNN-based MNIST classifier in 2.1.1 of model_12_examples.ipynb did not apply a softmax as the response function of its last layer.\n",
    "\n",
    "Does adding a softmax make any difference in model prediciton performance? Why or why not?\n",
    "\n",
    "Refs:\n",
    "\n",
    "[1] https://pytorch.org/docs/stable/nn.html \n",
    "\n",
    "[2] https://pytorch.org/docs/stable/nn.functional.html \n",
    "\n",
    "[3] https://pytorch.org/docs/stable/_modules/torch/nn/modules/loss.html"
   ]
  },
  {
   "cell_type": "code",
   "execution_count": null,
   "metadata": {
    "id": "cb5-CyfN4GOA"
   },
   "outputs": [],
   "source": [
    "# Thoe model in 2.1.1 of 13_examples.ipynb:\n",
    "\n",
    "class RNN(nn.Module):\n",
    "    def __init__(self):\n",
    "        super(RNN, self).__init__()\n",
    "        self.rnn = nn.RNN(input_size = 28,\n",
    "                                hidden_size = 128,\n",
    "                                num_layers = 1,\n",
    "                                batch_first = True)\n",
    "        \n",
    "        self.classifier = nn.Linear(128,10)\n",
    "        \n",
    "    def forward(self, input):\n",
    "        output,_ = self.rnn(input, None)\n",
    "        output = self.classifier(output[:,-1,:])\n",
    "        return output"
   ]
  },
  {
   "cell_type": "code",
   "execution_count": null,
   "metadata": {
    "colab": {
     "base_uri": "https://localhost:8080/"
    },
    "id": "ncJ8Bi0i4GOD",
    "outputId": "6e62a01e-5210-46e3-984f-fbdae8581d19"
   },
   "outputs": [
    {
     "name": "stdout",
     "output_type": "stream",
     "text": [
      "Epoch 0. Train Loss: 0.751204, Train Acc: 0.751449, Valid Loss: 0.416939, Valid Acc: 0.879180, Time 00:00:22\n",
      "Epoch 1. Train Loss: 0.318930, Train Acc: 0.909815, Valid Loss: 0.236395, Valid Acc: 0.931628, Time 00:00:24\n",
      "Epoch 2. Train Loss: 0.235555, Train Acc: 0.933136, Valid Loss: 0.223305, Valid Acc: 0.937002, Time 00:00:25\n",
      "Epoch 3. Train Loss: 0.193346, Train Acc: 0.945312, Valid Loss: 0.184548, Valid Acc: 0.949642, Time 00:00:25\n",
      "Epoch 4. Train Loss: 0.169598, Train Acc: 0.953075, Valid Loss: 0.183374, Valid Acc: 0.950936, Time 00:00:25\n",
      "Epoch 5. Train Loss: 0.155688, Train Acc: 0.956507, Valid Loss: 0.162294, Valid Acc: 0.955115, Time 00:00:26\n",
      "Epoch 6. Train Loss: 0.146155, Train Acc: 0.958755, Valid Loss: 0.150901, Valid Acc: 0.958997, Time 00:00:25\n",
      "Epoch 7. Train Loss: 0.139088, Train Acc: 0.961387, Valid Loss: 0.144385, Valid Acc: 0.959992, Time 00:00:25\n",
      "Epoch 8. Train Loss: 0.129831, Train Acc: 0.964119, Valid Loss: 0.133457, Valid Acc: 0.962480, Time 00:00:25\n",
      "Epoch 9. Train Loss: 0.118089, Train Acc: 0.966768, Valid Loss: 0.140230, Valid Acc: 0.964271, Time 00:00:25\n"
     ]
    }
   ],
   "source": [
    "# Please run your computational experiments and write your observations accordingly.\n",
    "srn = RNN()\n",
    "optimizer = optim.Adam(srn.parameters())\n",
    "criterion = nn.CrossEntropyLoss()\n",
    "acc_ori=[]\n",
    "val_ori=[]\n",
    "train(acc_ori, val_ori, device, srn, train_data, test_data, 10, optimizer, criterion)"
   ]
  },
  {
   "cell_type": "code",
   "execution_count": null,
   "metadata": {
    "id": "9p5xLG7n8Phe"
   },
   "outputs": [],
   "source": [
    "class RNN_fixed(nn.Module):\n",
    "    def __init__(self):\n",
    "        super(RNN_fixed, self).__init__()\n",
    "        self.rnn = nn.RNN(input_size = 28,\n",
    "                                hidden_size = 128,\n",
    "                                num_layers = 1,\n",
    "                                batch_first = True)\n",
    "        \n",
    "        self.classifier = nn.Linear(128,10)\n",
    "        \n",
    "    def forward(self, input):\n",
    "        output,_ = self.rnn(input, None)\n",
    "        output = self.classifier(output[:,-1,:])\n",
    "        return nn.softmax(output, dim=1)"
   ]
  },
  {
   "cell_type": "code",
   "execution_count": null,
   "metadata": {
    "colab": {
     "base_uri": "https://localhost:8080/"
    },
    "id": "wCxWnQwQ8Pt2",
    "outputId": "0c19f5f3-e1a5-4160-d012-c6b1d71db2e9"
   },
   "outputs": [
    {
     "name": "stdout",
     "output_type": "stream",
     "text": [
      "Epoch 0. Train Loss: 0.095886, Train Acc: 0.972698, Valid Loss: 0.121367, Valid Acc: 0.965068, Time 00:00:21\n",
      "Epoch 1. Train Loss: 0.095856, Train Acc: 0.972715, Valid Loss: 0.121836, Valid Acc: 0.964769, Time 00:00:23\n",
      "Epoch 2. Train Loss: 0.095922, Train Acc: 0.972698, Valid Loss: 0.121603, Valid Acc: 0.964769, Time 00:00:23\n",
      "Epoch 3. Train Loss: 0.095907, Train Acc: 0.972698, Valid Loss: 0.123403, Valid Acc: 0.964769, Time 00:00:23\n",
      "Epoch 4. Train Loss: 0.095933, Train Acc: 0.972681, Valid Loss: 0.121160, Valid Acc: 0.965068, Time 00:00:24\n",
      "Epoch 5. Train Loss: 0.095904, Train Acc: 0.972698, Valid Loss: 0.121284, Valid Acc: 0.965068, Time 00:00:23\n",
      "Epoch 6. Train Loss: 0.095859, Train Acc: 0.972715, Valid Loss: 0.121422, Valid Acc: 0.965068, Time 00:00:24\n",
      "Epoch 7. Train Loss: 0.095861, Train Acc: 0.972715, Valid Loss: 0.122677, Valid Acc: 0.964471, Time 00:00:24\n",
      "Epoch 8. Train Loss: 0.095860, Train Acc: 0.972715, Valid Loss: 0.121555, Valid Acc: 0.964769, Time 00:00:24\n",
      "Epoch 9. Train Loss: 0.095865, Train Acc: 0.972715, Valid Loss: 0.121197, Valid Acc: 0.965068, Time 00:00:24\n"
     ]
    }
   ],
   "source": [
    "srn_f = RNN_fixed()\n",
    "optimizer = optim.Adam(srn_f.parameters())\n",
    "criterion = nn.CrossEntropyLoss()\n",
    "acc_fixed=[]\n",
    "val_fixed=[]\n",
    "train(acc_fixed, val_fixed, device, srn, train_data, test_data, 10, optimizer, criterion)"
   ]
  },
  {
   "cell_type": "code",
   "execution_count": null,
   "metadata": {
    "colab": {
     "base_uri": "https://localhost:8080/",
     "height": 298
    },
    "id": "zsqcTFIxYDQ0",
    "outputId": "f55861e1-9b5b-4c75-d6a2-30539b75b92b"
   },
   "outputs": [
    {
     "data": {
      "text/plain": [
       "Text(0.5, 1.0, 'accuracy')"
      ]
     },
     "execution_count": 30,
     "metadata": {},
     "output_type": "execute_result"
    },
    {
     "data": {
      "image/png": "[encoded data removed]",
      "text/plain": [
       "<Figure size 432x288 with 1 Axes>"
      ]
     },
     "metadata": {
      "needs_background": "light"
     },
     "output_type": "display_data"
    }
   ],
   "source": [
    "plot(acc_ori, 'r', label='no softmax')\n",
    "plot(acc_fixed, 'b', label='with sofmax')\n",
    "legend\n",
    "title(\"accuracy\")"
   ]
  },
  {
   "cell_type": "code",
   "execution_count": null,
   "metadata": {
    "colab": {
     "base_uri": "https://localhost:8080/",
     "height": 298
    },
    "id": "Hi7wt0T1DsEs",
    "outputId": "592a35af-492c-4b92-bb5b-362b3954f304"
   },
   "outputs": [
    {
     "data": {
      "text/plain": [
       "Text(0.5, 1.0, 'loss')"
      ]
     },
     "execution_count": 31,
     "metadata": {},
     "output_type": "execute_result"
    },
    {
     "data": {
      "image/png": "[encoded data removed]",
      "text/plain": [
       "<Figure size 432x288 with 1 Axes>"
      ]
     },
     "metadata": {
      "needs_background": "light"
     },
     "output_type": "display_data"
    }
   ],
   "source": [
    "plot(val_ori, 'r', label='no softmax')\n",
    "plot(val_fixed, 'b', label='with sofmax')\n",
    "legend\n",
    "title(\"loss\")"
   ]
  },
  {
   "cell_type": "markdown",
   "metadata": {
    "id": "efgeD05184Jb"
   },
   "source": [
    "**討論**：<br>\n",
    "softmax的作用基本上就是將所有可能值映射到[0,1]區間內，最後選擇機率最大的輸出，可以視作bernoulli distribution的應用。從試驗結果上來看，加了softmax的表現會比較好，從最開始就可以達到0.96以上的準確率。<br>\n",
    "延伸閱讀：[初学日2-激活函数-softmax函数-rnn循环神经网络](https://blog.csdn.net/qq_24059779/article/details/83545096#t17)"
   ]
  },
  {
   "cell_type": "markdown",
   "metadata": {
    "id": "wgoe6VrX4GOG"
   },
   "source": [
    "## 2. RNN v.s. CNN (4 points)\n",
    "Compare the results of 2.2.1 (RNN) & 2.3.1 (CNN) in model_12_examples.ipynb.\n",
    "\n",
    "The 1D-CNN seems to predict the time series better than the RNN. Why?\n",
    "\n",
    "You may verify your hypotheses by computational experiments."
   ]
  },
  {
   "cell_type": "markdown",
   "metadata": {
    "id": "XniTymcCQNxS"
   },
   "source": [
    "### Data"
   ]
  },
  {
   "cell_type": "code",
   "execution_count": 3,
   "metadata": {
    "colab": {
     "base_uri": "https://localhost:8080/",
     "height": 265
    },
    "id": "81bs9fecQLkH",
    "outputId": "40d94a87-c7eb-48d0-e866-6785679c8b5a"
   },
   "outputs": [
    {
     "data": {
      "image/png": "[encoded data removed]",
      "text/plain": [
       "<Figure size 432x288 with 1 Axes>"
      ]
     },
     "metadata": {
      "needs_background": "light"
     },
     "output_type": "display_data"
    }
   ],
   "source": [
    "import pandas as pd\n",
    "ts = pd.read_csv('data.csv', usecols=[1]).dropna().values.astype('float32')\n",
    "plot(ts); "
   ]
  },
  {
   "cell_type": "code",
   "execution_count": 4,
   "metadata": {
    "colab": {
     "base_uri": "https://localhost:8080/",
     "height": 282
    },
    "id": "GgL0mqatbqV3",
    "outputId": "31361c50-93b6-4400-9ae6-c3b442f91bb9"
   },
   "outputs": [
    {
     "name": "stdout",
     "output_type": "stream",
     "text": [
      "144\n"
     ]
    },
    {
     "data": {
      "image/png": "[encoded data removed]",
      "text/plain": [
       "<Figure size 432x288 with 1 Axes>"
      ]
     },
     "metadata": {
      "needs_background": "light"
     },
     "output_type": "display_data"
    }
   ],
   "source": [
    "# Normalize:\n",
    "max_value = np.max(ts)\n",
    "min_value = np.min(ts)\n",
    "scalar = max_value - min_value\n",
    "ts = list(map(lambda x: x / scalar, ts))\n",
    "print(len(ts))\n",
    "plot(ts); "
   ]
  },
  {
   "cell_type": "markdown",
   "metadata": {
    "id": "hyhrw7fQcluQ"
   },
   "source": [
    "#### 2.2.1 RNN"
   ]
  },
  {
   "cell_type": "code",
   "execution_count": 13,
   "metadata": {
    "colab": {
     "base_uri": "https://localhost:8080/"
    },
    "id": "ofYP_qD_cf32",
    "outputId": "cd9a8deb-bd46-4286-8004-0edd0eb86f9d"
   },
   "outputs": [
    {
     "name": "stdout",
     "output_type": "stream",
     "text": [
      "[[0.21621622]\n",
      " [0.22779922]] [0.25482625]\n"
     ]
    }
   ],
   "source": [
    "# Prepare windowed data for our RNN model(s):\n",
    "def create_dataset(dataset, look_back=2):\n",
    "    dataX, dataY = [], []\n",
    "    for i in range(len(dataset) - look_back):\n",
    "        a = dataset[i:(i + look_back)]\n",
    "        dataX.append(a)\n",
    "        dataY.append(dataset[i + look_back])\n",
    "    return np.array(dataX), np.array(dataY)\n",
    "\n",
    "data_X, data_Y = create_dataset(ts)\n",
    "\n",
    "print(data_X[0],data_Y[0]) # (Xt-2, Xt-1) -> Xt"
   ]
  },
  {
   "cell_type": "code",
   "execution_count": 14,
   "metadata": {
    "colab": {
     "base_uri": "https://localhost:8080/"
    },
    "id": "bQNkCtR-ciYu",
    "outputId": "529b1308-00d4-4149-8dad-b2c327e4a239"
   },
   "outputs": [
    {
     "name": "stdout",
     "output_type": "stream",
     "text": [
      "(99, 2, 1) (99, 1)\n"
     ]
    }
   ],
   "source": [
    "# Train-Test split:\n",
    "train_size = int(len(data_X) * 0.7) # 70% for training\n",
    "test_size = len(data_X) - train_size\n",
    "train_X = data_X[:train_size]\n",
    "train_Y = data_Y[:train_size]\n",
    "test_X = data_X[train_size:]\n",
    "test_Y = data_Y[train_size:]\n",
    "\n",
    "print(train_X.shape,train_Y.shape)"
   ]
  },
  {
   "cell_type": "code",
   "execution_count": 15,
   "metadata": {
    "colab": {
     "base_uri": "https://localhost:8080/"
    },
    "id": "jnSRWmAPckeU",
    "outputId": "e7ce4847-e06d-46a7-9d64-43c84f9917d0"
   },
   "outputs": [
    {
     "name": "stdout",
     "output_type": "stream",
     "text": [
      "torch.Size([99, 1, 2]) torch.Size([99, 1, 1])\n"
     ]
    }
   ],
   "source": [
    "# Reshape the data into (seq, batch, featue)\n",
    "train_X = train_X.reshape(-1, 1, 2)\n",
    "train_Y = train_Y.reshape(-1, 1, 1)\n",
    "test_X = test_X.reshape(-1, 1, 2)\n",
    "\n",
    "train_x = t.from_numpy(train_X)\n",
    "train_y = t.from_numpy(train_Y)\n",
    "test_x = t.from_numpy(test_X)\n",
    "\n",
    "print(train_x.shape,train_y.shape)"
   ]
  },
  {
   "cell_type": "code",
   "execution_count": 16,
   "metadata": {
    "id": "rqeLK2m64GOK"
   },
   "outputs": [],
   "source": [
    "class lstm_reg(nn.Module):\n",
    "    def __init__(self, input_size, hidden_size, output_size=1, num_layers=2):\n",
    "        super(lstm_reg, self).__init__()\n",
    "        \n",
    "        self.rnn = nn.LSTM(input_size, hidden_size, num_layers) # rnn\n",
    "        self.reg = nn.Linear(hidden_size, output_size) # regression\n",
    "        \n",
    "    def forward(self, x):\n",
    "        x, _ = self.rnn(x) # (seq, batch, hidden)\n",
    "        s, b, h = x.shape\n",
    "        x = x.view(s*b, h) # flatten\n",
    "        x = self.reg(x)\n",
    "        x = x.view(s, b, -1)\n",
    "        return x"
   ]
  },
  {
   "cell_type": "code",
   "execution_count": 17,
   "metadata": {
    "id": "V2CGlxGbcLG_"
   },
   "outputs": [],
   "source": [
    "net = lstm_reg(input_size=2, hidden_size=10)\n",
    "criterion = nn.MSELoss()\n",
    "optimizer = t.optim.Adam(net.parameters(),lr=1e-2)"
   ]
  },
  {
   "cell_type": "code",
   "execution_count": 20,
   "metadata": {
    "colab": {
     "base_uri": "https://localhost:8080/"
    },
    "id": "jC3xTsxJcRQQ",
    "outputId": "34abbcbb-cb77-4754-e4bd-1fd8dce0a55c"
   },
   "outputs": [
    {
     "name": "stdout",
     "output_type": "stream",
     "text": [
      "Epoch: 100, Loss: 0.00362\n",
      "Epoch: 200, Loss: 0.00305\n",
      "Epoch: 300, Loss: 0.00173\n",
      "Epoch: 400, Loss: 0.00092\n",
      "Epoch: 500, Loss: 0.00062\n",
      "Epoch: 600, Loss: 0.00064\n",
      "Epoch: 700, Loss: 0.00061\n",
      "Epoch: 800, Loss: 0.00071\n",
      "Epoch: 900, Loss: 0.00092\n",
      "Epoch: 1000, Loss: 0.00042\n"
     ]
    }
   ],
   "source": [
    "# Training:\n",
    "for e in range(1000):\n",
    "    # Forward:\n",
    "    out = net(train_x)\n",
    "    loss = criterion(out, train_y)\n",
    "    # Backward:\n",
    "    optimizer.zero_grad()\n",
    "    loss.backward()\n",
    "    optimizer.step()\n",
    "    if (e + 1) % 100 == 0: # print loss every 100 epochs\n",
    "        print('Epoch: {}, Loss: {:.5f}'.format(e + 1, loss.item()))"
   ]
  },
  {
   "cell_type": "code",
   "execution_count": 23,
   "metadata": {
    "colab": {
     "base_uri": "https://localhost:8080/",
     "height": 282
    },
    "id": "T33oys8dcXiL",
    "outputId": "2e8ef47c-3138-4379-a9e4-3bf48608ef55"
   },
   "outputs": [
    {
     "name": "stdout",
     "output_type": "stream",
     "text": [
      "torch.Size([142, 1, 1]) (142,) 144\n"
     ]
    },
    {
     "data": {
      "image/png": "[encoded data removed]",
      "text/plain": [
       "<Figure size 432x288 with 1 Axes>"
      ]
     },
     "metadata": {
      "needs_background": "light"
     },
     "output_type": "display_data"
    }
   ],
   "source": [
    "# Testing on the whole series (70% trained + 30% untrained):\n",
    "net = net.eval() \n",
    "data_X2 = data_X.reshape(-1, 1, 2)\n",
    "data_X3 = t.from_numpy(data_X2)\n",
    "pred_test1 = net(data_X3) \n",
    "pred_test2 = pred_test1.view(-1).data.numpy() # reshaping to a simple time series\n",
    "print(pred_test1.shape, pred_test2.shape, len(ts))\n",
    "\n",
    "# Visualization:\n",
    "plot(pred_test2, 'r', label='prediction')\n",
    "plot(ts[2:], 'b', label='real');"
   ]
  },
  {
   "cell_type": "markdown",
   "metadata": {
    "id": "IdpayvUAcvit"
   },
   "source": [
    "#### 2.3.1 CNN"
   ]
  },
  {
   "cell_type": "code",
   "execution_count": 30,
   "metadata": {
    "colab": {
     "base_uri": "https://localhost:8080/"
    },
    "id": "u5nnhuogeiMq",
    "outputId": "59ad05b4-18c3-4bfe-9926-69101114fc25"
   },
   "outputs": [
    {
     "name": "stdout",
     "output_type": "stream",
     "text": [
      "torch.Size([99, 1, 2]) torch.Size([99, 1])\n"
     ]
    }
   ],
   "source": [
    "# Train-Test split:\n",
    "data_X4 = np.swapaxes(data_X,1,2) # should be (batch, channel, input)\n",
    "L=data_X4.shape[0]\n",
    "train_size = int(L * 0.7) # 70% for training\n",
    "test_size = L - train_size\n",
    "train_X = data_X4[:train_size]\n",
    "train_Y = data_Y[:train_size]\n",
    "test_X = data_X4[train_size:]\n",
    "test_Y = data_Y[train_size:]\n",
    "\n",
    "train_x = t.from_numpy(train_X)\n",
    "train_y = t.from_numpy(train_Y)\n",
    "test_x = t.from_numpy(test_X)\n",
    "\n",
    "print(train_x.shape,train_y.shape) # (batch,input,feature)"
   ]
  },
  {
   "cell_type": "code",
   "execution_count": 33,
   "metadata": {
    "id": "As2KofRx4GON"
   },
   "outputs": [],
   "source": [
    "class cnn_reg(nn.Module):\n",
    "    def __init__(self, in_channels, hidden_size, output_size, kernel_size):\n",
    "        super(cnn_reg, self).__init__()\n",
    "        \n",
    "        self.conv = nn.Conv1d(in_channels=in_channels, out_channels=hidden_size, kernel_size=kernel_size) # in_channels=features\n",
    "\n",
    "        self.reg = nn.Linear(hidden_size, output_size) # regression\n",
    "        \n",
    "    def forward(self, x):\n",
    "        x = self.conv(x) # (batch, channel, input)\n",
    "        x=x.view(x.size()[0], -1) # flatten\n",
    "        x = self.reg(x)\n",
    "        return x"
   ]
  },
  {
   "cell_type": "code",
   "execution_count": 34,
   "metadata": {
    "id": "ENv3ZynrNBXo"
   },
   "outputs": [],
   "source": [
    "net = cnn_reg(in_channels=1, hidden_size=10, output_size=1, kernel_size=2)\n",
    "criterion = nn.MSELoss()\n",
    "optimizer = t.optim.Adam(net.parameters(),lr=1e-2)"
   ]
  },
  {
   "cell_type": "code",
   "execution_count": 35,
   "metadata": {
    "colab": {
     "base_uri": "https://localhost:8080/"
    },
    "id": "ZkH1Svmt4GOQ",
    "outputId": "ba3e4097-b6c6-4db5-8d31-ecaeacf6a39d"
   },
   "outputs": [
    {
     "name": "stdout",
     "output_type": "stream",
     "text": [
      "Epoch: 100, Loss: 0.00411\n",
      "Epoch: 200, Loss: 0.00366\n",
      "Epoch: 300, Loss: 0.00322\n",
      "Epoch: 400, Loss: 0.00282\n",
      "Epoch: 500, Loss: 0.00249\n",
      "Epoch: 600, Loss: 0.00224\n",
      "Epoch: 700, Loss: 0.00207\n",
      "Epoch: 800, Loss: 0.00197\n",
      "Epoch: 900, Loss: 0.00192\n",
      "Epoch: 1000, Loss: 0.00191\n"
     ]
    }
   ],
   "source": [
    "# Training:\n",
    "for e in range(1000):\n",
    "    # Forward:\n",
    "    out = net(train_x)\n",
    "    loss = criterion(out, train_y)\n",
    "    # Backward:\n",
    "    optimizer.zero_grad()\n",
    "    loss.backward()\n",
    "    optimizer.step()\n",
    "    if (e + 1) % 100 == 0: # print loss every 100 epochs\n",
    "        print('Epoch: {}, Loss: {:.5f}'.format(e + 1, loss.item()))"
   ]
  },
  {
   "cell_type": "code",
   "execution_count": 36,
   "metadata": {
    "colab": {
     "base_uri": "https://localhost:8080/",
     "height": 282
    },
    "id": "GN1Ag5t-eTw-",
    "outputId": "91456b33-0a8b-4dc4-d9fb-037ba3fbe585"
   },
   "outputs": [
    {
     "name": "stdout",
     "output_type": "stream",
     "text": [
      "torch.Size([142, 1]) (142,) 144\n"
     ]
    },
    {
     "data": {
      "image/png": "[encoded data removed]",
      "text/plain": [
       "<Figure size 432x288 with 1 Axes>"
      ]
     },
     "metadata": {
      "needs_background": "light"
     },
     "output_type": "display_data"
    }
   ],
   "source": [
    "# Testing on the whole series (70% trained + 30% untrained):\n",
    "net = net.eval() \n",
    "pred_test1 = net(t.from_numpy(data_X4))\n",
    "pred_test2 = pred_test1.view(-1).data.numpy() # reshaping to a simple time series\n",
    "print(pred_test1.shape, pred_test2.shape, len(ts))\n",
    "\n",
    "# Visualization:\n",
    "plot(pred_test2, 'r', label='prediction')\n",
    "plot(ts[2:], 'b', label='real');"
   ]
  },
  {
   "cell_type": "markdown",
   "metadata": {
    "id": "IA96sigpkQg_"
   },
   "source": [
    "**討論**：<br>\n",
    "上面兩個模型中，數據中相鄰的值在CNN模型的影響會大於LSTM模型中的影響，這也就是為什麼像時間序列這類型很看重前面數據，使用1D-CNN的效果會比LSTM好得多。如果要改進這個LSTM模型的話，也許可以將time window的寬度拉長，讓模型訓練起來更全面一點。\n",
    "\n",
    "延伸閱讀：[时间序列数据分析101 - (14) LSTM模型的应用（Pytorch搭建和Darts调用两种方法）](https://zhuanlan.zhihu.com/p/392828302)<br>\n",
    "&emsp;&emsp;&emsp;&emsp;&emsp;[时间序列数据分析101 - (15) 1D CNN 一维卷积神经网络](https://zhuanlan.zhihu.com/p/393565498)<br>\n",
    "&emsp;&emsp;&emsp;&emsp;&emsp;[时间序列数据分析101 - (16) 模型评估的考虑](https://zhuanlan.zhihu.com/p/394810448)"
   ]
  },
  {
   "cell_type": "markdown",
   "metadata": {
    "id": "ALhFaI4urpW4"
   },
   "source": [
    "#### 當window size=5"
   ]
  },
  {
   "cell_type": "code",
   "execution_count": null,
   "metadata": {
    "id": "RnoekXJ_srE_"
   },
   "outputs": [],
   "source": [
    "window_size=5"
   ]
  },
  {
   "cell_type": "code",
   "execution_count": 60,
   "metadata": {
    "colab": {
     "base_uri": "https://localhost:8080/"
    },
    "id": "EuQBdnwYpWDi",
    "outputId": "cab470d8-a3df-4e83-8c25-3a5cacad1347"
   },
   "outputs": [
    {
     "name": "stdout",
     "output_type": "stream",
     "text": [
      "[[0.21621622]\n",
      " [0.22779922]\n",
      " [0.25482625]\n",
      " [0.24903475]\n",
      " [0.23359074]] [0.26061776]\n"
     ]
    }
   ],
   "source": [
    "# Prepare windowed data for our RNN model(s):\n",
    "def create_dataset(dataset, look_back=window_size):\n",
    "    dataX, dataY = [], []\n",
    "    for i in range(len(dataset) - look_back):\n",
    "        a = dataset[i:(i + look_back)]\n",
    "        dataX.append(a)\n",
    "        dataY.append(dataset[i + look_back])\n",
    "    return np.array(dataX), np.array(dataY)\n",
    "\n",
    "data_X, data_Y = create_dataset(ts)\n",
    "\n",
    "print(data_X[0],data_Y[0]) # (Xt-2, Xt-1) -> Xt"
   ]
  },
  {
   "cell_type": "code",
   "execution_count": 61,
   "metadata": {
    "colab": {
     "base_uri": "https://localhost:8080/"
    },
    "id": "se8vmtuZpdZK",
    "outputId": "c22b6544-c3f4-4e8b-cd3f-985e17bbdffa"
   },
   "outputs": [
    {
     "name": "stdout",
     "output_type": "stream",
     "text": [
      "(97, 5, 1) (97, 1)\n"
     ]
    }
   ],
   "source": [
    "# Train-Test split:\n",
    "train_size = int(len(data_X) * 0.7) # 70% for training\n",
    "test_size = len(data_X) - train_size\n",
    "train_X = data_X[:train_size]\n",
    "train_Y = data_Y[:train_size]\n",
    "test_X = data_X[train_size:]\n",
    "test_Y = data_Y[train_size:]\n",
    "\n",
    "print(train_X.shape,train_Y.shape)"
   ]
  },
  {
   "cell_type": "code",
   "execution_count": 62,
   "metadata": {
    "colab": {
     "base_uri": "https://localhost:8080/"
    },
    "id": "J1ujrlGYpiPi",
    "outputId": "7f60b0ec-adeb-4e3b-fc4a-04bc153f4699"
   },
   "outputs": [
    {
     "name": "stdout",
     "output_type": "stream",
     "text": [
      "torch.Size([97, 1, 5]) torch.Size([97, 1, 1])\n"
     ]
    }
   ],
   "source": [
    "# Reshape the data into (seq, batch, featue)\n",
    "train_X = train_X.reshape(-1, 1, window_size)\n",
    "train_Y = train_Y.reshape(-1, 1, 1)\n",
    "test_X = test_X.reshape(-1, 1, window_size)\n",
    "\n",
    "train_x = t.from_numpy(train_X)\n",
    "train_y = t.from_numpy(train_Y)\n",
    "test_x = t.from_numpy(test_X)\n",
    "\n",
    "print(train_x.shape,train_y.shape)"
   ]
  },
  {
   "cell_type": "code",
   "execution_count": 63,
   "metadata": {
    "id": "BFuaQoUBpmgM"
   },
   "outputs": [],
   "source": [
    "class lstm_reg(nn.Module):\n",
    "    def __init__(self, input_size, hidden_size, output_size=1, num_layers=2):\n",
    "        super(lstm_reg, self).__init__()\n",
    "        \n",
    "        self.rnn = nn.LSTM(input_size, hidden_size, num_layers) # rnn\n",
    "        self.reg = nn.Linear(hidden_size, output_size) # regression\n",
    "        \n",
    "    def forward(self, x):\n",
    "        x, _ = self.rnn(x) # (seq, batch, hidden)\n",
    "        s, b, h = x.shape\n",
    "        x = x.view(s*b, h) # flatten\n",
    "        x = self.reg(x)\n",
    "        x = x.view(s, b, -1)\n",
    "        return x"
   ]
  },
  {
   "cell_type": "code",
   "execution_count": 64,
   "metadata": {
    "id": "WFbUw9c7pp1L"
   },
   "outputs": [],
   "source": [
    "net = lstm_reg(input_size=window_size, hidden_size=10)\n",
    "criterion = nn.MSELoss()\n",
    "optimizer = t.optim.Adam(net.parameters(),lr=1e-2)"
   ]
  },
  {
   "cell_type": "code",
   "execution_count": 65,
   "metadata": {
    "colab": {
     "base_uri": "https://localhost:8080/"
    },
    "id": "TIozyLidptDL",
    "outputId": "ec743a70-f578-47c2-af92-2f2bb427cadf"
   },
   "outputs": [
    {
     "name": "stdout",
     "output_type": "stream",
     "text": [
      "Epoch: 100, Loss: 0.00450\n",
      "Epoch: 200, Loss: 0.00424\n",
      "Epoch: 300, Loss: 0.00358\n",
      "Epoch: 400, Loss: 0.00153\n",
      "Epoch: 500, Loss: 0.00099\n",
      "Epoch: 600, Loss: 0.00049\n",
      "Epoch: 700, Loss: 0.00047\n",
      "Epoch: 800, Loss: 0.00042\n",
      "Epoch: 900, Loss: 0.00040\n",
      "Epoch: 1000, Loss: 0.00037\n"
     ]
    }
   ],
   "source": [
    "# Training:\n",
    "for e in range(1000):\n",
    "    # Forward:\n",
    "    out = net(train_x)\n",
    "    loss = criterion(out, train_y)\n",
    "    # Backward:\n",
    "    optimizer.zero_grad()\n",
    "    loss.backward()\n",
    "    optimizer.step()\n",
    "    if (e + 1) % 100 == 0: # print loss every 100 epochs\n",
    "        print('Epoch: {}, Loss: {:.5f}'.format(e + 1, loss.item()))"
   ]
  },
  {
   "cell_type": "code",
   "execution_count": 67,
   "metadata": {
    "colab": {
     "base_uri": "https://localhost:8080/",
     "height": 282
    },
    "id": "pCmE0XdhpwJY",
    "outputId": "0210f2fc-8303-430f-9e70-f4670eb7335e"
   },
   "outputs": [
    {
     "name": "stdout",
     "output_type": "stream",
     "text": [
      "torch.Size([139, 1, 1]) (139,) 144\n"
     ]
    },
    {
     "data": {
      "image/png": "[encoded data removed]",
      "text/plain": [
       "<Figure size 432x288 with 1 Axes>"
      ]
     },
     "metadata": {
      "needs_background": "light"
     },
     "output_type": "display_data"
    }
   ],
   "source": [
    "# Testing on the whole series (70% trained + 30% untrained):\n",
    "net = net.eval() \n",
    "data_X2 = data_X.reshape(-1, 1, window_size)\n",
    "data_X3 = t.from_numpy(data_X2)\n",
    "pred_test1 = net(data_X3) \n",
    "pred_test2 = pred_test1.view(-1).data.numpy() # reshaping to a simple time series\n",
    "print(pred_test1.shape, pred_test2.shape, len(ts))\n",
    "\n",
    "# Visualization:\n",
    "plot(pred_test2, 'r', label='prediction')\n",
    "plot(ts[2:], 'b', label='real');"
   ]
  },
  {
   "cell_type": "markdown",
   "metadata": {
    "id": "y9MMN35Ir10Z"
   },
   "source": [
    "#### 當window size=10"
   ]
  },
  {
   "cell_type": "code",
   "execution_count": 112,
   "metadata": {
    "id": "HGqc_udDsXeB"
   },
   "outputs": [],
   "source": [
    "window_size=10"
   ]
  },
  {
   "cell_type": "code",
   "execution_count": 113,
   "metadata": {
    "colab": {
     "base_uri": "https://localhost:8080/"
    },
    "id": "QIP8ykLjr0LQ",
    "outputId": "e9d3ccd6-5c1b-4344-fe20-4bd53d3d46b0"
   },
   "outputs": [
    {
     "name": "stdout",
     "output_type": "stream",
     "text": [
      "[[0.21621622]\n",
      " [0.22779922]\n",
      " [0.25482625]\n",
      " [0.24903475]\n",
      " [0.23359074]\n",
      " [0.26061776]\n",
      " [0.2857143 ]\n",
      " [0.2857143 ]\n",
      " [0.26254827]\n",
      " [0.22972973]] [0.2007722]\n"
     ]
    }
   ],
   "source": [
    "# Prepare windowed data for our RNN model(s):\n",
    "def create_dataset(dataset, look_back=window_size):\n",
    "    dataX, dataY = [], []\n",
    "    for i in range(len(dataset) - look_back):\n",
    "        a = dataset[i:(i + look_back)]\n",
    "        dataX.append(a)\n",
    "        dataY.append(dataset[i + look_back])\n",
    "    return np.array(dataX), np.array(dataY)\n",
    "\n",
    "data_X, data_Y = create_dataset(ts)\n",
    "\n",
    "print(data_X[0],data_Y[0]) # (Xt-2, Xt-1) -> Xt"
   ]
  },
  {
   "cell_type": "code",
   "execution_count": 114,
   "metadata": {
    "colab": {
     "base_uri": "https://localhost:8080/"
    },
    "id": "6-PiUSCFr0LX",
    "outputId": "64d8041f-8fcc-45e9-b95c-126819e48f0e"
   },
   "outputs": [
    {
     "name": "stdout",
     "output_type": "stream",
     "text": [
      "(93, 10, 1) (93, 1)\n"
     ]
    }
   ],
   "source": [
    "# Train-Test split:\n",
    "train_size = int(len(data_X) * 0.7) # 70% for training\n",
    "test_size = len(data_X) - train_size\n",
    "train_X = data_X[:train_size]\n",
    "train_Y = data_Y[:train_size]\n",
    "test_X = data_X[train_size:]\n",
    "test_Y = data_Y[train_size:]\n",
    "\n",
    "print(train_X.shape,train_Y.shape)"
   ]
  },
  {
   "cell_type": "code",
   "execution_count": 115,
   "metadata": {
    "colab": {
     "base_uri": "https://localhost:8080/"
    },
    "id": "Fh5_TrbFr0LY",
    "outputId": "05fdcf46-b4dc-40d6-9952-07d1a5677652"
   },
   "outputs": [
    {
     "name": "stdout",
     "output_type": "stream",
     "text": [
      "torch.Size([93, 1, 10]) torch.Size([93, 1, 1])\n"
     ]
    }
   ],
   "source": [
    "# Reshape the data into (seq, batch, featue)\n",
    "train_X = train_X.reshape(-1, 1, window_size)\n",
    "train_Y = train_Y.reshape(-1, 1, 1)\n",
    "test_X = test_X.reshape(-1, 1, window_size)\n",
    "\n",
    "train_x = t.from_numpy(train_X)\n",
    "train_y = t.from_numpy(train_Y)\n",
    "test_x = t.from_numpy(test_X)\n",
    "\n",
    "print(train_x.shape,train_y.shape)"
   ]
  },
  {
   "cell_type": "code",
   "execution_count": 116,
   "metadata": {
    "id": "yTA8NlSlr0LZ"
   },
   "outputs": [],
   "source": [
    "class lstm_reg(nn.Module):\n",
    "    def __init__(self, input_size, hidden_size, output_size=1, num_layers=2):\n",
    "        super(lstm_reg, self).__init__()\n",
    "        \n",
    "        self.rnn = nn.LSTM(input_size, hidden_size, num_layers) # rnn\n",
    "        self.reg = nn.Linear(hidden_size, output_size) # regression\n",
    "        \n",
    "    def forward(self, x):\n",
    "        x, _ = self.rnn(x) # (seq, batch, hidden)\n",
    "        s, b, h = x.shape\n",
    "        x = x.view(s*b, h) # flatten\n",
    "        x = self.reg(x)\n",
    "        x = x.view(s, b, -1)\n",
    "        return x"
   ]
  },
  {
   "cell_type": "code",
   "execution_count": 117,
   "metadata": {
    "id": "DRn92Belr0La"
   },
   "outputs": [],
   "source": [
    "net = lstm_reg(input_size=window_size, hidden_size=10)\n",
    "criterion = nn.MSELoss()\n",
    "optimizer = t.optim.Adam(net.parameters(),lr=1e-2)"
   ]
  },
  {
   "cell_type": "code",
   "execution_count": 118,
   "metadata": {
    "colab": {
     "base_uri": "https://localhost:8080/"
    },
    "id": "VFeqgqKlr0Lb",
    "outputId": "7944a4c9-532d-45a9-a0c2-bcd53c8c041d"
   },
   "outputs": [
    {
     "name": "stdout",
     "output_type": "stream",
     "text": [
      "Epoch: 100, Loss: 0.00439\n",
      "Epoch: 200, Loss: 0.00245\n",
      "Epoch: 300, Loss: 0.00116\n",
      "Epoch: 400, Loss: 0.00067\n",
      "Epoch: 500, Loss: 0.00068\n",
      "Epoch: 600, Loss: 0.00058\n",
      "Epoch: 700, Loss: 0.00057\n",
      "Epoch: 800, Loss: 0.00047\n",
      "Epoch: 900, Loss: 0.00052\n",
      "Epoch: 1000, Loss: 0.00038\n"
     ]
    }
   ],
   "source": [
    "# Training:\n",
    "for e in range(1000):\n",
    "    # Forward:\n",
    "    out = net(train_x)\n",
    "    loss = criterion(out, train_y)\n",
    "    # Backward:\n",
    "    optimizer.zero_grad()\n",
    "    loss.backward()\n",
    "    optimizer.step()\n",
    "    if (e + 1) % 100 == 0: # print loss every 100 epochs\n",
    "        print('Epoch: {}, Loss: {:.5f}'.format(e + 1, loss.item()))"
   ]
  },
  {
   "cell_type": "code",
   "execution_count": 119,
   "metadata": {
    "colab": {
     "base_uri": "https://localhost:8080/",
     "height": 282
    },
    "id": "rmCXHCWjr0Lc",
    "outputId": "f85b47bc-d9d8-4740-b32d-c214812bd961"
   },
   "outputs": [
    {
     "name": "stdout",
     "output_type": "stream",
     "text": [
      "torch.Size([134, 1, 1]) (134,) 144\n"
     ]
    },
    {
     "data": {
      "image/png": "[encoded data removed]",
      "text/plain": [
       "<Figure size 432x288 with 1 Axes>"
      ]
     },
     "metadata": {
      "needs_background": "light"
     },
     "output_type": "display_data"
    }
   ],
   "source": [
    "# Testing on the whole series (70% trained + 30% untrained):\n",
    "net = net.eval() \n",
    "data_X2 = data_X.reshape(-1, 1, window_size)\n",
    "data_X3 = t.from_numpy(data_X2)\n",
    "pred_test1 = net(data_X3) \n",
    "pred_test2 = pred_test1.view(-1).data.numpy() # reshaping to a simple time series\n",
    "print(pred_test1.shape, pred_test2.shape, len(ts))\n",
    "\n",
    "# Visualization:\n",
    "plot(pred_test2, 'r', label='prediction')\n",
    "plot(ts[2:], 'b', label='real');"
   ]
  },
  {
   "cell_type": "markdown",
   "metadata": {
    "id": "2DHvCKswttrF"
   },
   "source": [
    "**討論**：<br>\n",
    "根據上方的討論做了其他測試，將time window拉長之後似乎有些微的改善，尤其是=5時的效果比=10來的更好，所以說寬度還是有個極限存在，要使用LSTM模型的話窗戶寬度得適中才行。"
   ]
  }
 ],
 "metadata": {
  "colab": {
   "provenance": []
  },
  "kernelspec": {
   "display_name": "Python 3",
   "language": "python",
   "name": "python3"
  },
  "language_info": {
   "codemirror_mode": {
    "name": "ipython",
    "version": 3
   },
   "file_extension": ".py",
   "mimetype": "text/x-python",
   "name": "python",
   "nbconvert_exporter": "python",
   "pygments_lexer": "ipython3",
   "version": "3.8.3"
  },
  "widgets": {
   "application/vnd.jupyter.widget-state+json": {
    "0e9cff857fac4894b7f3831968b447de": {
     "model_module": "@jupyter-widgets/base",
     "model_module_version": "1.2.0",
     "model_name": "LayoutModel",
     "state": {
      "_model_module": "@jupyter-widgets/base",
      "_model_module_version": "1.2.0",
      "_model_name": "LayoutModel",
      "_view_count": null,
      "_view_module": "@jupyter-widgets/base",
      "_view_module_version": "1.2.0",
      "_view_name": "LayoutView",
      "align_content": null,
      "align_items": null,
      "align_self": null,
      "border": null,
      "bottom": null,
      "display": null,
      "flex": null,
      "flex_flow": null,
      "grid_area": null,
      "grid_auto_columns": null,
      "grid_auto_flow": null,
      "grid_auto_rows": null,
      "grid_column": null,
      "grid_gap": null,
      "grid_row": null,
      "grid_template_areas": null,
      "grid_template_columns": null,
      "grid_template_rows": null,
      "height": null,
      "justify_content": null,
      "justify_items": null,
      "left": null,
      "margin": null,
      "max_height": null,
      "max_width": null,
      "min_height": null,
      "min_width": null,
      "object_fit": null,
      "object_position": null,
      "order": null,
      "overflow": null,
      "overflow_x": null,
      "overflow_y": null,
      "padding": null,
      "right": null,
      "top": null,
      "visibility": null,
      "width": null
     }
    },
    "1172febafc724a98943a5c24ef792fb4": {
     "model_module": "@jupyter-widgets/base",
     "model_module_version": "1.2.0",
     "model_name": "LayoutModel",
     "state": {
      "_model_module": "@jupyter-widgets/base",
      "_model_module_version": "1.2.0",
      "_model_name": "LayoutModel",
      "_view_count": null,
      "_view_module": "@jupyter-widgets/base",
      "_view_module_version": "1.2.0",
      "_view_name": "LayoutView",
      "align_content": null,
      "align_items": null,
      "align_self": null,
      "border": null,
      "bottom": null,
      "display": null,
      "flex": null,
      "flex_flow": null,
      "grid_area": null,
      "grid_auto_columns": null,
      "grid_auto_flow": null,
      "grid_auto_rows": null,
      "grid_column": null,
      "grid_gap": null,
      "grid_row": null,
      "grid_template_areas": null,
      "grid_template_columns": null,
      "grid_template_rows": null,
      "height": null,
      "justify_content": null,
      "justify_items": null,
      "left": null,
      "margin": null,
      "max_height": null,
      "max_width": null,
      "min_height": null,
      "min_width": null,
      "object_fit": null,
      "object_position": null,
      "order": null,
      "overflow": null,
      "overflow_x": null,
      "overflow_y": null,
      "padding": null,
      "right": null,
      "top": null,
      "visibility": null,
      "width": null
     }
    },
    "12e3559bcf9a422180c69c5dde5c9b28": {
     "model_module": "@jupyter-widgets/controls",
     "model_module_version": "1.5.0",
     "model_name": "HBoxModel",
     "state": {
      "_dom_classes": [],
      "_model_module": "@jupyter-widgets/controls",
      "_model_module_version": "1.5.0",
      "_model_name": "HBoxModel",
      "_view_count": null,
      "_view_module": "@jupyter-widgets/controls",
      "_view_module_version": "1.5.0",
      "_view_name": "HBoxView",
      "box_style": "",
      "children": [
       "IPY_MODEL_882ab48fa5ec48f384350d39c38c4cbe",
       "IPY_MODEL_e4798b78f4414073b9c4fc44254240d3",
       "IPY_MODEL_c3b5b02d25714863befd6d9f62a8cd09"
      ],
      "layout": "IPY_MODEL_8a676c24366a44abb658734cc48d08c0"
     }
    },
    "18ea95384a4a44a8858f722ce0232620": {
     "model_module": "@jupyter-widgets/base",
     "model_module_version": "1.2.0",
     "model_name": "LayoutModel",
     "state": {
      "_model_module": "@jupyter-widgets/base",
      "_model_module_version": "1.2.0",
      "_model_name": "LayoutModel",
      "_view_count": null,
      "_view_module": "@jupyter-widgets/base",
      "_view_module_version": "1.2.0",
      "_view_name": "LayoutView",
      "align_content": null,
      "align_items": null,
      "align_self": null,
      "border": null,
      "bottom": null,
      "display": null,
      "flex": null,
      "flex_flow": null,
      "grid_area": null,
      "grid_auto_columns": null,
      "grid_auto_flow": null,
      "grid_auto_rows": null,
      "grid_column": null,
      "grid_gap": null,
      "grid_row": null,
      "grid_template_areas": null,
      "grid_template_columns": null,
      "grid_template_rows": null,
      "height": null,
      "justify_content": null,
      "justify_items": null,
      "left": null,
      "margin": null,
      "max_height": null,
      "max_width": null,
      "min_height": null,
      "min_width": null,
      "object_fit": null,
      "object_position": null,
      "order": null,
      "overflow": null,
      "overflow_x": null,
      "overflow_y": null,
      "padding": null,
      "right": null,
      "top": null,
      "visibility": null,
      "width": null
     }
    },
    "1dff045bcd7b49b2bf9344ba859ef751": {
     "model_module": "@jupyter-widgets/controls",
     "model_module_version": "1.5.0",
     "model_name": "FloatProgressModel",
     "state": {
      "_dom_classes": [],
      "_model_module": "@jupyter-widgets/controls",
      "_model_module_version": "1.5.0",
      "_model_name": "FloatProgressModel",
      "_view_count": null,
      "_view_module": "@jupyter-widgets/controls",
      "_view_module_version": "1.5.0",
      "_view_name": "ProgressView",
      "bar_style": "success",
      "description": "",
      "description_tooltip": null,
      "layout": "IPY_MODEL_801bccdcbafc49bc8e494023f8299700",
      "max": 4542,
      "min": 0,
      "orientation": "horizontal",
      "style": "IPY_MODEL_50038b38bd6c42dcab598b957a141196",
      "value": 4542
     }
    },
    "23d6e85d201442fcbcfaaea48a2f56c4": {
     "model_module": "@jupyter-widgets/controls",
     "model_module_version": "1.5.0",
     "model_name": "DescriptionStyleModel",
     "state": {
      "_model_module": "@jupyter-widgets/controls",
      "_model_module_version": "1.5.0",
      "_model_name": "DescriptionStyleModel",
      "_view_count": null,
      "_view_module": "@jupyter-widgets/base",
      "_view_module_version": "1.2.0",
      "_view_name": "StyleView",
      "description_width": ""
     }
    },
    "27ec089daf894a5197279d072905e7c4": {
     "model_module": "@jupyter-widgets/base",
     "model_module_version": "1.2.0",
     "model_name": "LayoutModel",
     "state": {
      "_model_module": "@jupyter-widgets/base",
      "_model_module_version": "1.2.0",
      "_model_name": "LayoutModel",
      "_view_count": null,
      "_view_module": "@jupyter-widgets/base",
      "_view_module_version": "1.2.0",
      "_view_name": "LayoutView",
      "align_content": null,
      "align_items": null,
      "align_self": null,
      "border": null,
      "bottom": null,
      "display": null,
      "flex": null,
      "flex_flow": null,
      "grid_area": null,
      "grid_auto_columns": null,
      "grid_auto_flow": null,
      "grid_auto_rows": null,
      "grid_column": null,
      "grid_gap": null,
      "grid_row": null,
      "grid_template_areas": null,
      "grid_template_columns": null,
      "grid_template_rows": null,
      "height": null,
      "justify_content": null,
      "justify_items": null,
      "left": null,
      "margin": null,
      "max_height": null,
      "max_width": null,
      "min_height": null,
      "min_width": null,
      "object_fit": null,
      "object_position": null,
      "order": null,
      "overflow": null,
      "overflow_x": null,
      "overflow_y": null,
      "padding": null,
      "right": null,
      "top": null,
      "visibility": null,
      "width": null
     }
    },
    "286432dba3234668a0ab2c2a946c5bea": {
     "model_module": "@jupyter-widgets/controls",
     "model_module_version": "1.5.0",
     "model_name": "ProgressStyleModel",
     "state": {
      "_model_module": "@jupyter-widgets/controls",
      "_model_module_version": "1.5.0",
      "_model_name": "ProgressStyleModel",
      "_view_count": null,
      "_view_module": "@jupyter-widgets/base",
      "_view_module_version": "1.2.0",
      "_view_name": "StyleView",
      "bar_color": null,
      "description_width": ""
     }
    },
    "2fe8b1482e644e6592347e8a99bd5201": {
     "model_module": "@jupyter-widgets/controls",
     "model_module_version": "1.5.0",
     "model_name": "DescriptionStyleModel",
     "state": {
      "_model_module": "@jupyter-widgets/controls",
      "_model_module_version": "1.5.0",
      "_model_name": "DescriptionStyleModel",
      "_view_count": null,
      "_view_module": "@jupyter-widgets/base",
      "_view_module_version": "1.2.0",
      "_view_name": "StyleView",
      "description_width": ""
     }
    },
    "3077a8d73685455bbf546b0957a787b5": {
     "model_module": "@jupyter-widgets/controls",
     "model_module_version": "1.5.0",
     "model_name": "DescriptionStyleModel",
     "state": {
      "_model_module": "@jupyter-widgets/controls",
      "_model_module_version": "1.5.0",
      "_model_name": "DescriptionStyleModel",
      "_view_count": null,
      "_view_module": "@jupyter-widgets/base",
      "_view_module_version": "1.2.0",
      "_view_name": "StyleView",
      "description_width": ""
     }
    },
    "38e1ebba23214907986adc87a8e12e4c": {
     "model_module": "@jupyter-widgets/controls",
     "model_module_version": "1.5.0",
     "model_name": "DescriptionStyleModel",
     "state": {
      "_model_module": "@jupyter-widgets/controls",
      "_model_module_version": "1.5.0",
      "_model_name": "DescriptionStyleModel",
      "_view_count": null,
      "_view_module": "@jupyter-widgets/base",
      "_view_module_version": "1.2.0",
      "_view_name": "StyleView",
      "description_width": ""
     }
    },
    "3ae3068a2ba149c09b5b89793322b6a4": {
     "model_module": "@jupyter-widgets/controls",
     "model_module_version": "1.5.0",
     "model_name": "HTMLModel",
     "state": {
      "_dom_classes": [],
      "_model_module": "@jupyter-widgets/controls",
      "_model_module_version": "1.5.0",
      "_model_name": "HTMLModel",
      "_view_count": null,
      "_view_module": "@jupyter-widgets/controls",
      "_view_module_version": "1.5.0",
      "_view_name": "HTMLView",
      "description": "",
      "description_tooltip": null,
      "layout": "IPY_MODEL_510f67c053f44432a7457f6af632b6a6",
      "placeholder": "​",
      "style": "IPY_MODEL_da9a0f74688c4800828ccf7ee588375a",
      "value": "100%"
     }
    },
    "4f91bed1b9eb4565ad0e28e4104a37b5": {
     "model_module": "@jupyter-widgets/base",
     "model_module_version": "1.2.0",
     "model_name": "LayoutModel",
     "state": {
      "_model_module": "@jupyter-widgets/base",
      "_model_module_version": "1.2.0",
      "_model_name": "LayoutModel",
      "_view_count": null,
      "_view_module": "@jupyter-widgets/base",
      "_view_module_version": "1.2.0",
      "_view_name": "LayoutView",
      "align_content": null,
      "align_items": null,
      "align_self": null,
      "border": null,
      "bottom": null,
      "display": null,
      "flex": null,
      "flex_flow": null,
      "grid_area": null,
      "grid_auto_columns": null,
      "grid_auto_flow": null,
      "grid_auto_rows": null,
      "grid_column": null,
      "grid_gap": null,
      "grid_row": null,
      "grid_template_areas": null,
      "grid_template_columns": null,
      "grid_template_rows": null,
      "height": null,
      "justify_content": null,
      "justify_items": null,
      "left": null,
      "margin": null,
      "max_height": null,
      "max_width": null,
      "min_height": null,
      "min_width": null,
      "object_fit": null,
      "object_position": null,
      "order": null,
      "overflow": null,
      "overflow_x": null,
      "overflow_y": null,
      "padding": null,
      "right": null,
      "top": null,
      "visibility": null,
      "width": null
     }
    },
    "4fd5bdcc268241fa82b28d9341d89a66": {
     "model_module": "@jupyter-widgets/controls",
     "model_module_version": "1.5.0",
     "model_name": "HTMLModel",
     "state": {
      "_dom_classes": [],
      "_model_module": "@jupyter-widgets/controls",
      "_model_module_version": "1.5.0",
      "_model_name": "HTMLModel",
      "_view_count": null,
      "_view_module": "@jupyter-widgets/controls",
      "_view_module_version": "1.5.0",
      "_view_name": "HTMLView",
      "description": "",
      "description_tooltip": null,
      "layout": "IPY_MODEL_584d0a7490fe4707bd8d3cc52e86cc6f",
      "placeholder": "​",
      "style": "IPY_MODEL_8ff50af9be714cdca3f68c7b05c21075",
      "value": " 9912422/9912422 [00:00&lt;00:00, 139447957.35it/s]"
     }
    },
    "50038b38bd6c42dcab598b957a141196": {
     "model_module": "@jupyter-widgets/controls",
     "model_module_version": "1.5.0",
     "model_name": "ProgressStyleModel",
     "state": {
      "_model_module": "@jupyter-widgets/controls",
      "_model_module_version": "1.5.0",
      "_model_name": "ProgressStyleModel",
      "_view_count": null,
      "_view_module": "@jupyter-widgets/base",
      "_view_module_version": "1.2.0",
      "_view_name": "StyleView",
      "bar_color": null,
      "description_width": ""
     }
    },
    "510f67c053f44432a7457f6af632b6a6": {
     "model_module": "@jupyter-widgets/base",
     "model_module_version": "1.2.0",
     "model_name": "LayoutModel",
     "state": {
      "_model_module": "@jupyter-widgets/base",
      "_model_module_version": "1.2.0",
      "_model_name": "LayoutModel",
      "_view_count": null,
      "_view_module": "@jupyter-widgets/base",
      "_view_module_version": "1.2.0",
      "_view_name": "LayoutView",
      "align_content": null,
      "align_items": null,
      "align_self": null,
      "border": null,
      "bottom": null,
      "display": null,
      "flex": null,
      "flex_flow": null,
      "grid_area": null,
      "grid_auto_columns": null,
      "grid_auto_flow": null,
      "grid_auto_rows": null,
      "grid_column": null,
      "grid_gap": null,
      "grid_row": null,
      "grid_template_areas": null,
      "grid_template_columns": null,
      "grid_template_rows": null,
      "height": null,
      "justify_content": null,
      "justify_items": null,
      "left": null,
      "margin": null,
      "max_height": null,
      "max_width": null,
      "min_height": null,
      "min_width": null,
      "object_fit": null,
      "object_position": null,
      "order": null,
      "overflow": null,
      "overflow_x": null,
      "overflow_y": null,
      "padding": null,
      "right": null,
      "top": null,
      "visibility": null,
      "width": null
     }
    },
    "584d0a7490fe4707bd8d3cc52e86cc6f": {
     "model_module": "@jupyter-widgets/base",
     "model_module_version": "1.2.0",
     "model_name": "LayoutModel",
     "state": {
      "_model_module": "@jupyter-widgets/base",
      "_model_module_version": "1.2.0",
      "_model_name": "LayoutModel",
      "_view_count": null,
      "_view_module": "@jupyter-widgets/base",
      "_view_module_version": "1.2.0",
      "_view_name": "LayoutView",
      "align_content": null,
      "align_items": null,
      "align_self": null,
      "border": null,
      "bottom": null,
      "display": null,
      "flex": null,
      "flex_flow": null,
      "grid_area": null,
      "grid_auto_columns": null,
      "grid_auto_flow": null,
      "grid_auto_rows": null,
      "grid_column": null,
      "grid_gap": null,
      "grid_row": null,
      "grid_template_areas": null,
      "grid_template_columns": null,
      "grid_template_rows": null,
      "height": null,
      "justify_content": null,
      "justify_items": null,
      "left": null,
      "margin": null,
      "max_height": null,
      "max_width": null,
      "min_height": null,
      "min_width": null,
      "object_fit": null,
      "object_position": null,
      "order": null,
      "overflow": null,
      "overflow_x": null,
      "overflow_y": null,
      "padding": null,
      "right": null,
      "top": null,
      "visibility": null,
      "width": null
     }
    },
    "79763a70f53245aa91eaac7bd656c3b9": {
     "model_module": "@jupyter-widgets/base",
     "model_module_version": "1.2.0",
     "model_name": "LayoutModel",
     "state": {
      "_model_module": "@jupyter-widgets/base",
      "_model_module_version": "1.2.0",
      "_model_name": "LayoutModel",
      "_view_count": null,
      "_view_module": "@jupyter-widgets/base",
      "_view_module_version": "1.2.0",
      "_view_name": "LayoutView",
      "align_content": null,
      "align_items": null,
      "align_self": null,
      "border": null,
      "bottom": null,
      "display": null,
      "flex": null,
      "flex_flow": null,
      "grid_area": null,
      "grid_auto_columns": null,
      "grid_auto_flow": null,
      "grid_auto_rows": null,
      "grid_column": null,
      "grid_gap": null,
      "grid_row": null,
      "grid_template_areas": null,
      "grid_template_columns": null,
      "grid_template_rows": null,
      "height": null,
      "justify_content": null,
      "justify_items": null,
      "left": null,
      "margin": null,
      "max_height": null,
      "max_width": null,
      "min_height": null,
      "min_width": null,
      "object_fit": null,
      "object_position": null,
      "order": null,
      "overflow": null,
      "overflow_x": null,
      "overflow_y": null,
      "padding": null,
      "right": null,
      "top": null,
      "visibility": null,
      "width": null
     }
    },
    "7ab6db1e23f04bdabba6c529d0d0bab5": {
     "model_module": "@jupyter-widgets/base",
     "model_module_version": "1.2.0",
     "model_name": "LayoutModel",
     "state": {
      "_model_module": "@jupyter-widgets/base",
      "_model_module_version": "1.2.0",
      "_model_name": "LayoutModel",
      "_view_count": null,
      "_view_module": "@jupyter-widgets/base",
      "_view_module_version": "1.2.0",
      "_view_name": "LayoutView",
      "align_content": null,
      "align_items": null,
      "align_self": null,
      "border": null,
      "bottom": null,
      "display": null,
      "flex": null,
      "flex_flow": null,
      "grid_area": null,
      "grid_auto_columns": null,
      "grid_auto_flow": null,
      "grid_auto_rows": null,
      "grid_column": null,
      "grid_gap": null,
      "grid_row": null,
      "grid_template_areas": null,
      "grid_template_columns": null,
      "grid_template_rows": null,
      "height": null,
      "justify_content": null,
      "justify_items": null,
      "left": null,
      "margin": null,
      "max_height": null,
      "max_width": null,
      "min_height": null,
      "min_width": null,
      "object_fit": null,
      "object_position": null,
      "order": null,
      "overflow": null,
      "overflow_x": null,
      "overflow_y": null,
      "padding": null,
      "right": null,
      "top": null,
      "visibility": null,
      "width": null
     }
    },
    "801bccdcbafc49bc8e494023f8299700": {
     "model_module": "@jupyter-widgets/base",
     "model_module_version": "1.2.0",
     "model_name": "LayoutModel",
     "state": {
      "_model_module": "@jupyter-widgets/base",
      "_model_module_version": "1.2.0",
      "_model_name": "LayoutModel",
      "_view_count": null,
      "_view_module": "@jupyter-widgets/base",
      "_view_module_version": "1.2.0",
      "_view_name": "LayoutView",
      "align_content": null,
      "align_items": null,
      "align_self": null,
      "border": null,
      "bottom": null,
      "display": null,
      "flex": null,
      "flex_flow": null,
      "grid_area": null,
      "grid_auto_columns": null,
      "grid_auto_flow": null,
      "grid_auto_rows": null,
      "grid_column": null,
      "grid_gap": null,
      "grid_row": null,
      "grid_template_areas": null,
      "grid_template_columns": null,
      "grid_template_rows": null,
      "height": null,
      "justify_content": null,
      "justify_items": null,
      "left": null,
      "margin": null,
      "max_height": null,
      "max_width": null,
      "min_height": null,
      "min_width": null,
      "object_fit": null,
      "object_position": null,
      "order": null,
      "overflow": null,
      "overflow_x": null,
      "overflow_y": null,
      "padding": null,
      "right": null,
      "top": null,
      "visibility": null,
      "width": null
     }
    },
    "87e6ddd585bd4cd5bd26d3ac5f78aba5": {
     "model_module": "@jupyter-widgets/base",
     "model_module_version": "1.2.0",
     "model_name": "LayoutModel",
     "state": {
      "_model_module": "@jupyter-widgets/base",
      "_model_module_version": "1.2.0",
      "_model_name": "LayoutModel",
      "_view_count": null,
      "_view_module": "@jupyter-widgets/base",
      "_view_module_version": "1.2.0",
      "_view_name": "LayoutView",
      "align_content": null,
      "align_items": null,
      "align_self": null,
      "border": null,
      "bottom": null,
      "display": null,
      "flex": null,
      "flex_flow": null,
      "grid_area": null,
      "grid_auto_columns": null,
      "grid_auto_flow": null,
      "grid_auto_rows": null,
      "grid_column": null,
      "grid_gap": null,
      "grid_row": null,
      "grid_template_areas": null,
      "grid_template_columns": null,
      "grid_template_rows": null,
      "height": null,
      "justify_content": null,
      "justify_items": null,
      "left": null,
      "margin": null,
      "max_height": null,
      "max_width": null,
      "min_height": null,
      "min_width": null,
      "object_fit": null,
      "object_position": null,
      "order": null,
      "overflow": null,
      "overflow_x": null,
      "overflow_y": null,
      "padding": null,
      "right": null,
      "top": null,
      "visibility": null,
      "width": null
     }
    },
    "882ab48fa5ec48f384350d39c38c4cbe": {
     "model_module": "@jupyter-widgets/controls",
     "model_module_version": "1.5.0",
     "model_name": "HTMLModel",
     "state": {
      "_dom_classes": [],
      "_model_module": "@jupyter-widgets/controls",
      "_model_module_version": "1.5.0",
      "_model_name": "HTMLModel",
      "_view_count": null,
      "_view_module": "@jupyter-widgets/controls",
      "_view_module_version": "1.5.0",
      "_view_name": "HTMLView",
      "description": "",
      "description_tooltip": null,
      "layout": "IPY_MODEL_4f91bed1b9eb4565ad0e28e4104a37b5",
      "placeholder": "​",
      "style": "IPY_MODEL_e47d6ae0d8cd4850ab7dbbf40857a4f3",
      "value": "100%"
     }
    },
    "8a676c24366a44abb658734cc48d08c0": {
     "model_module": "@jupyter-widgets/base",
     "model_module_version": "1.2.0",
     "model_name": "LayoutModel",
     "state": {
      "_model_module": "@jupyter-widgets/base",
      "_model_module_version": "1.2.0",
      "_model_name": "LayoutModel",
      "_view_count": null,
      "_view_module": "@jupyter-widgets/base",
      "_view_module_version": "1.2.0",
      "_view_name": "LayoutView",
      "align_content": null,
      "align_items": null,
      "align_self": null,
      "border": null,
      "bottom": null,
      "display": null,
      "flex": null,
      "flex_flow": null,
      "grid_area": null,
      "grid_auto_columns": null,
      "grid_auto_flow": null,
      "grid_auto_rows": null,
      "grid_column": null,
      "grid_gap": null,
      "grid_row": null,
      "grid_template_areas": null,
      "grid_template_columns": null,
      "grid_template_rows": null,
      "height": null,
      "justify_content": null,
      "justify_items": null,
      "left": null,
      "margin": null,
      "max_height": null,
      "max_width": null,
      "min_height": null,
      "min_width": null,
      "object_fit": null,
      "object_position": null,
      "order": null,
      "overflow": null,
      "overflow_x": null,
      "overflow_y": null,
      "padding": null,
      "right": null,
      "top": null,
      "visibility": null,
      "width": null
     }
    },
    "8ff50af9be714cdca3f68c7b05c21075": {
     "model_module": "@jupyter-widgets/controls",
     "model_module_version": "1.5.0",
     "model_name": "DescriptionStyleModel",
     "state": {
      "_model_module": "@jupyter-widgets/controls",
      "_model_module_version": "1.5.0",
      "_model_name": "DescriptionStyleModel",
      "_view_count": null,
      "_view_module": "@jupyter-widgets/base",
      "_view_module_version": "1.2.0",
      "_view_name": "StyleView",
      "description_width": ""
     }
    },
    "9d20da15cefd47e6a123364f13ca9734": {
     "model_module": "@jupyter-widgets/controls",
     "model_module_version": "1.5.0",
     "model_name": "HBoxModel",
     "state": {
      "_dom_classes": [],
      "_model_module": "@jupyter-widgets/controls",
      "_model_module_version": "1.5.0",
      "_model_name": "HBoxModel",
      "_view_count": null,
      "_view_module": "@jupyter-widgets/controls",
      "_view_module_version": "1.5.0",
      "_view_name": "HBoxView",
      "box_style": "",
      "children": [
       "IPY_MODEL_ec42f1b15a744ebaa3cf8b9ff0dee106",
       "IPY_MODEL_f3c92769ade442b0a91cde785be0a6a2",
       "IPY_MODEL_4fd5bdcc268241fa82b28d9341d89a66"
      ],
      "layout": "IPY_MODEL_0e9cff857fac4894b7f3831968b447de"
     }
    },
    "a258e86c825d435c81fdff743a8948cd": {
     "model_module": "@jupyter-widgets/controls",
     "model_module_version": "1.5.0",
     "model_name": "DescriptionStyleModel",
     "state": {
      "_model_module": "@jupyter-widgets/controls",
      "_model_module_version": "1.5.0",
      "_model_name": "DescriptionStyleModel",
      "_view_count": null,
      "_view_module": "@jupyter-widgets/base",
      "_view_module_version": "1.2.0",
      "_view_name": "StyleView",
      "description_width": ""
     }
    },
    "a9151eeb5c31411b9f3ac7ad3d8ce371": {
     "model_module": "@jupyter-widgets/base",
     "model_module_version": "1.2.0",
     "model_name": "LayoutModel",
     "state": {
      "_model_module": "@jupyter-widgets/base",
      "_model_module_version": "1.2.0",
      "_model_name": "LayoutModel",
      "_view_count": null,
      "_view_module": "@jupyter-widgets/base",
      "_view_module_version": "1.2.0",
      "_view_name": "LayoutView",
      "align_content": null,
      "align_items": null,
      "align_self": null,
      "border": null,
      "bottom": null,
      "display": null,
      "flex": null,
      "flex_flow": null,
      "grid_area": null,
      "grid_auto_columns": null,
      "grid_auto_flow": null,
      "grid_auto_rows": null,
      "grid_column": null,
      "grid_gap": null,
      "grid_row": null,
      "grid_template_areas": null,
      "grid_template_columns": null,
      "grid_template_rows": null,
      "height": null,
      "justify_content": null,
      "justify_items": null,
      "left": null,
      "margin": null,
      "max_height": null,
      "max_width": null,
      "min_height": null,
      "min_width": null,
      "object_fit": null,
      "object_position": null,
      "order": null,
      "overflow": null,
      "overflow_x": null,
      "overflow_y": null,
      "padding": null,
      "right": null,
      "top": null,
      "visibility": null,
      "width": null
     }
    },
    "aa4646704a454ec2b5272fbbcf63e8c6": {
     "model_module": "@jupyter-widgets/controls",
     "model_module_version": "1.5.0",
     "model_name": "HTMLModel",
     "state": {
      "_dom_classes": [],
      "_model_module": "@jupyter-widgets/controls",
      "_model_module_version": "1.5.0",
      "_model_name": "HTMLModel",
      "_view_count": null,
      "_view_module": "@jupyter-widgets/controls",
      "_view_module_version": "1.5.0",
      "_view_name": "HTMLView",
      "description": "",
      "description_tooltip": null,
      "layout": "IPY_MODEL_7ab6db1e23f04bdabba6c529d0d0bab5",
      "placeholder": "​",
      "style": "IPY_MODEL_38e1ebba23214907986adc87a8e12e4c",
      "value": " 4542/4542 [00:00&lt;00:00, 102160.21it/s]"
     }
    },
    "ae97e6d140694e5eb6b7e314253ab10f": {
     "model_module": "@jupyter-widgets/controls",
     "model_module_version": "1.5.0",
     "model_name": "HBoxModel",
     "state": {
      "_dom_classes": [],
      "_model_module": "@jupyter-widgets/controls",
      "_model_module_version": "1.5.0",
      "_model_name": "HBoxModel",
      "_view_count": null,
      "_view_module": "@jupyter-widgets/controls",
      "_view_module_version": "1.5.0",
      "_view_name": "HBoxView",
      "box_style": "",
      "children": [
       "IPY_MODEL_b58d3ea3d59c41ccaa458d5936e6fce7",
       "IPY_MODEL_1dff045bcd7b49b2bf9344ba859ef751",
       "IPY_MODEL_aa4646704a454ec2b5272fbbcf63e8c6"
      ],
      "layout": "IPY_MODEL_1172febafc724a98943a5c24ef792fb4"
     }
    },
    "b208897fa87642feaf4d1fd226638a56": {
     "model_module": "@jupyter-widgets/controls",
     "model_module_version": "1.5.0",
     "model_name": "HBoxModel",
     "state": {
      "_dom_classes": [],
      "_model_module": "@jupyter-widgets/controls",
      "_model_module_version": "1.5.0",
      "_model_name": "HBoxModel",
      "_view_count": null,
      "_view_module": "@jupyter-widgets/controls",
      "_view_module_version": "1.5.0",
      "_view_name": "HBoxView",
      "box_style": "",
      "children": [
       "IPY_MODEL_3ae3068a2ba149c09b5b89793322b6a4",
       "IPY_MODEL_fbb77889ac89480bb2cb21890a5f9c9f",
       "IPY_MODEL_de4944cd77134b52afdae03e9dbe9a5e"
      ],
      "layout": "IPY_MODEL_a9151eeb5c31411b9f3ac7ad3d8ce371"
     }
    },
    "b58d3ea3d59c41ccaa458d5936e6fce7": {
     "model_module": "@jupyter-widgets/controls",
     "model_module_version": "1.5.0",
     "model_name": "HTMLModel",
     "state": {
      "_dom_classes": [],
      "_model_module": "@jupyter-widgets/controls",
      "_model_module_version": "1.5.0",
      "_model_name": "HTMLModel",
      "_view_count": null,
      "_view_module": "@jupyter-widgets/controls",
      "_view_module_version": "1.5.0",
      "_view_name": "HTMLView",
      "description": "",
      "description_tooltip": null,
      "layout": "IPY_MODEL_18ea95384a4a44a8858f722ce0232620",
      "placeholder": "​",
      "style": "IPY_MODEL_23d6e85d201442fcbcfaaea48a2f56c4",
      "value": "100%"
     }
    },
    "b7a2a9d23093420eb10c609371862147": {
     "model_module": "@jupyter-widgets/base",
     "model_module_version": "1.2.0",
     "model_name": "LayoutModel",
     "state": {
      "_model_module": "@jupyter-widgets/base",
      "_model_module_version": "1.2.0",
      "_model_name": "LayoutModel",
      "_view_count": null,
      "_view_module": "@jupyter-widgets/base",
      "_view_module_version": "1.2.0",
      "_view_name": "LayoutView",
      "align_content": null,
      "align_items": null,
      "align_self": null,
      "border": null,
      "bottom": null,
      "display": null,
      "flex": null,
      "flex_flow": null,
      "grid_area": null,
      "grid_auto_columns": null,
      "grid_auto_flow": null,
      "grid_auto_rows": null,
      "grid_column": null,
      "grid_gap": null,
      "grid_row": null,
      "grid_template_areas": null,
      "grid_template_columns": null,
      "grid_template_rows": null,
      "height": null,
      "justify_content": null,
      "justify_items": null,
      "left": null,
      "margin": null,
      "max_height": null,
      "max_width": null,
      "min_height": null,
      "min_width": null,
      "object_fit": null,
      "object_position": null,
      "order": null,
      "overflow": null,
      "overflow_x": null,
      "overflow_y": null,
      "padding": null,
      "right": null,
      "top": null,
      "visibility": null,
      "width": null
     }
    },
    "c3b5b02d25714863befd6d9f62a8cd09": {
     "model_module": "@jupyter-widgets/controls",
     "model_module_version": "1.5.0",
     "model_name": "HTMLModel",
     "state": {
      "_dom_classes": [],
      "_model_module": "@jupyter-widgets/controls",
      "_model_module_version": "1.5.0",
      "_model_name": "HTMLModel",
      "_view_count": null,
      "_view_module": "@jupyter-widgets/controls",
      "_view_module_version": "1.5.0",
      "_view_name": "HTMLView",
      "description": "",
      "description_tooltip": null,
      "layout": "IPY_MODEL_27ec089daf894a5197279d072905e7c4",
      "placeholder": "​",
      "style": "IPY_MODEL_2fe8b1482e644e6592347e8a99bd5201",
      "value": " 28881/28881 [00:00&lt;00:00, 928335.34it/s]"
     }
    },
    "da9a0f74688c4800828ccf7ee588375a": {
     "model_module": "@jupyter-widgets/controls",
     "model_module_version": "1.5.0",
     "model_name": "DescriptionStyleModel",
     "state": {
      "_model_module": "@jupyter-widgets/controls",
      "_model_module_version": "1.5.0",
      "_model_name": "DescriptionStyleModel",
      "_view_count": null,
      "_view_module": "@jupyter-widgets/base",
      "_view_module_version": "1.2.0",
      "_view_name": "StyleView",
      "description_width": ""
     }
    },
    "de4944cd77134b52afdae03e9dbe9a5e": {
     "model_module": "@jupyter-widgets/controls",
     "model_module_version": "1.5.0",
     "model_name": "HTMLModel",
     "state": {
      "_dom_classes": [],
      "_model_module": "@jupyter-widgets/controls",
      "_model_module_version": "1.5.0",
      "_model_name": "HTMLModel",
      "_view_count": null,
      "_view_module": "@jupyter-widgets/controls",
      "_view_module_version": "1.5.0",
      "_view_name": "HTMLView",
      "description": "",
      "description_tooltip": null,
      "layout": "IPY_MODEL_87e6ddd585bd4cd5bd26d3ac5f78aba5",
      "placeholder": "​",
      "style": "IPY_MODEL_3077a8d73685455bbf546b0957a787b5",
      "value": " 1648877/1648877 [00:00&lt;00:00, 44049141.40it/s]"
     }
    },
    "e4798b78f4414073b9c4fc44254240d3": {
     "model_module": "@jupyter-widgets/controls",
     "model_module_version": "1.5.0",
     "model_name": "FloatProgressModel",
     "state": {
      "_dom_classes": [],
      "_model_module": "@jupyter-widgets/controls",
      "_model_module_version": "1.5.0",
      "_model_name": "FloatProgressModel",
      "_view_count": null,
      "_view_module": "@jupyter-widgets/controls",
      "_view_module_version": "1.5.0",
      "_view_name": "ProgressView",
      "bar_style": "success",
      "description": "",
      "description_tooltip": null,
      "layout": "IPY_MODEL_fa51a187ceca44bcaf5126a3debbaa95",
      "max": 28881,
      "min": 0,
      "orientation": "horizontal",
      "style": "IPY_MODEL_286432dba3234668a0ab2c2a946c5bea",
      "value": 28881
     }
    },
    "e47d6ae0d8cd4850ab7dbbf40857a4f3": {
     "model_module": "@jupyter-widgets/controls",
     "model_module_version": "1.5.0",
     "model_name": "DescriptionStyleModel",
     "state": {
      "_model_module": "@jupyter-widgets/controls",
      "_model_module_version": "1.5.0",
      "_model_name": "DescriptionStyleModel",
      "_view_count": null,
      "_view_module": "@jupyter-widgets/base",
      "_view_module_version": "1.2.0",
      "_view_name": "StyleView",
      "description_width": ""
     }
    },
    "eb1f7ddebd094d9f8722292143e9bf65": {
     "model_module": "@jupyter-widgets/controls",
     "model_module_version": "1.5.0",
     "model_name": "ProgressStyleModel",
     "state": {
      "_model_module": "@jupyter-widgets/controls",
      "_model_module_version": "1.5.0",
      "_model_name": "ProgressStyleModel",
      "_view_count": null,
      "_view_module": "@jupyter-widgets/base",
      "_view_module_version": "1.2.0",
      "_view_name": "StyleView",
      "bar_color": null,
      "description_width": ""
     }
    },
    "ec42f1b15a744ebaa3cf8b9ff0dee106": {
     "model_module": "@jupyter-widgets/controls",
     "model_module_version": "1.5.0",
     "model_name": "HTMLModel",
     "state": {
      "_dom_classes": [],
      "_model_module": "@jupyter-widgets/controls",
      "_model_module_version": "1.5.0",
      "_model_name": "HTMLModel",
      "_view_count": null,
      "_view_module": "@jupyter-widgets/controls",
      "_view_module_version": "1.5.0",
      "_view_name": "HTMLView",
      "description": "",
      "description_tooltip": null,
      "layout": "IPY_MODEL_b7a2a9d23093420eb10c609371862147",
      "placeholder": "​",
      "style": "IPY_MODEL_a258e86c825d435c81fdff743a8948cd",
      "value": "100%"
     }
    },
    "eeb47c5562cc4251af20ccd5d36e27a6": {
     "model_module": "@jupyter-widgets/controls",
     "model_module_version": "1.5.0",
     "model_name": "ProgressStyleModel",
     "state": {
      "_model_module": "@jupyter-widgets/controls",
      "_model_module_version": "1.5.0",
      "_model_name": "ProgressStyleModel",
      "_view_count": null,
      "_view_module": "@jupyter-widgets/base",
      "_view_module_version": "1.2.0",
      "_view_name": "StyleView",
      "bar_color": null,
      "description_width": ""
     }
    },
    "f3c92769ade442b0a91cde785be0a6a2": {
     "model_module": "@jupyter-widgets/controls",
     "model_module_version": "1.5.0",
     "model_name": "FloatProgressModel",
     "state": {
      "_dom_classes": [],
      "_model_module": "@jupyter-widgets/controls",
      "_model_module_version": "1.5.0",
      "_model_name": "FloatProgressModel",
      "_view_count": null,
      "_view_module": "@jupyter-widgets/controls",
      "_view_module_version": "1.5.0",
      "_view_name": "ProgressView",
      "bar_style": "success",
      "description": "",
      "description_tooltip": null,
      "layout": "IPY_MODEL_79763a70f53245aa91eaac7bd656c3b9",
      "max": 9912422,
      "min": 0,
      "orientation": "horizontal",
      "style": "IPY_MODEL_eb1f7ddebd094d9f8722292143e9bf65",
      "value": 9912422
     }
    },
    "f5fcbfda030d4a82a86550458bbbdc02": {
     "model_module": "@jupyter-widgets/base",
     "model_module_version": "1.2.0",
     "model_name": "LayoutModel",
     "state": {
      "_model_module": "@jupyter-widgets/base",
      "_model_module_version": "1.2.0",
      "_model_name": "LayoutModel",
      "_view_count": null,
      "_view_module": "@jupyter-widgets/base",
      "_view_module_version": "1.2.0",
      "_view_name": "LayoutView",
      "align_content": null,
      "align_items": null,
      "align_self": null,
      "border": null,
      "bottom": null,
      "display": null,
      "flex": null,
      "flex_flow": null,
      "grid_area": null,
      "grid_auto_columns": null,
      "grid_auto_flow": null,
      "grid_auto_rows": null,
      "grid_column": null,
      "grid_gap": null,
      "grid_row": null,
      "grid_template_areas": null,
      "grid_template_columns": null,
      "grid_template_rows": null,
      "height": null,
      "justify_content": null,
      "justify_items": null,
      "left": null,
      "margin": null,
      "max_height": null,
      "max_width": null,
      "min_height": null,
      "min_width": null,
      "object_fit": null,
      "object_position": null,
      "order": null,
      "overflow": null,
      "overflow_x": null,
      "overflow_y": null,
      "padding": null,
      "right": null,
      "top": null,
      "visibility": null,
      "width": null
     }
    },
    "fa51a187ceca44bcaf5126a3debbaa95": {
     "model_module": "@jupyter-widgets/base",
     "model_module_version": "1.2.0",
     "model_name": "LayoutModel",
     "state": {
      "_model_module": "@jupyter-widgets/base",
      "_model_module_version": "1.2.0",
      "_model_name": "LayoutModel",
      "_view_count": null,
      "_view_module": "@jupyter-widgets/base",
      "_view_module_version": "1.2.0",
      "_view_name": "LayoutView",
      "align_content": null,
      "align_items": null,
      "align_self": null,
      "border": null,
      "bottom": null,
      "display": null,
      "flex": null,
      "flex_flow": null,
      "grid_area": null,
      "grid_auto_columns": null,
      "grid_auto_flow": null,
      "grid_auto_rows": null,
      "grid_column": null,
      "grid_gap": null,
      "grid_row": null,
      "grid_template_areas": null,
      "grid_template_columns": null,
      "grid_template_rows": null,
      "height": null,
      "justify_content": null,
      "justify_items": null,
      "left": null,
      "margin": null,
      "max_height": null,
      "max_width": null,
      "min_height": null,
      "min_width": null,
      "object_fit": null,
      "object_position": null,
      "order": null,
      "overflow": null,
      "overflow_x": null,
      "overflow_y": null,
      "padding": null,
      "right": null,
      "top": null,
      "visibility": null,
      "width": null
     }
    },
    "fbb77889ac89480bb2cb21890a5f9c9f": {
     "model_module": "@jupyter-widgets/controls",
     "model_module_version": "1.5.0",
     "model_name": "FloatProgressModel",
     "state": {
      "_dom_classes": [],
      "_model_module": "@jupyter-widgets/controls",
      "_model_module_version": "1.5.0",
      "_model_name": "FloatProgressModel",
      "_view_count": null,
      "_view_module": "@jupyter-widgets/controls",
      "_view_module_version": "1.5.0",
      "_view_name": "ProgressView",
      "bar_style": "success",
      "description": "",
      "description_tooltip": null,
      "layout": "IPY_MODEL_f5fcbfda030d4a82a86550458bbbdc02",
      "max": 1648877,
      "min": 0,
      "orientation": "horizontal",
      "style": "IPY_MODEL_eeb47c5562cc4251af20ccd5d36e27a6",
      "value": 1648877
     }
    }
   }
  }
 },
 "nbformat": 4,
 "nbformat_minor": 4
}
