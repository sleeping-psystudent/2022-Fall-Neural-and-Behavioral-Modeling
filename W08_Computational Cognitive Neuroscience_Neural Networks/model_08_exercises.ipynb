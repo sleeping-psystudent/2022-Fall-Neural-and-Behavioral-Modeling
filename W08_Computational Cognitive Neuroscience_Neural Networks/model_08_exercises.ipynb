{
 "cells": [
  {
   "cell_type": "markdown",
   "metadata": {},
   "source": [
    "# Neural & Behavioral Modeling - Week 8 (Exercises)\n",
    "by 李采蓉 b08207042@ntu.edu.tw"
   ]
  },
  {
   "cell_type": "code",
   "execution_count": 1,
   "metadata": {},
   "outputs": [],
   "source": [
    "%config IPCompleter.greedy=True \n",
    "%matplotlib inline\n",
    "from numpy import *\n",
    "from matplotlib.pyplot import *\n",
    "from IPython.display import *"
   ]
  },
  {
   "cell_type": "markdown",
   "metadata": {},
   "source": [
    "## 1 InStar Learning (4 points)\n",
    "Try to replicate Fig.2 of <a href=https://arxiv.org/pdf/1612.03270.pdf>[1]</a> = Fig. 3A of <a href=https://sci-hub.se/10.1126/science.1212003>[2]</a>:\n",
    "\n",
    "[1] Huang, T. R. (2016). Hebbian plasticity for improving perceptual decisions. arXiv preprint arXiv:1612.03270.\n",
    "\n",
    "[2] Shibata, K., Watanabe, T., Sasaki, Y., & Kawato, M. (2011). Perceptual learning incepted by decoded fMRI neurofeedback without stimulus presentation. Science, 334(6061), 1413-1415."
   ]
  },
  {
   "cell_type": "code",
   "execution_count": 17,
   "metadata": {},
   "outputs": [],
   "source": [
    "# Write your simulation here:\n",
    "W=random.rand(3) # initial weights\n",
    "pre_1=[]\n",
    "post_1=[]\n",
    "x_ori=array([[0,1,0],[0,1,0],[0,1,0]])\n",
    "x_test=array([[1,0,0],[0,1,0],[0,0,1]])\n",
    "for i in range(10): # 10 trials\n",
    "    for Noi in [4, 6, 8, 12]:\n",
    "        if i==0:\n",
    "            x=x_test+(array([[1,1,1],[1,1,1],[1,1,1]])*0.1/Noi)\n",
    "            y=dot(W,x)\n",
    "            W_t=W+y*(x-W)\n",
    "            cor=0\n",
    "            for k in range(3):\n",
    "                for n in range(3):\n",
    "                    if W_t[k][n]>=x_ori[k][n]-0.15 and W_t[k][n]<=x_ori[k][n]+0.15:\n",
    "                        cor+=1\n",
    "            accuracy=cor/9\n",
    "            pre_1.append(accuracy)\n",
    "        x=x_ori+(array([[1,1,1],[1,1,1],[1,1,1]])*0.1/Noi) # same stimulus + noise\n",
    "        y=dot(W,x) # the only postsynaptic neuron\n",
    "        W=W+y*(x-W) # postsynaptically gated InStar \n",
    "        if i==9:\n",
    "            x=x_test+(array([[1,1,1],[1,1,1],[1,1,1]])*0.1/Noi)\n",
    "            y=dot(W,x)\n",
    "            W_t=W+y*(x-W)\n",
    "            cor=0\n",
    "            for k in range(3):\n",
    "                for n in range(3):\n",
    "                    if W_t[k][n]>=x_ori[k][n]-0.15 and W_t[k][n]<=x_ori[k][n]+0.15:\n",
    "                        cor+=1\n",
    "            accuracy=cor/9\n",
    "            post_1.append(accuracy)"
   ]
  },
  {
   "cell_type": "code",
   "execution_count": 18,
   "metadata": {},
   "outputs": [],
   "source": [
    "W=random.rand(3) # initial weights\n",
    "pre_2=[]\n",
    "post_2=[]\n",
    "x_ori=array([[0,1,0],[0,1,0],[0,1,0]])\n",
    "x_test=array([[0,1,0],[0,1,0],[0,1,0]])\n",
    "for i in range(10): # 10 trials\n",
    "    for Noi in [4, 6, 8, 12]:\n",
    "        if i==0:\n",
    "            x=x_test+(array([[1,1,1],[1,1,1],[1,1,1]])*0.1/Noi)\n",
    "            y=dot(W,x)\n",
    "            W_t=W+y*(x-W)\n",
    "            cor=0\n",
    "            for k in range(3):\n",
    "                for n in range(3):\n",
    "                    if W_t[k][n]>=x_ori[k][n]-0.15 and W_t[k][n]<=x_ori[k][n]+0.15:\n",
    "                        cor+=1\n",
    "            accuracy=cor/9\n",
    "            pre_2.append(accuracy)\n",
    "        x=x_ori+(array([[1,1,1],[1,1,1],[1,1,1]])*0.1/Noi) # same stimulus + noise\n",
    "        y=dot(W,x) # the only postsynaptic neuron\n",
    "        W=W+y*(x-W) # postsynaptically gated InStar \n",
    "        if i==9:\n",
    "            x=x_test+(array([[1,1,1],[1,1,1],[1,1,1]])*0.1/Noi)\n",
    "            y=dot(W,x)\n",
    "            W_t=W+y*(x-W)\n",
    "            cor=0\n",
    "            for k in range(3):\n",
    "                for n in range(3):\n",
    "                    if W_t[k][n]>=x_ori[k][n]-0.15 and W_t[k][n]<=x_ori[k][n]+0.15:\n",
    "                        cor+=1\n",
    "            accuracy=cor/9\n",
    "            post_2.append(accuracy)"
   ]
  },
  {
   "cell_type": "code",
   "execution_count": 19,
   "metadata": {},
   "outputs": [],
   "source": [
    "W=random.rand(3) # initial weights\n",
    "pre_3=[]\n",
    "post_3=[]\n",
    "x_ori=array([[0,1,0],[0,1,0],[0,1,0]])\n",
    "x_test=array([[0,0,1],[0,1,0],[1,0,0]])\n",
    "for i in range(10): # 10 trials\n",
    "    for Noi in [4, 6, 8, 12]:\n",
    "        if i==0:\n",
    "            x=x_test+(array([[1,1,1],[1,1,1],[1,1,1]])*0.1/Noi)\n",
    "            y=dot(W,x)\n",
    "            W_t=W+y*(x-W)\n",
    "            cor=0\n",
    "            for k in range(3):\n",
    "                for n in range(3):\n",
    "                    if W_t[k][n]>=x_ori[k][n]-0.15 and W_t[k][n]<=x_ori[k][n]+0.15:\n",
    "                        cor+=1\n",
    "            accuracy=cor/9\n",
    "            pre_3.append(accuracy)\n",
    "        x=x_ori+(array([[1,1,1],[1,1,1],[1,1,1]])*0.1/Noi) # same stimulus + noise\n",
    "        y=dot(W,x) # the only postsynaptic neuron\n",
    "        W=W+y*(x-W) # postsynaptically gated InStar \n",
    "        if i==9:\n",
    "            x=x_test+(array([[1,1,1],[1,1,1],[1,1,1]])*0.1/Noi)\n",
    "            y=dot(W,x)\n",
    "            W_t=W+y*(x-W)\n",
    "            cor=0\n",
    "            for k in range(3):\n",
    "                for n in range(3):\n",
    "                    if W_t[k][n]>=x_ori[k][n]-0.15 and W_t[k][n]<=x_ori[k][n]+0.15:\n",
    "                        cor+=1\n",
    "            accuracy=cor/9\n",
    "            post_3.append(accuracy)"
   ]
  },
  {
   "cell_type": "code",
   "execution_count": 20,
   "metadata": {},
   "outputs": [
    {
     "data": {
      "text/plain": [
       "<matplotlib.legend.Legend at 0x1a20585f2b0>"
      ]
     },
     "execution_count": 20,
     "metadata": {},
     "output_type": "execute_result"
    },
    {
     "data": {
      "image/png": "[encoded data removed]",
      "text/plain": [
       "<Figure size 648x432 with 3 Axes>"
      ]
     },
     "metadata": {
      "needs_background": "light"
     },
     "output_type": "display_data"
    }
   ],
   "source": [
    "figure(figsize=(9, 6))\n",
    "subplot(131)\n",
    "xticks([4,6,8,12])\n",
    "ylim(0, 1.02)\n",
    "xlabel('S/N ration (%)')\n",
    "ylabel('Accuracy')\n",
    "plot([4,6,8,12], pre_1, color='blue', linestyle=\"-\", linewidth=\"2\", markersize=\"16\", marker=\".\", label='pre-test')\n",
    "plot([4,6,8,12], post_1, color='red', linestyle=\"-\", linewidth=\"2\", markersize=\"16\", marker=\".\", label='post-test')\n",
    "legend()\n",
    "\n",
    "subplot(132)\n",
    "xticks([4,6,8,12])\n",
    "ylim(0, 1.02)\n",
    "xlabel('S/N ration (%)')\n",
    "plot([4,6,8,12], pre_2, color='blue', linestyle=\"-\", linewidth=\"2\", markersize=\"16\", marker=\".\", label='pre-test')\n",
    "plot([4,6,8,12], post_2, color='red', linestyle=\"-\", linewidth=\"2\", markersize=\"16\", marker=\".\", label='post-test')\n",
    "legend()\n",
    "\n",
    "subplot(133)\n",
    "xticks([4,6,8,12])\n",
    "ylim(0, 1.02)\n",
    "xlabel('S/N ration (%)')\n",
    "plot([4,6,8,12], pre_3, color='blue', linestyle=\"-\", linewidth=\"2\", markersize=\"16\", marker=\".\", label='pre-test')\n",
    "plot([4,6,8,12], post_3, color='red', linestyle=\"-\", linewidth=\"2\", markersize=\"16\", marker=\".\", label='post-label')\n",
    "legend()"
   ]
  },
  {
   "cell_type": "markdown",
   "metadata": {},
   "source": [
    "## 2 PyTorch (4 points)\n",
    "Read <a href=\"https://www.pytorchtutorial.com/pytorch-for-numpy-users/\">this tutorial</a> first and port the following Instar Learning from NumPy to PyTorch:"
   ]
  },
  {
   "cell_type": "code",
   "execution_count": 8,
   "metadata": {},
   "outputs": [
    {
     "name": "stdout",
     "output_type": "stream",
     "text": [
      "[0.36490153 0.5352851  0.50694818] 0.5520803268677825\n",
      "[0.23212107 0.41734972 0.5535899 ] 0.5012445899125249\n",
      "[0.16862752 0.36095485 0.57589325] 0.480570962355711\n",
      "[0.13632557 0.33226431 0.58723994] 0.4706851551798439\n",
      "[0.11941035 0.31724024 0.59318173] 0.4656558112558983\n",
      "[0.11042293 0.30925763 0.59633874] 0.4630221498772228\n",
      "[0.10561147 0.3049841  0.59802886] 0.4616228275438199\n",
      "[0.10302529 0.30268706 0.59893731] 0.46087369330442574\n",
      "[0.10163223 0.30144975 0.59942665] 0.4604710310443997\n",
      "[0.10088099 0.30078249 0.59969054] 0.460254134893731\n"
     ]
    }
   ],
   "source": [
    "# Instar learning:\n",
    "x=array([0.1,0.3,0.6])\n",
    "W=random.rand(3)\n",
    "for i in range(10): # trials \n",
    "    y=dot(W,x) \n",
    "    W+=y*(x-W) # postsynaptically gated InStar \n",
    "    print(W,y)"
   ]
  },
  {
   "cell_type": "code",
   "execution_count": null,
   "metadata": {},
   "outputs": [],
   "source": [
    "### Write your PyTorch codes here\n",
    "import torch as t"
   ]
  }
 ],
 "metadata": {
  "kernelspec": {
   "display_name": "Python 3",
   "language": "python",
   "name": "python3"
  },
  "language_info": {
   "codemirror_mode": {
    "name": "ipython",
    "version": 3
   },
   "file_extension": ".py",
   "mimetype": "text/x-python",
   "name": "python",
   "nbconvert_exporter": "python",
   "pygments_lexer": "ipython3",
   "version": "3.8.3"
  }
 },
 "nbformat": 4,
 "nbformat_minor": 4
}
