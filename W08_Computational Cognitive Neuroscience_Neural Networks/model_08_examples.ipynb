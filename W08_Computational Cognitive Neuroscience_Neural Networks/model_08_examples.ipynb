{
 "cells": [
  {
   "cell_type": "markdown",
   "metadata": {},
   "source": [
    "# Neural & Behavioral Modeling - Week 8 (Examples)\n",
    "by Tsung-Ren (Tren) Huang (trhuang@g.ntu.edu.tw)"
   ]
  },
  {
   "cell_type": "code",
   "execution_count": 77,
   "metadata": {},
   "outputs": [],
   "source": [
    "%config IPCompleter.greedy=True \n",
    "%matplotlib inline\n",
    "from numpy import *\n",
    "from numpy.linalg import norm\n",
    "from matplotlib.pyplot import *\n",
    "from IPython.display import *\n",
    "from time import sleep\n",
    "from mpl_toolkits.mplot3d import Axes3D"
   ]
  },
  {
   "cell_type": "markdown",
   "metadata": {},
   "source": [
    "## 1 Neural Computation"
   ]
  },
  {
   "cell_type": "markdown",
   "metadata": {},
   "source": [
    "### 1.1 Logic Operations"
   ]
  },
  {
   "cell_type": "code",
   "execution_count": 2,
   "metadata": {},
   "outputs": [
    {
     "name": "stdout",
     "output_type": "stream",
     "text": [
      "(0, 0) -> 0\n",
      "(1, 0) -> 0\n",
      "(0, 1) -> 0\n",
      "(1, 1) -> 1\n"
     ]
    }
   ],
   "source": [
    "# Supporting functions: -----------------------\n",
    "def AND(x1, x2):\n",
    "    x = np.array([x1, x2])\n",
    "    w = np.array([0.5, 0.5])\n",
    "    b = -0.7\n",
    "    tmp = np.sum(w*x) + b\n",
    "    if tmp <= 0:\n",
    "        return 0\n",
    "    else:\n",
    "        return 1\n",
    "\n",
    "def OR(x1, x2):\n",
    "    x = np.array([x1, x2])\n",
    "    w = np.array([0.5, 0.5])\n",
    "    b = -0.2\n",
    "    tmp = np.sum(w*x) + b\n",
    "    if tmp <= 0:\n",
    "        return 0\n",
    "    else:\n",
    "        return 1\n",
    "    \n",
    "def NAND(x1, x2):\n",
    "    x = np.array([x1, x2])\n",
    "    w = np.array([-0.5, -0.5])\n",
    "    b = 0.7\n",
    "    tmp = np.sum(w*x) + b\n",
    "    if tmp <= 0:\n",
    "        return 0\n",
    "    else:\n",
    "        return 1\n",
    "    \n",
    "def XOR(x1, x2):\n",
    "    s1 = NAND(x1, x2)\n",
    "    s2 = OR(x1, x2)\n",
    "    y = AND(s1, s2)\n",
    "    return y\n",
    "#----------------------------------------------\n",
    "\n",
    "for xs in [(0, 0), (1, 0), (0, 1), (1, 1)]:\n",
    "    y = AND(xs[0], xs[1]) # try AND, OR, NAND\n",
    "    print(str(xs) + \" -> \" + str(y))"
   ]
  },
  {
   "cell_type": "markdown",
   "metadata": {},
   "source": [
    "### 1.2 Pattern Recognition"
   ]
  },
  {
   "cell_type": "code",
   "execution_count": 3,
   "metadata": {},
   "outputs": [
    {
     "name": "stdout",
     "output_type": "stream",
     "text": [
      "[[0.]\n",
      " [1.]\n",
      " [0.]]\n"
     ]
    }
   ],
   "source": [
    "RETINA=matrix('0 0 0 0 0;0 0 1 0 0;0 1 1 1 0')\n",
    "LGN_RF=matrix('0;-0.5;1;-0.5;0')\n",
    "LGN_RESPONSE=RETINA*LGN_RF\n",
    "print(LGN_RESPONSE)"
   ]
  },
  {
   "cell_type": "markdown",
   "metadata": {},
   "source": [
    "### 1.3 Perceptron w/o learning"
   ]
  },
  {
   "cell_type": "code",
   "execution_count": 20,
   "metadata": {},
   "outputs": [
    {
     "name": "stdout",
     "output_type": "stream",
     "text": [
      "-1\n",
      "-1\n",
      "1\n",
      "1\n",
      "1\n"
     ]
    },
    {
     "data": {
      "image/png": "[encoded data removed]",
      "text/plain": [
       "<Figure size 432x288 with 1 Axes>"
      ]
     },
     "metadata": {
      "needs_background": "light"
     },
     "output_type": "display_data"
    }
   ],
   "source": [
    "X = array([   #[x1,x2,bias]\n",
    "    [-2,4, 1], \n",
    "    [4, 1, 1],\n",
    "    [1, 6, 1],\n",
    "    [2, 4, 1],\n",
    "    [6, 2, 1],\n",
    "])\n",
    "\n",
    "y = array([-1,-1,1,1,1]) # ground-truth category\n",
    "\n",
    "# The hand-written, magic hyperplane:\n",
    "w=[2, 3, -13] # w0x0+w1x1+w2=0 or 2x+3y-13=0\n",
    "\n",
    "\n",
    "# Testing:\n",
    "for i, x in enumerate(X):\n",
    "    print(sign(dot(x, w))) \n",
    "    \n",
    "# Ploting:\n",
    "for i, x in enumerate(X): # samples\n",
    "    if(i<2): scatter(x[0],x[1],marker='_',color='r') # the first two points belong to \"-\"\n",
    "    else: scatter(x[0],x[1],marker='+',color='b') # the last three points belong to \"+\"\n",
    "plot([0,13/2],[13/3,0],'g'); # Two points of the hyperplane: [x1,x2],[y1,y2]"
   ]
  },
  {
   "cell_type": "markdown",
   "metadata": {},
   "source": [
    "## 2 Unsupervised Learning"
   ]
  },
  {
   "cell_type": "markdown",
   "metadata": {},
   "source": [
    "### 2.1 Hopfield Network (Attractor Network)"
   ]
  },
  {
   "cell_type": "code",
   "execution_count": 24,
   "metadata": {},
   "outputs": [
    {
     "data": {
      "image/png": "[encoded data removed]",
      "text/plain": [
       "<Figure size 432x288 with 6 Axes>"
      ]
     },
     "metadata": {
      "needs_background": "light"
     },
     "output_type": "display_data"
    }
   ],
   "source": [
    "p=array([ # try replacing -1 to 0\n",
    "    \n",
    "    [-1,1,-1,\n",
    "     -1,1,-1,\n",
    "     -1,1,-1], # 3x3 pattern 1 \n",
    "    \n",
    "    [-1,-1,-1,\n",
    "      1, 1, 1,\n",
    "     -1,-1,-1], # 3x3 pattern 2\n",
    "    \n",
    "    [1,-1 ,1,\n",
    "    -1, 1,-1,\n",
    "     1,-1,1],   # 3x3 pattern 3\n",
    "])\n",
    "\n",
    "# Visualize the patterns to be remembered:\n",
    "w=zeros([9,9]);\n",
    "for i in range(3):\n",
    "    subplot(2,3,i+1);\n",
    "    imshow(p[i].reshape((3,3)),cmap='gray')\n",
    "    w=w+outer(p[i],p[i]); # learning\n",
    "\n",
    "# Retrieval cue:\n",
    "subplot(2,3,4)\n",
    "cue=array([0,0.6,0,0,0.4,0,0,0,0])\n",
    "imshow(cue.reshape((3,3)),cmap='gray')\n",
    "\n",
    "# Iterative Recalls:\n",
    "for t in [2,3]:\n",
    "    subplot(2,3,t+3);\n",
    "    cue=matmul(w,cue)>0\n",
    "    imshow(cue.reshape((3,3)),cmap='gray')"
   ]
  },
  {
   "cell_type": "markdown",
   "metadata": {},
   "source": [
    "### 2.2 Instar Learning"
   ]
  },
  {
   "cell_type": "code",
   "execution_count": 88,
   "metadata": {},
   "outputs": [
    {
     "name": "stdout",
     "output_type": "stream",
     "text": [
      "[0.05885367 0.98582468 0.01494412] 0.8534874007797129\n",
      "[0.07840188 1.00747769 0.0328789 ] 0.9983398192389511\n",
      "[0.04960559 1.05054862 0.05722872] 1.061736646445776\n",
      "[0.08028951 1.05776876 0.09993117] 1.119704365769269\n",
      "[0.02104296 0.9988096  0.07695216] 1.0704582010338428\n",
      "[0.02980672 1.10372343 0.07826856] 1.099546843351853\n",
      "[ 0.02605435  1.00205885 -0.00113788] 1.1193193374790924\n",
      "[0.03690523 1.09444938 0.0782685 ] 1.0899211599851109\n",
      "[0.00766746 1.00166781 0.05851734] 1.1115955731657121\n",
      "[0.08057929 1.05764989 0.10152366] 1.0624934502452745\n"
     ]
    }
   ],
   "source": [
    "W=random.rand(3) # random initial weights\n",
    "for i in range(10): # 10 trials \n",
    "    x=array([0,1,0])+0.1*random.rand(3) # same stimulus + noise\n",
    "    y=dot(W,x) # the only postsynaptic neuron\n",
    "    W=W+y*(x-W) # postsynaptically gated InStar \n",
    "    print(W,y)"
   ]
  },
  {
   "cell_type": "markdown",
   "metadata": {},
   "source": [
    "### 2.3 Self-Organizing Map"
   ]
  },
  {
   "cell_type": "code",
   "execution_count": 112,
   "metadata": {},
   "outputs": [
    {
     "data": {
      "image/png": "[encoded data removed]",
      "text/plain": [
       "<Figure size 432x288 with 1 Axes>"
      ]
     },
     "metadata": {
      "needs_background": "light"
     },
     "output_type": "display_data"
    }
   ],
   "source": [
    "# 2D Kohonen SOM:\n",
    "nn=10 # 10x10 neurons\n",
    "lmbda=0.2 # learning rate\n",
    "sig=4.0 # sigma of the neighbor function\n",
    "[X,Y]=meshgrid(range(nn),range(nn)) # topological coordiates (x,y) of neurons\n",
    "\n",
    "# Each neuron's initially preferred features: (w1,w2), namly random values around [0.5, 0.5]\n",
    "w1=0.5-0.1*(random.rand(nn,nn)-0.5); # Xs of 10x10 neurons\n",
    "w2=0.5-0.1*(random.rand(nn,nn)-0.5); # Ys of 10x10 neurons\n",
    "\n",
    "# Training:\n",
    "for t in range(5000):\n",
    "    x=0.5*random.rand(2) # Generating a stimulus's feature vector [0~0.5, 0~0.5]\n",
    "    r=exp(-(w1-x[0])**2-(w2-x[1])**2); # neurons' responses to stimuli using a Gaussian tuning/response function\n",
    "    yx=where(r==amax(r)) # The winner = The maximally responding neuron\n",
    "    N=exp(-((X-yx[1][0])**2+(Y-yx[0][0])**2)/sig) # topological neighborhood function\n",
    "    w1=w1+lmbda*N*(x[0]-w1); # Kohonen learning of inputs' Xs\n",
    "    w2=w2+lmbda*N*(x[1]-w2); # Kohonen learning of inputs' Ys\n",
    "    if(mod(t,100)==0): # Plot the grid of feature centers every 100 trials\n",
    "        clf() # clear previous figure\n",
    "        plot(w1,w2,'ro'); # plot the tuning features (w1,w2) of each neuron \n",
    "        plot(w1,w2,'k'); # plot the horizontal connections\n",
    "        plot(w1.T,w2.T,'k'); # plot the vertical connections\n",
    "        axis([0,1,0,1]); title(str(t)+' : '+str(x))\n",
    "        display(gcf()); clear_output(wait=True) # to allow dynamic plots"
   ]
  }
 ],
 "metadata": {
  "kernelspec": {
   "display_name": "Python 3",
   "language": "python",
   "name": "python3"
  },
  "language_info": {
   "codemirror_mode": {
    "name": "ipython",
    "version": 3
   },
   "file_extension": ".py",
   "mimetype": "text/x-python",
   "name": "python",
   "nbconvert_exporter": "python",
   "pygments_lexer": "ipython3",
   "version": "3.8.3"
  }
 },
 "nbformat": 4,
 "nbformat_minor": 4
}
